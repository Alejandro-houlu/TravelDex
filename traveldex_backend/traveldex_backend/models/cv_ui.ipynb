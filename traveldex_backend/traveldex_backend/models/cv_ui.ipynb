{
 "cells": [
  {
   "cell_type": "markdown",
   "id": "76f68873-b708-40f6-9311-ed56b753f71d",
   "metadata": {},
   "source": [
    "https://www.youtube.com/watch?v=aBVGKoNZQUw"
   ]
  },
  {
   "cell_type": "code",
   "execution_count": null,
   "id": "01eb147f-ca48-48e0-b4f3-479c41156fb9",
   "metadata": {
    "scrolled": true
   },
   "outputs": [],
   "source": [
    "import cv2\n",
    "import numpy as np\n",
    "from ultralytics import YOLO\n",
    "# from inference import get_model\n",
    "import supervision as sv\n",
    "import torch\n",
    "import torchvision\n",
    "import os\n",
    "import matplotlib.pyplot as plt\n",
    "from tqdm import tqdm\n",
    "\n",
    "print('PyTorch version:', torch.__version__)\n",
    "print('PyTorch Cuda eligibility:', torch.version.cuda)\n",
    "print('Torchvision version:', torchvision.__version__)\n",
    "device = 'cuda' if torch.cuda.is_available() else 'cpu'\n",
    "print('Device is:', device, '\\n')\n",
    "print(os.getcwd())"
   ]
  },
  {
   "cell_type": "code",
   "execution_count": 109,
   "id": "fa614cbd-2718-460f-a398-cdbf370baf10",
   "metadata": {},
   "outputs": [],
   "source": [
    "model = YOLO(\"runs/detect/train3/weights/best.pt\")\n",
    "SOURCE_VIDEO_PATH = \"sample/online_video_1.mp4\"\n",
    "TARGET_VIDEO_PATH = \"sample/online_video_1_result_1.mp4\""
   ]
  },
  {
   "cell_type": "code",
   "execution_count": 118,
   "id": "8b6df1de-963b-4449-ba4d-f74b015b0f22",
   "metadata": {},
   "outputs": [
    {
     "name": "stdout",
     "output_type": "stream",
     "text": [
      "Font path '<TTF_FONT_PATH>' not found. Using PIL's default font.\n"
     ]
    },
    {
     "name": "stderr",
     "output_type": "stream",
     "text": [
      "  0%|                                                                                          | 0/207 [00:00<?, ?it/s]"
     ]
    },
    {
     "name": "stdout",
     "output_type": "stream",
     "text": [
      "\n",
      "0: 384x640 1 art_sci_museum, 1 helix_bridge, 1 lv_marina_bay, 1 mbs, 1 mbs_hotel, 1 sg_river, 33.8ms\n",
      "Speed: 2.7ms preprocess, 33.8ms inference, 3.6ms postprocess per image at shape (1, 3, 384, 640)\n"
     ]
    },
    {
     "name": "stderr",
     "output_type": "stream",
     "text": [
      "  0%|▍                                                                                 | 1/207 [00:00<00:53,  3.86it/s]"
     ]
    },
    {
     "name": "stdout",
     "output_type": "stream",
     "text": [
      "\n",
      "0: 384x640 1 art_sci_museum, 1 helix_bridge, 1 mbs, 1 mbs_hotel, 1 sg_river, 42.6ms\n",
      "Speed: 2.0ms preprocess, 42.6ms inference, 3.0ms postprocess per image at shape (1, 3, 384, 640)\n"
     ]
    },
    {
     "name": "stderr",
     "output_type": "stream",
     "text": [
      "  1%|▊                                                                                 | 2/207 [00:00<00:41,  4.98it/s]"
     ]
    },
    {
     "name": "stdout",
     "output_type": "stream",
     "text": [
      "\n",
      "0: 384x640 1 art_sci_museum, 2 helix_bridges, 1 mbs, 1 mbs_hotel, 1 sg_river, 36.2ms\n",
      "Speed: 1.9ms preprocess, 36.2ms inference, 4.0ms postprocess per image at shape (1, 3, 384, 640)\n"
     ]
    },
    {
     "name": "stderr",
     "output_type": "stream",
     "text": [
      "  1%|█▏                                                                                | 3/207 [00:00<00:35,  5.78it/s]"
     ]
    },
    {
     "name": "stdout",
     "output_type": "stream",
     "text": [
      "\n",
      "0: 384x640 1 art_sci_museum, 1 helix_bridge, 1 mbs, 1 mbs_hotel, 1 sg_river, 55.0ms\n",
      "Speed: 2.1ms preprocess, 55.0ms inference, 2.8ms postprocess per image at shape (1, 3, 384, 640)\n"
     ]
    },
    {
     "name": "stderr",
     "output_type": "stream",
     "text": [
      "  2%|█▌                                                                                | 4/207 [00:00<00:33,  6.02it/s]"
     ]
    },
    {
     "name": "stdout",
     "output_type": "stream",
     "text": [
      "\n",
      "0: 384x640 1 art_sci_museum, 2 helix_bridges, 1 mbs, 1 mbs_hotel, 1 sg_river, 34.6ms\n",
      "Speed: 2.1ms preprocess, 34.6ms inference, 2.4ms postprocess per image at shape (1, 3, 384, 640)\n"
     ]
    },
    {
     "name": "stderr",
     "output_type": "stream",
     "text": [
      "  2%|█▉                                                                                | 5/207 [00:00<00:31,  6.50it/s]"
     ]
    },
    {
     "name": "stdout",
     "output_type": "stream",
     "text": [
      "\n",
      "0: 384x640 1 apple_marina_bay, 1 art_sci_museum, 1 helix_bridge, 1 mbs, 1 mbs_hotel, 1 sg_river, 37.4ms\n",
      "Speed: 1.9ms preprocess, 37.4ms inference, 4.0ms postprocess per image at shape (1, 3, 384, 640)\n"
     ]
    },
    {
     "name": "stderr",
     "output_type": "stream",
     "text": [
      "  3%|██▍                                                                               | 6/207 [00:00<00:30,  6.55it/s]"
     ]
    },
    {
     "name": "stdout",
     "output_type": "stream",
     "text": [
      "\n",
      "0: 384x640 1 apple_marina_bay, 1 art_sci_museum, 1 flyer, 2 helix_bridges, 1 mbs, 1 mbs_hotel, 1 sg_river, 41.7ms\n",
      "Speed: 2.1ms preprocess, 41.7ms inference, 3.3ms postprocess per image at shape (1, 3, 384, 640)\n"
     ]
    },
    {
     "name": "stderr",
     "output_type": "stream",
     "text": [
      "  3%|██▊                                                                               | 7/207 [00:01<00:28,  6.95it/s]"
     ]
    },
    {
     "name": "stdout",
     "output_type": "stream",
     "text": [
      "\n",
      "0: 384x640 1 apple_marina_bay, 1 art_sci_museum, 2 helix_bridges, 1 mbs, 1 mbs_hotel, 1 sg_river, 24.0ms\n",
      "Speed: 1.8ms preprocess, 24.0ms inference, 2.8ms postprocess per image at shape (1, 3, 384, 640)\n"
     ]
    },
    {
     "name": "stderr",
     "output_type": "stream",
     "text": [
      "  4%|███▏                                                                              | 8/207 [00:01<00:26,  7.41it/s]"
     ]
    },
    {
     "name": "stdout",
     "output_type": "stream",
     "text": [
      "\n",
      "0: 384x640 1 apple_marina_bay, 1 art_sci_museum, 2 helix_bridges, 1 mbs, 1 mbs_hotel, 1 sg_river, 30.4ms\n",
      "Speed: 1.8ms preprocess, 30.4ms inference, 2.1ms postprocess per image at shape (1, 3, 384, 640)\n"
     ]
    },
    {
     "name": "stderr",
     "output_type": "stream",
     "text": [
      "  4%|███▌                                                                              | 9/207 [00:01<00:26,  7.43it/s]"
     ]
    },
    {
     "name": "stdout",
     "output_type": "stream",
     "text": [
      "\n",
      "0: 384x640 1 apple_marina_bay, 1 art_sci_museum, 2 helix_bridges, 1 mbs, 1 mbs_hotel, 1 sg_river, 25.3ms\n",
      "Speed: 1.7ms preprocess, 25.3ms inference, 2.2ms postprocess per image at shape (1, 3, 384, 640)\n"
     ]
    },
    {
     "name": "stderr",
     "output_type": "stream",
     "text": [
      "  5%|███▉                                                                             | 10/207 [00:01<00:26,  7.43it/s]"
     ]
    },
    {
     "name": "stdout",
     "output_type": "stream",
     "text": [
      "\n",
      "0: 384x640 1 apple_marina_bay, 1 art_sci_museum, 2 helix_bridges, 1 mbs, 1 mbs_hotel, 1 sg_river, 23.6ms\n",
      "Speed: 1.9ms preprocess, 23.6ms inference, 1.5ms postprocess per image at shape (1, 3, 384, 640)\n"
     ]
    },
    {
     "name": "stderr",
     "output_type": "stream",
     "text": [
      "  5%|████▎                                                                            | 11/207 [00:01<00:25,  7.57it/s]"
     ]
    },
    {
     "name": "stdout",
     "output_type": "stream",
     "text": [
      "\n",
      "0: 384x640 1 apple_marina_bay, 1 art_sci_museum, 2 helix_bridges, 2 lv_marina_bays, 1 mbs, 1 mbs_hotel, 1 sg_river, 27.7ms\n",
      "Speed: 2.0ms preprocess, 27.7ms inference, 2.5ms postprocess per image at shape (1, 3, 384, 640)\n"
     ]
    },
    {
     "name": "stderr",
     "output_type": "stream",
     "text": [
      "  6%|████▋                                                                            | 12/207 [00:01<00:25,  7.69it/s]"
     ]
    },
    {
     "name": "stdout",
     "output_type": "stream",
     "text": [
      "\n",
      "0: 384x640 1 art_sci_museum, 2 helix_bridges, 1 mbs, 1 mbs_hotel, 1 sg_river, 25.3ms\n",
      "Speed: 2.0ms preprocess, 25.3ms inference, 2.6ms postprocess per image at shape (1, 3, 384, 640)\n"
     ]
    },
    {
     "name": "stderr",
     "output_type": "stream",
     "text": [
      "  6%|█████                                                                            | 13/207 [00:01<00:23,  8.22it/s]"
     ]
    },
    {
     "name": "stdout",
     "output_type": "stream",
     "text": [
      "\n",
      "0: 384x640 1 apple_marina_bay, 1 art_sci_museum, 2 helix_bridges, 1 mbs, 1 mbs_hotel, 1 sg_river, 35.0ms\n",
      "Speed: 2.0ms preprocess, 35.0ms inference, 3.6ms postprocess per image at shape (1, 3, 384, 640)\n"
     ]
    },
    {
     "name": "stderr",
     "output_type": "stream",
     "text": [
      "  7%|█████▍                                                                           | 14/207 [00:01<00:24,  7.88it/s]"
     ]
    },
    {
     "name": "stdout",
     "output_type": "stream",
     "text": [
      "\n",
      "0: 384x640 1 apple_marina_bay, 1 art_sci_museum, 2 helix_bridges, 1 lv_marina_bay, 1 mbs, 1 mbs_hotel, 1 sg_river, 28.1ms\n",
      "Speed: 1.9ms preprocess, 28.1ms inference, 2.2ms postprocess per image at shape (1, 3, 384, 640)\n"
     ]
    },
    {
     "name": "stderr",
     "output_type": "stream",
     "text": [
      "  7%|█████▊                                                                           | 15/207 [00:02<00:24,  7.76it/s]"
     ]
    },
    {
     "name": "stdout",
     "output_type": "stream",
     "text": [
      "\n",
      "0: 384x640 1 apple_marina_bay, 1 art_sci_museum, 1 helix_bridge, 1 mbs, 1 mbs_hotel, 1 sg_river, 23.3ms\n",
      "Speed: 1.9ms preprocess, 23.3ms inference, 1.7ms postprocess per image at shape (1, 3, 384, 640)\n"
     ]
    },
    {
     "name": "stderr",
     "output_type": "stream",
     "text": [
      "  8%|██████▎                                                                          | 16/207 [00:02<00:24,  7.83it/s]"
     ]
    },
    {
     "name": "stdout",
     "output_type": "stream",
     "text": [
      "\n",
      "0: 384x640 1 apple_marina_bay, 1 art_sci_museum, 1 helix_bridge, 1 mbs, 1 mbs_hotel, 1 sg_river, 30.1ms\n",
      "Speed: 1.8ms preprocess, 30.1ms inference, 3.0ms postprocess per image at shape (1, 3, 384, 640)\n"
     ]
    },
    {
     "name": "stderr",
     "output_type": "stream",
     "text": [
      "  8%|██████▋                                                                          | 17/207 [00:02<00:24,  7.62it/s]"
     ]
    },
    {
     "name": "stdout",
     "output_type": "stream",
     "text": [
      "\n",
      "0: 384x640 1 apple_marina_bay, 1 art_sci_museum, 2 helix_bridges, 1 mbs, 1 mbs_hotel, 1 sg_river, 25.3ms\n",
      "Speed: 2.1ms preprocess, 25.3ms inference, 1.9ms postprocess per image at shape (1, 3, 384, 640)\n"
     ]
    },
    {
     "name": "stderr",
     "output_type": "stream",
     "text": [
      "  9%|███████                                                                          | 18/207 [00:02<00:24,  7.74it/s]"
     ]
    },
    {
     "name": "stdout",
     "output_type": "stream",
     "text": [
      "\n",
      "0: 384x640 1 apple_marina_bay, 1 art_sci_museum, 2 helix_bridges, 1 lv_marina_bay, 1 mbs, 1 mbs_hotel, 1 sg_river, 23.7ms\n",
      "Speed: 2.5ms preprocess, 23.7ms inference, 1.9ms postprocess per image at shape (1, 3, 384, 640)\n"
     ]
    },
    {
     "name": "stderr",
     "output_type": "stream",
     "text": [
      "  9%|███████▍                                                                         | 19/207 [00:02<00:24,  7.55it/s]"
     ]
    },
    {
     "name": "stdout",
     "output_type": "stream",
     "text": [
      "\n",
      "0: 384x640 1 apple_marina_bay, 1 art_sci_museum, 2 helix_bridges, 1 mbs, 1 mbs_hotel, 1 sg_river, 25.6ms\n",
      "Speed: 2.2ms preprocess, 25.6ms inference, 2.2ms postprocess per image at shape (1, 3, 384, 640)\n"
     ]
    },
    {
     "name": "stderr",
     "output_type": "stream",
     "text": [
      " 10%|███████▊                                                                         | 20/207 [00:02<00:24,  7.66it/s]"
     ]
    },
    {
     "name": "stdout",
     "output_type": "stream",
     "text": [
      "\n",
      "0: 384x640 1 apple_marina_bay, 1 art_sci_museum, 1 helix_bridge, 1 lv_marina_bay, 1 mbs, 1 mbs_hotel, 1 sg_river, 25.1ms\n",
      "Speed: 2.9ms preprocess, 25.1ms inference, 2.3ms postprocess per image at shape (1, 3, 384, 640)\n"
     ]
    },
    {
     "name": "stderr",
     "output_type": "stream",
     "text": [
      " 10%|████████▏                                                                        | 21/207 [00:02<00:24,  7.64it/s]"
     ]
    },
    {
     "name": "stdout",
     "output_type": "stream",
     "text": [
      "\n",
      "0: 384x640 1 apple_marina_bay, 1 art_sci_museum, 1 helix_bridge, 1 lv_marina_bay, 1 mbs, 1 mbs_hotel, 1 sg_river, 25.1ms\n",
      "Speed: 2.3ms preprocess, 25.1ms inference, 2.5ms postprocess per image at shape (1, 3, 384, 640)\n"
     ]
    },
    {
     "name": "stderr",
     "output_type": "stream",
     "text": [
      " 11%|████████▌                                                                        | 22/207 [00:03<00:24,  7.49it/s]"
     ]
    },
    {
     "name": "stdout",
     "output_type": "stream",
     "text": [
      "\n",
      "0: 384x640 1 apple_marina_bay, 1 art_sci_museum, 1 helix_bridge, 2 lv_marina_bays, 1 mbs, 1 mbs_hotel, 1 sg_river, 35.2ms\n",
      "Speed: 2.5ms preprocess, 35.2ms inference, 3.9ms postprocess per image at shape (1, 3, 384, 640)\n"
     ]
    },
    {
     "name": "stderr",
     "output_type": "stream",
     "text": [
      " 11%|█████████                                                                        | 23/207 [00:03<00:25,  7.25it/s]"
     ]
    },
    {
     "name": "stdout",
     "output_type": "stream",
     "text": [
      "\n",
      "0: 384x640 1 apple_marina_bay, 1 art_sci_museum, 1 helix_bridge, 1 lv_marina_bay, 1 mbs, 1 mbs_hotel, 1 sg_river, 26.0ms\n",
      "Speed: 2.3ms preprocess, 26.0ms inference, 2.3ms postprocess per image at shape (1, 3, 384, 640)\n"
     ]
    },
    {
     "name": "stderr",
     "output_type": "stream",
     "text": [
      " 12%|█████████▍                                                                       | 24/207 [00:03<00:24,  7.40it/s]"
     ]
    },
    {
     "name": "stdout",
     "output_type": "stream",
     "text": [
      "\n",
      "0: 384x640 1 apple_marina_bay, 1 art_sci_museum, 1 helix_bridge, 1 mbs, 1 mbs_hotel, 1 sg_river, 27.9ms\n",
      "Speed: 2.3ms preprocess, 27.9ms inference, 2.4ms postprocess per image at shape (1, 3, 384, 640)\n"
     ]
    },
    {
     "name": "stderr",
     "output_type": "stream",
     "text": [
      " 12%|█████████▊                                                                       | 25/207 [00:03<00:24,  7.30it/s]"
     ]
    },
    {
     "name": "stdout",
     "output_type": "stream",
     "text": [
      "\n",
      "0: 384x640 1 apple_marina_bay, 1 art_sci_museum, 1 helix_bridge, 1 lv_marina_bay, 1 mbs, 1 mbs_hotel, 1 sg_river, 42.4ms\n",
      "Speed: 3.0ms preprocess, 42.4ms inference, 4.3ms postprocess per image at shape (1, 3, 384, 640)\n"
     ]
    },
    {
     "name": "stderr",
     "output_type": "stream",
     "text": [
      " 13%|██████████▏                                                                      | 26/207 [00:03<00:26,  6.89it/s]"
     ]
    },
    {
     "name": "stdout",
     "output_type": "stream",
     "text": [
      "\n",
      "0: 384x640 1 apple_marina_bay, 1 art_sci_museum, 1 helix_bridge, 1 mbs, 1 mbs_hotel, 1 sg_river, 30.8ms\n",
      "Speed: 2.4ms preprocess, 30.8ms inference, 2.6ms postprocess per image at shape (1, 3, 384, 640)\n"
     ]
    },
    {
     "name": "stderr",
     "output_type": "stream",
     "text": [
      " 13%|██████████▌                                                                      | 27/207 [00:03<00:25,  7.05it/s]"
     ]
    },
    {
     "name": "stdout",
     "output_type": "stream",
     "text": [
      "\n",
      "0: 384x640 1 apple_marina_bay, 1 art_sci_museum, 1 helix_bridge, 1 lv_marina_bay, 1 mbs, 1 mbs_hotel, 1 sg_river, 25.0ms\n",
      "Speed: 2.4ms preprocess, 25.0ms inference, 1.9ms postprocess per image at shape (1, 3, 384, 640)\n"
     ]
    },
    {
     "name": "stderr",
     "output_type": "stream",
     "text": [
      " 14%|██████████▉                                                                      | 28/207 [00:03<00:25,  7.15it/s]"
     ]
    },
    {
     "name": "stdout",
     "output_type": "stream",
     "text": [
      "\n",
      "0: 384x640 1 apple_marina_bay, 1 art_sci_museum, 1 helix_bridge, 1 lv_marina_bay, 1 mbs, 1 mbs_hotel, 1 sg_river, 24.6ms\n",
      "Speed: 2.1ms preprocess, 24.6ms inference, 2.1ms postprocess per image at shape (1, 3, 384, 640)\n"
     ]
    },
    {
     "name": "stderr",
     "output_type": "stream",
     "text": [
      " 14%|███████████▎                                                                     | 29/207 [00:04<00:24,  7.14it/s]"
     ]
    },
    {
     "name": "stdout",
     "output_type": "stream",
     "text": [
      "\n",
      "0: 384x640 1 apple_marina_bay, 1 art_sci_museum, 1 helix_bridge, 1 lv_marina_bay, 1 mbs, 1 mbs_hotel, 1 sg_river, 27.2ms\n",
      "Speed: 4.0ms preprocess, 27.2ms inference, 2.9ms postprocess per image at shape (1, 3, 384, 640)\n"
     ]
    },
    {
     "name": "stderr",
     "output_type": "stream",
     "text": [
      " 14%|███████████▋                                                                     | 30/207 [00:04<00:25,  7.04it/s]"
     ]
    },
    {
     "name": "stdout",
     "output_type": "stream",
     "text": [
      "\n",
      "0: 384x640 1 apple_marina_bay, 1 art_sci_museum, 1 helix_bridge, 1 lv_marina_bay, 1 mbs, 1 mbs_hotel, 1 sg_river, 25.4ms\n",
      "Speed: 2.6ms preprocess, 25.4ms inference, 2.5ms postprocess per image at shape (1, 3, 384, 640)\n"
     ]
    },
    {
     "name": "stderr",
     "output_type": "stream",
     "text": [
      " 15%|████████████▏                                                                    | 31/207 [00:04<00:24,  7.27it/s]"
     ]
    },
    {
     "name": "stdout",
     "output_type": "stream",
     "text": [
      "\n",
      "0: 384x640 1 apple_marina_bay, 1 art_sci_museum, 1 helix_bridge, 1 lv_marina_bay, 1 mbs, 1 mbs_hotel, 1 sg_river, 22.7ms\n",
      "Speed: 2.5ms preprocess, 22.7ms inference, 2.1ms postprocess per image at shape (1, 3, 384, 640)\n"
     ]
    },
    {
     "name": "stderr",
     "output_type": "stream",
     "text": [
      " 15%|████████████▌                                                                    | 32/207 [00:04<00:23,  7.49it/s]"
     ]
    },
    {
     "name": "stdout",
     "output_type": "stream",
     "text": [
      "\n",
      "0: 384x640 1 apple_marina_bay, 1 art_sci_museum, 1 helix_bridge, 1 lv_marina_bay, 1 mbs, 1 mbs_hotel, 1 sg_river, 21.0ms\n",
      "Speed: 2.3ms preprocess, 21.0ms inference, 2.1ms postprocess per image at shape (1, 3, 384, 640)\n"
     ]
    },
    {
     "name": "stderr",
     "output_type": "stream",
     "text": [
      " 16%|████████████▉                                                                    | 33/207 [00:04<00:22,  7.71it/s]"
     ]
    },
    {
     "name": "stdout",
     "output_type": "stream",
     "text": [
      "\n",
      "0: 384x640 1 apple_marina_bay, 1 art_sci_museum, 1 helix_bridge, 1 lv_marina_bay, 1 mbs, 1 mbs_hotel, 1 sg_river, 24.4ms\n",
      "Speed: 2.4ms preprocess, 24.4ms inference, 2.2ms postprocess per image at shape (1, 3, 384, 640)\n"
     ]
    },
    {
     "name": "stderr",
     "output_type": "stream",
     "text": [
      " 16%|█████████████▎                                                                   | 34/207 [00:04<00:22,  7.69it/s]"
     ]
    },
    {
     "name": "stdout",
     "output_type": "stream",
     "text": [
      "\n",
      "0: 384x640 1 apple_marina_bay, 1 art_sci_museum, 1 helix_bridge, 1 lv_marina_bay, 1 mbs, 1 mbs_hotel, 1 sg_river, 34.9ms\n",
      "Speed: 2.5ms preprocess, 34.9ms inference, 4.0ms postprocess per image at shape (1, 3, 384, 640)\n"
     ]
    },
    {
     "name": "stderr",
     "output_type": "stream",
     "text": [
      " 17%|█████████████▋                                                                   | 35/207 [00:04<00:23,  7.44it/s]"
     ]
    },
    {
     "name": "stdout",
     "output_type": "stream",
     "text": [
      "\n",
      "0: 384x640 1 apple_marina_bay, 1 art_sci_museum, 1 helix_bridge, 1 lv_marina_bay, 1 mbs, 1 mbs_hotel, 1 sg_river, 28.0ms\n",
      "Speed: 2.3ms preprocess, 28.0ms inference, 1.6ms postprocess per image at shape (1, 3, 384, 640)\n"
     ]
    },
    {
     "name": "stderr",
     "output_type": "stream",
     "text": [
      " 17%|██████████████                                                                   | 36/207 [00:04<00:23,  7.33it/s]"
     ]
    },
    {
     "name": "stdout",
     "output_type": "stream",
     "text": [
      "\n",
      "0: 384x640 1 apple_marina_bay, 1 art_sci_museum, 1 helix_bridge, 1 lv_marina_bay, 1 mbs, 1 mbs_hotel, 1 sg_river, 23.0ms\n",
      "Speed: 2.5ms preprocess, 23.0ms inference, 2.5ms postprocess per image at shape (1, 3, 384, 640)\n"
     ]
    },
    {
     "name": "stderr",
     "output_type": "stream",
     "text": [
      " 18%|██████████████▍                                                                  | 37/207 [00:05<00:23,  7.35it/s]"
     ]
    },
    {
     "name": "stdout",
     "output_type": "stream",
     "text": [
      "\n",
      "0: 384x640 1 apple_marina_bay, 1 art_sci_museum, 1 helix_bridge, 1 lv_marina_bay, 1 mbs, 1 mbs_hotel, 1 sg_river, 23.3ms\n",
      "Speed: 2.4ms preprocess, 23.3ms inference, 2.1ms postprocess per image at shape (1, 3, 384, 640)\n"
     ]
    },
    {
     "name": "stderr",
     "output_type": "stream",
     "text": [
      " 18%|██████████████▊                                                                  | 38/207 [00:05<00:22,  7.50it/s]"
     ]
    },
    {
     "name": "stdout",
     "output_type": "stream",
     "text": [
      "\n",
      "0: 384x640 1 apple_marina_bay, 1 art_sci_museum, 1 helix_bridge, 1 lv_marina_bay, 1 mbs, 1 mbs_hotel, 1 sg_river, 27.1ms\n",
      "Speed: 2.4ms preprocess, 27.1ms inference, 2.3ms postprocess per image at shape (1, 3, 384, 640)\n"
     ]
    },
    {
     "name": "stderr",
     "output_type": "stream",
     "text": [
      " 19%|███████████████▎                                                                 | 39/207 [00:05<00:22,  7.41it/s]"
     ]
    },
    {
     "name": "stdout",
     "output_type": "stream",
     "text": [
      "\n",
      "0: 384x640 1 apple_marina_bay, 1 art_sci_museum, 1 helix_bridge, 1 mbs, 1 mbs_hotel, 1 sg_river, 24.8ms\n",
      "Speed: 2.3ms preprocess, 24.8ms inference, 2.3ms postprocess per image at shape (1, 3, 384, 640)\n"
     ]
    },
    {
     "name": "stderr",
     "output_type": "stream",
     "text": [
      " 19%|███████████████▋                                                                 | 40/207 [00:05<00:22,  7.37it/s]"
     ]
    },
    {
     "name": "stdout",
     "output_type": "stream",
     "text": [
      "\n",
      "0: 384x640 1 apple_marina_bay, 1 art_sci_museum, 1 helix_bridge, 2 lv_marina_bays, 1 mbs, 1 mbs_hotel, 1 sg_river, 28.2ms\n",
      "Speed: 2.9ms preprocess, 28.2ms inference, 2.0ms postprocess per image at shape (1, 3, 384, 640)\n"
     ]
    },
    {
     "name": "stderr",
     "output_type": "stream",
     "text": [
      " 20%|████████████████                                                                 | 41/207 [00:05<00:22,  7.41it/s]"
     ]
    },
    {
     "name": "stdout",
     "output_type": "stream",
     "text": [
      "\n",
      "0: 384x640 1 apple_marina_bay, 1 art_sci_museum, 1 helix_bridge, 3 lv_marina_bays, 1 mbs, 1 mbs_hotel, 1 sg_river, 28.3ms\n",
      "Speed: 3.1ms preprocess, 28.3ms inference, 2.5ms postprocess per image at shape (1, 3, 384, 640)\n"
     ]
    },
    {
     "name": "stderr",
     "output_type": "stream",
     "text": [
      " 20%|████████████████▍                                                                | 42/207 [00:05<00:23,  7.13it/s]"
     ]
    },
    {
     "name": "stdout",
     "output_type": "stream",
     "text": [
      "\n",
      "0: 384x640 1 apple_marina_bay, 1 art_sci_museum, 1 helix_bridge, 1 mbs, 1 mbs_hotel, 1 sg_river, 28.4ms\n",
      "Speed: 3.6ms preprocess, 28.4ms inference, 2.1ms postprocess per image at shape (1, 3, 384, 640)\n"
     ]
    },
    {
     "name": "stderr",
     "output_type": "stream",
     "text": [
      " 21%|████████████████▊                                                                | 43/207 [00:05<00:22,  7.35it/s]"
     ]
    },
    {
     "name": "stdout",
     "output_type": "stream",
     "text": [
      "\n",
      "0: 384x640 1 apple_marina_bay, 1 art_sci_museum, 1 helix_bridge, 1 mbs, 1 mbs_hotel, 1 sg_river, 29.2ms\n",
      "Speed: 2.7ms preprocess, 29.2ms inference, 2.4ms postprocess per image at shape (1, 3, 384, 640)\n"
     ]
    },
    {
     "name": "stderr",
     "output_type": "stream",
     "text": [
      " 21%|█████████████████▏                                                               | 44/207 [00:06<00:22,  7.13it/s]"
     ]
    },
    {
     "name": "stdout",
     "output_type": "stream",
     "text": [
      "\n",
      "0: 384x640 1 apple_marina_bay, 1 art_sci_museum, 1 helix_bridge, 1 lv_marina_bay, 1 mbs, 1 mbs_hotel, 1 sg_river, 28.4ms\n",
      "Speed: 3.0ms preprocess, 28.4ms inference, 2.1ms postprocess per image at shape (1, 3, 384, 640)\n"
     ]
    },
    {
     "name": "stderr",
     "output_type": "stream",
     "text": [
      " 22%|█████████████████▌                                                               | 45/207 [00:06<00:23,  6.92it/s]"
     ]
    },
    {
     "name": "stdout",
     "output_type": "stream",
     "text": [
      "\n",
      "0: 384x640 1 apple_marina_bay, 1 art_sci_museum, 1 helix_bridge, 2 lv_marina_bays, 1 mbs, 1 mbs_hotel, 1 sg_river, 28.4ms\n",
      "Speed: 2.7ms preprocess, 28.4ms inference, 2.5ms postprocess per image at shape (1, 3, 384, 640)\n"
     ]
    },
    {
     "name": "stderr",
     "output_type": "stream",
     "text": [
      " 22%|██████████████████                                                               | 46/207 [00:06<00:23,  6.90it/s]"
     ]
    },
    {
     "name": "stdout",
     "output_type": "stream",
     "text": [
      "\n",
      "0: 384x640 1 apple_marina_bay, 1 art_sci_museum, 1 helix_bridge, 1 lv_marina_bay, 1 mbs, 1 mbs_hotel, 1 sg_river, 23.6ms\n",
      "Speed: 2.4ms preprocess, 23.6ms inference, 2.1ms postprocess per image at shape (1, 3, 384, 640)\n"
     ]
    },
    {
     "name": "stderr",
     "output_type": "stream",
     "text": [
      " 23%|██████████████████▍                                                              | 47/207 [00:06<00:22,  7.07it/s]"
     ]
    },
    {
     "name": "stdout",
     "output_type": "stream",
     "text": [
      "\n",
      "0: 384x640 1 apple_marina_bay, 1 art_sci_museum, 1 helix_bridge, 1 mbs, 1 mbs_hotel, 1 sg_river, 23.4ms\n",
      "Speed: 2.4ms preprocess, 23.4ms inference, 2.0ms postprocess per image at shape (1, 3, 384, 640)\n"
     ]
    },
    {
     "name": "stderr",
     "output_type": "stream",
     "text": [
      " 23%|██████████████████▊                                                              | 48/207 [00:06<00:21,  7.40it/s]"
     ]
    },
    {
     "name": "stdout",
     "output_type": "stream",
     "text": [
      "\n",
      "0: 384x640 1 apple_marina_bay, 1 art_sci_museum, 2 helix_bridges, 1 lv_marina_bay, 1 mbs, 1 mbs_hotel, 1 sg_river, 23.0ms\n",
      "Speed: 2.4ms preprocess, 23.0ms inference, 2.1ms postprocess per image at shape (1, 3, 384, 640)\n"
     ]
    },
    {
     "name": "stderr",
     "output_type": "stream",
     "text": [
      " 24%|███████████████████▏                                                             | 49/207 [00:06<00:21,  7.52it/s]"
     ]
    },
    {
     "name": "stdout",
     "output_type": "stream",
     "text": [
      "\n",
      "0: 384x640 1 apple_marina_bay, 1 art_sci_museum, 1 helix_bridge, 2 lv_marina_bays, 1 mbs, 1 mbs_hotel, 1 sg_river, 24.5ms\n",
      "Speed: 3.2ms preprocess, 24.5ms inference, 1.9ms postprocess per image at shape (1, 3, 384, 640)\n"
     ]
    },
    {
     "name": "stderr",
     "output_type": "stream",
     "text": [
      " 24%|███████████████████▌                                                             | 50/207 [00:06<00:21,  7.29it/s]"
     ]
    },
    {
     "name": "stdout",
     "output_type": "stream",
     "text": [
      "\n",
      "0: 384x640 1 apple_marina_bay, 1 art_sci_museum, 1 helix_bridge, 1 lv_marina_bay, 1 mbs, 1 mbs_hotel, 1 sg_river, 25.6ms\n",
      "Speed: 2.4ms preprocess, 25.6ms inference, 2.7ms postprocess per image at shape (1, 3, 384, 640)\n"
     ]
    },
    {
     "name": "stderr",
     "output_type": "stream",
     "text": [
      " 25%|███████████████████▉                                                             | 51/207 [00:07<00:21,  7.25it/s]"
     ]
    },
    {
     "name": "stdout",
     "output_type": "stream",
     "text": [
      "\n",
      "0: 384x640 1 apple_marina_bay, 1 art_sci_museum, 1 helix_bridge, 1 lv_marina_bay, 1 mbs, 1 mbs_hotel, 1 sg_river, 26.0ms\n",
      "Speed: 2.3ms preprocess, 26.0ms inference, 3.7ms postprocess per image at shape (1, 3, 384, 640)\n"
     ]
    },
    {
     "name": "stderr",
     "output_type": "stream",
     "text": [
      " 25%|████████████████████▎                                                            | 52/207 [00:07<00:21,  7.26it/s]"
     ]
    },
    {
     "name": "stdout",
     "output_type": "stream",
     "text": [
      "\n",
      "0: 384x640 1 apple_marina_bay, 1 art_sci_museum, 1 helix_bridge, 1 lv_marina_bay, 1 mbs, 1 mbs_hotel, 1 sg_river, 22.9ms\n",
      "Speed: 2.4ms preprocess, 22.9ms inference, 2.0ms postprocess per image at shape (1, 3, 384, 640)\n"
     ]
    },
    {
     "name": "stderr",
     "output_type": "stream",
     "text": [
      " 26%|████████████████████▋                                                            | 53/207 [00:07<00:21,  7.27it/s]"
     ]
    },
    {
     "name": "stdout",
     "output_type": "stream",
     "text": [
      "\n",
      "0: 384x640 1 apple_marina_bay, 1 art_sci_museum, 1 helix_bridge, 1 lv_marina_bay, 1 mbs, 1 mbs_hotel, 1 sg_river, 25.8ms\n",
      "Speed: 2.4ms preprocess, 25.8ms inference, 1.8ms postprocess per image at shape (1, 3, 384, 640)\n"
     ]
    },
    {
     "name": "stderr",
     "output_type": "stream",
     "text": [
      " 26%|█████████████████████▏                                                           | 54/207 [00:07<00:20,  7.37it/s]"
     ]
    },
    {
     "name": "stdout",
     "output_type": "stream",
     "text": [
      "\n",
      "0: 384x640 1 apple_marina_bay, 1 art_sci_museum, 1 helix_bridge, 1 lv_marina_bay, 1 mbs, 1 mbs_hotel, 1 sg_river, 23.4ms\n",
      "Speed: 2.4ms preprocess, 23.4ms inference, 1.9ms postprocess per image at shape (1, 3, 384, 640)\n"
     ]
    },
    {
     "name": "stderr",
     "output_type": "stream",
     "text": [
      " 27%|█████████████████████▌                                                           | 55/207 [00:07<00:20,  7.38it/s]"
     ]
    },
    {
     "name": "stdout",
     "output_type": "stream",
     "text": [
      "\n",
      "0: 384x640 1 apple_marina_bay, 1 art_sci_museum, 1 helix_bridge, 1 lv_marina_bay, 1 mbs, 1 mbs_hotel, 1 sg_river, 24.3ms\n",
      "Speed: 2.6ms preprocess, 24.3ms inference, 2.2ms postprocess per image at shape (1, 3, 384, 640)\n"
     ]
    },
    {
     "name": "stderr",
     "output_type": "stream",
     "text": [
      " 27%|█████████████████████▉                                                           | 56/207 [00:07<00:19,  7.56it/s]"
     ]
    },
    {
     "name": "stdout",
     "output_type": "stream",
     "text": [
      "\n",
      "0: 384x640 1 apple_marina_bay, 1 art_sci_museum, 1 helix_bridge, 1 lv_marina_bay, 1 mbs, 1 mbs_hotel, 1 sg_river, 23.4ms\n",
      "Speed: 2.3ms preprocess, 23.4ms inference, 2.1ms postprocess per image at shape (1, 3, 384, 640)\n"
     ]
    },
    {
     "name": "stderr",
     "output_type": "stream",
     "text": [
      " 28%|██████████████████████▎                                                          | 57/207 [00:07<00:19,  7.77it/s]"
     ]
    },
    {
     "name": "stdout",
     "output_type": "stream",
     "text": [
      "\n",
      "0: 384x640 1 apple_marina_bay, 1 art_sci_museum, 1 helix_bridge, 1 lv_marina_bay, 1 mbs, 1 mbs_hotel, 1 sg_river, 23.2ms\n",
      "Speed: 2.7ms preprocess, 23.2ms inference, 2.1ms postprocess per image at shape (1, 3, 384, 640)\n"
     ]
    },
    {
     "name": "stderr",
     "output_type": "stream",
     "text": [
      " 28%|██████████████████████▋                                                          | 58/207 [00:07<00:18,  7.84it/s]"
     ]
    },
    {
     "name": "stdout",
     "output_type": "stream",
     "text": [
      "\n",
      "0: 384x640 1 apple_marina_bay, 1 art_sci_museum, 2 helix_bridges, 1 lv_marina_bay, 1 mbs, 1 mbs_hotel, 1 sg_river, 25.1ms\n",
      "Speed: 2.4ms preprocess, 25.1ms inference, 1.9ms postprocess per image at shape (1, 3, 384, 640)\n"
     ]
    },
    {
     "name": "stderr",
     "output_type": "stream",
     "text": [
      " 29%|███████████████████████                                                          | 59/207 [00:08<00:18,  7.85it/s]"
     ]
    },
    {
     "name": "stdout",
     "output_type": "stream",
     "text": [
      "\n",
      "0: 384x640 1 apple_marina_bay, 1 art_sci_museum, 1 helix_bridge, 1 lv_marina_bay, 1 mbs, 1 mbs_hotel, 1 sg_river, 24.4ms\n",
      "Speed: 2.4ms preprocess, 24.4ms inference, 2.2ms postprocess per image at shape (1, 3, 384, 640)\n"
     ]
    },
    {
     "name": "stderr",
     "output_type": "stream",
     "text": [
      " 29%|███████████████████████▍                                                         | 60/207 [00:08<00:18,  7.86it/s]"
     ]
    },
    {
     "name": "stdout",
     "output_type": "stream",
     "text": [
      "\n",
      "0: 384x640 1 apple_marina_bay, 1 art_sci_museum, 1 helix_bridge, 1 lv_marina_bay, 1 mbs, 1 mbs_hotel, 1 sg_river, 31.3ms\n",
      "Speed: 2.7ms preprocess, 31.3ms inference, 1.4ms postprocess per image at shape (1, 3, 384, 640)\n"
     ]
    },
    {
     "name": "stderr",
     "output_type": "stream",
     "text": [
      " 29%|███████████████████████▊                                                         | 61/207 [00:08<00:18,  7.83it/s]"
     ]
    },
    {
     "name": "stdout",
     "output_type": "stream",
     "text": [
      "\n",
      "0: 384x640 1 apple_marina_bay, 1 art_sci_museum, 1 helix_bridge, 1 lv_marina_bay, 1 mbs, 1 mbs_hotel, 1 sg_river, 33.3ms\n",
      "Speed: 4.3ms preprocess, 33.3ms inference, 2.1ms postprocess per image at shape (1, 3, 384, 640)\n"
     ]
    },
    {
     "name": "stderr",
     "output_type": "stream",
     "text": [
      " 30%|████████████████████████▎                                                        | 62/207 [00:08<00:20,  7.25it/s]"
     ]
    },
    {
     "name": "stdout",
     "output_type": "stream",
     "text": [
      "\n",
      "0: 384x640 1 apple_marina_bay, 1 art_sci_museum, 1 helix_bridge, 1 lv_marina_bay, 1 mbs, 1 mbs_hotel, 1 sg_river, 32.8ms\n",
      "Speed: 2.7ms preprocess, 32.8ms inference, 2.2ms postprocess per image at shape (1, 3, 384, 640)\n"
     ]
    },
    {
     "name": "stderr",
     "output_type": "stream",
     "text": [
      " 30%|████████████████████████▋                                                        | 63/207 [00:08<00:20,  7.06it/s]"
     ]
    },
    {
     "name": "stdout",
     "output_type": "stream",
     "text": [
      "\n",
      "0: 384x640 1 apple_marina_bay, 1 art_sci_museum, 1 helix_bridge, 1 lv_marina_bay, 1 mbs, 1 mbs_hotel, 1 sg_river, 31.2ms\n",
      "Speed: 2.7ms preprocess, 31.2ms inference, 2.1ms postprocess per image at shape (1, 3, 384, 640)\n"
     ]
    },
    {
     "name": "stderr",
     "output_type": "stream",
     "text": [
      " 31%|█████████████████████████                                                        | 64/207 [00:08<00:20,  6.84it/s]"
     ]
    },
    {
     "name": "stdout",
     "output_type": "stream",
     "text": [
      "\n",
      "0: 384x640 1 apple_marina_bay, 1 art_sci_museum, 1 helix_bridge, 1 lv_marina_bay, 1 mbs, 1 mbs_hotel, 1 sg_river, 35.9ms\n",
      "Speed: 2.8ms preprocess, 35.9ms inference, 2.5ms postprocess per image at shape (1, 3, 384, 640)\n"
     ]
    },
    {
     "name": "stderr",
     "output_type": "stream",
     "text": [
      " 31%|█████████████████████████▍                                                       | 65/207 [00:08<00:21,  6.62it/s]"
     ]
    },
    {
     "name": "stdout",
     "output_type": "stream",
     "text": [
      "\n",
      "0: 384x640 1 apple_marina_bay, 1 art_sci_museum, 1 helix_bridge, 2 lv_marina_bays, 1 mbs, 1 mbs_hotel, 1 sg_river, 32.3ms\n",
      "Speed: 2.8ms preprocess, 32.3ms inference, 1.8ms postprocess per image at shape (1, 3, 384, 640)\n"
     ]
    },
    {
     "name": "stderr",
     "output_type": "stream",
     "text": [
      " 32%|█████████████████████████▊                                                       | 66/207 [00:09<00:21,  6.58it/s]"
     ]
    },
    {
     "name": "stdout",
     "output_type": "stream",
     "text": [
      "\n",
      "0: 384x640 1 apple_marina_bay, 1 art_sci_museum, 1 helix_bridge, 2 lv_marina_bays, 1 mbs, 1 mbs_hotel, 1 sg_river, 32.0ms\n",
      "Speed: 2.7ms preprocess, 32.0ms inference, 2.6ms postprocess per image at shape (1, 3, 384, 640)\n"
     ]
    },
    {
     "name": "stderr",
     "output_type": "stream",
     "text": [
      " 32%|██████████████████████████▏                                                      | 67/207 [00:09<00:20,  6.67it/s]"
     ]
    },
    {
     "name": "stdout",
     "output_type": "stream",
     "text": [
      "\n",
      "0: 384x640 1 apple_marina_bay, 1 art_sci_museum, 1 helix_bridge, 2 lv_marina_bays, 1 mbs, 1 mbs_hotel, 1 sg_river, 32.0ms\n",
      "Speed: 2.7ms preprocess, 32.0ms inference, 2.1ms postprocess per image at shape (1, 3, 384, 640)\n"
     ]
    },
    {
     "name": "stderr",
     "output_type": "stream",
     "text": [
      " 33%|██████████████████████████▌                                                      | 68/207 [00:09<00:20,  6.66it/s]"
     ]
    },
    {
     "name": "stdout",
     "output_type": "stream",
     "text": [
      "\n",
      "0: 384x640 1 apple_marina_bay, 1 art_sci_museum, 1 helix_bridge, 1 lv_marina_bay, 1 mbs, 1 mbs_hotel, 1 sg_river, 33.4ms\n",
      "Speed: 3.1ms preprocess, 33.4ms inference, 3.2ms postprocess per image at shape (1, 3, 384, 640)\n"
     ]
    },
    {
     "name": "stderr",
     "output_type": "stream",
     "text": [
      " 33%|███████████████████████████                                                      | 69/207 [00:09<00:20,  6.62it/s]"
     ]
    },
    {
     "name": "stdout",
     "output_type": "stream",
     "text": [
      "\n",
      "0: 384x640 1 apple_marina_bay, 1 art_sci_museum, 1 helix_bridge, 2 lv_marina_bays, 1 mbs, 1 mbs_hotel, 1 sg_river, 41.6ms\n",
      "Speed: 3.0ms preprocess, 41.6ms inference, 3.7ms postprocess per image at shape (1, 3, 384, 640)\n"
     ]
    },
    {
     "name": "stderr",
     "output_type": "stream",
     "text": [
      " 34%|███████████████████████████▍                                                     | 70/207 [00:09<00:21,  6.43it/s]"
     ]
    },
    {
     "name": "stdout",
     "output_type": "stream",
     "text": [
      "\n",
      "0: 384x640 1 apple_marina_bay, 1 art_sci_museum, 1 helix_bridge, 2 lv_marina_bays, 1 mbs, 1 mbs_hotel, 1 sg_river, 33.0ms\n",
      "Speed: 3.1ms preprocess, 33.0ms inference, 3.1ms postprocess per image at shape (1, 3, 384, 640)\n"
     ]
    },
    {
     "name": "stderr",
     "output_type": "stream",
     "text": [
      " 34%|███████████████████████████▊                                                     | 71/207 [00:09<00:21,  6.26it/s]"
     ]
    },
    {
     "name": "stdout",
     "output_type": "stream",
     "text": [
      "\n",
      "0: 384x640 1 apple_marina_bay, 1 art_sci_museum, 1 helix_bridge, 2 lv_marina_bays, 1 mbs, 1 mbs_hotel, 1 sg_river, 34.8ms\n",
      "Speed: 3.1ms preprocess, 34.8ms inference, 4.1ms postprocess per image at shape (1, 3, 384, 640)\n"
     ]
    },
    {
     "name": "stderr",
     "output_type": "stream",
     "text": [
      " 35%|████████████████████████████▏                                                    | 72/207 [00:10<00:22,  6.10it/s]"
     ]
    },
    {
     "name": "stdout",
     "output_type": "stream",
     "text": [
      "\n",
      "0: 384x640 1 apple_marina_bay, 1 art_sci_museum, 1 helix_bridge, 2 lv_marina_bays, 1 mbs, 1 mbs_hotel, 1 sg_river, 35.3ms\n",
      "Speed: 3.3ms preprocess, 35.3ms inference, 3.2ms postprocess per image at shape (1, 3, 384, 640)\n"
     ]
    },
    {
     "name": "stderr",
     "output_type": "stream",
     "text": [
      " 35%|████████████████████████████▌                                                    | 73/207 [00:10<00:21,  6.36it/s]"
     ]
    },
    {
     "name": "stdout",
     "output_type": "stream",
     "text": [
      "\n",
      "0: 384x640 1 apple_marina_bay, 1 art_sci_museum, 1 helix_bridge, 2 lv_marina_bays, 1 mbs, 1 mbs_hotel, 1 sg_river, 33.9ms\n",
      "Speed: 3.0ms preprocess, 33.9ms inference, 3.3ms postprocess per image at shape (1, 3, 384, 640)\n"
     ]
    },
    {
     "name": "stderr",
     "output_type": "stream",
     "text": [
      " 36%|████████████████████████████▉                                                    | 74/207 [00:10<00:21,  6.25it/s]"
     ]
    },
    {
     "name": "stdout",
     "output_type": "stream",
     "text": [
      "\n",
      "0: 384x640 1 apple_marina_bay, 1 art_sci_museum, 1 helix_bridge, 2 lv_marina_bays, 1 mbs, 1 mbs_hotel, 1 sg_river, 33.3ms\n",
      "Speed: 2.9ms preprocess, 33.3ms inference, 3.4ms postprocess per image at shape (1, 3, 384, 640)\n"
     ]
    },
    {
     "name": "stderr",
     "output_type": "stream",
     "text": [
      " 36%|█████████████████████████████▎                                                   | 75/207 [00:10<00:20,  6.34it/s]"
     ]
    },
    {
     "name": "stdout",
     "output_type": "stream",
     "text": [
      "\n",
      "0: 384x640 1 apple_marina_bay, 1 art_sci_museum, 1 helix_bridge, 1 lv_marina_bay, 1 mbs, 1 mbs_hotel, 1 sg_river, 30.2ms\n",
      "Speed: 2.8ms preprocess, 30.2ms inference, 2.1ms postprocess per image at shape (1, 3, 384, 640)\n"
     ]
    },
    {
     "name": "stderr",
     "output_type": "stream",
     "text": [
      " 37%|█████████████████████████████▋                                                   | 76/207 [00:10<00:20,  6.47it/s]"
     ]
    },
    {
     "name": "stdout",
     "output_type": "stream",
     "text": [
      "\n",
      "0: 384x640 1 apple_marina_bay, 1 art_sci_museum, 2 helix_bridges, 1 lv_marina_bay, 1 mbs, 1 mbs_hotel, 1 sg_river, 33.5ms\n",
      "Speed: 3.4ms preprocess, 33.5ms inference, 3.6ms postprocess per image at shape (1, 3, 384, 640)\n"
     ]
    },
    {
     "name": "stderr",
     "output_type": "stream",
     "text": [
      " 37%|██████████████████████████████▏                                                  | 77/207 [00:10<00:20,  6.28it/s]"
     ]
    },
    {
     "name": "stdout",
     "output_type": "stream",
     "text": [
      "\n",
      "0: 384x640 1 apple_marina_bay, 1 art_sci_museum, 2 helix_bridges, 1 lv_marina_bay, 1 mbs, 1 mbs_hotel, 1 sg_river, 34.3ms\n",
      "Speed: 2.8ms preprocess, 34.3ms inference, 4.1ms postprocess per image at shape (1, 3, 384, 640)\n"
     ]
    },
    {
     "name": "stderr",
     "output_type": "stream",
     "text": [
      " 38%|██████████████████████████████▌                                                  | 78/207 [00:11<00:21,  6.13it/s]"
     ]
    },
    {
     "name": "stdout",
     "output_type": "stream",
     "text": [
      "\n",
      "0: 384x640 1 apple_marina_bay, 1 art_sci_museum, 2 helix_bridges, 2 lv_marina_bays, 1 mbs, 1 mbs_hotel, 1 sg_river, 31.4ms\n",
      "Speed: 2.9ms preprocess, 31.4ms inference, 3.2ms postprocess per image at shape (1, 3, 384, 640)\n"
     ]
    },
    {
     "name": "stderr",
     "output_type": "stream",
     "text": [
      " 38%|██████████████████████████████▉                                                  | 79/207 [00:11<00:21,  6.09it/s]"
     ]
    },
    {
     "name": "stdout",
     "output_type": "stream",
     "text": [
      "\n",
      "0: 384x640 1 apple_marina_bay, 1 art_sci_museum, 2 helix_bridges, 1 lv_marina_bay, 1 mbs, 1 mbs_hotel, 1 sg_river, 33.6ms\n",
      "Speed: 3.0ms preprocess, 33.6ms inference, 3.6ms postprocess per image at shape (1, 3, 384, 640)\n"
     ]
    },
    {
     "name": "stderr",
     "output_type": "stream",
     "text": [
      " 39%|███████████████████████████████▎                                                 | 80/207 [00:11<00:20,  6.22it/s]"
     ]
    },
    {
     "name": "stdout",
     "output_type": "stream",
     "text": [
      "\n",
      "0: 384x640 1 apple_marina_bay, 1 art_sci_museum, 2 helix_bridges, 2 lv_marina_bays, 1 mbs, 1 mbs_hotel, 1 sg_river, 30.6ms\n",
      "Speed: 3.0ms preprocess, 30.6ms inference, 3.2ms postprocess per image at shape (1, 3, 384, 640)\n"
     ]
    },
    {
     "name": "stderr",
     "output_type": "stream",
     "text": [
      " 39%|███████████████████████████████▋                                                 | 81/207 [00:11<00:20,  6.23it/s]"
     ]
    },
    {
     "name": "stdout",
     "output_type": "stream",
     "text": [
      "\n",
      "0: 384x640 1 apple_marina_bay, 1 art_sci_museum, 2 helix_bridges, 1 lv_marina_bay, 1 mbs, 1 mbs_hotel, 1 sg_river, 35.1ms\n",
      "Speed: 2.7ms preprocess, 35.1ms inference, 3.3ms postprocess per image at shape (1, 3, 384, 640)\n"
     ]
    },
    {
     "name": "stderr",
     "output_type": "stream",
     "text": [
      " 40%|████████████████████████████████                                                 | 82/207 [00:11<00:19,  6.26it/s]"
     ]
    },
    {
     "name": "stdout",
     "output_type": "stream",
     "text": [
      "\n",
      "0: 384x640 1 apple_marina_bay, 1 art_sci_museum, 2 helix_bridges, 2 lv_marina_bays, 1 mbs, 1 mbs_hotel, 1 sg_river, 32.8ms\n",
      "Speed: 2.9ms preprocess, 32.8ms inference, 3.1ms postprocess per image at shape (1, 3, 384, 640)\n"
     ]
    },
    {
     "name": "stderr",
     "output_type": "stream",
     "text": [
      " 40%|████████████████████████████████▍                                                | 83/207 [00:11<00:19,  6.32it/s]"
     ]
    },
    {
     "name": "stdout",
     "output_type": "stream",
     "text": [
      "\n",
      "0: 384x640 1 apple_marina_bay, 1 art_sci_museum, 1 helix_bridge, 2 lv_marina_bays, 1 mbs, 1 mbs_hotel, 1 sg_river, 32.5ms\n",
      "Speed: 2.9ms preprocess, 32.5ms inference, 3.6ms postprocess per image at shape (1, 3, 384, 640)\n"
     ]
    },
    {
     "name": "stderr",
     "output_type": "stream",
     "text": [
      " 41%|████████████████████████████████▊                                                | 84/207 [00:11<00:19,  6.40it/s]"
     ]
    },
    {
     "name": "stdout",
     "output_type": "stream",
     "text": [
      "\n",
      "0: 384x640 1 apple_marina_bay, 1 art_sci_museum, 2 helix_bridges, 2 lv_marina_bays, 1 mbs, 1 mbs_hotel, 1 sg_river, 32.8ms\n",
      "Speed: 2.9ms preprocess, 32.8ms inference, 3.6ms postprocess per image at shape (1, 3, 384, 640)\n"
     ]
    },
    {
     "name": "stderr",
     "output_type": "stream",
     "text": [
      " 41%|█████████████████████████████████▎                                               | 85/207 [00:12<00:18,  6.56it/s]"
     ]
    },
    {
     "name": "stdout",
     "output_type": "stream",
     "text": [
      "\n",
      "0: 384x640 1 apple_marina_bay, 1 art_sci_museum, 2 helix_bridges, 2 lv_marina_bays, 1 mbs, 1 mbs_hotel, 1 sg_river, 32.8ms\n",
      "Speed: 3.2ms preprocess, 32.8ms inference, 3.3ms postprocess per image at shape (1, 3, 384, 640)\n"
     ]
    },
    {
     "name": "stderr",
     "output_type": "stream",
     "text": [
      " 42%|█████████████████████████████████▋                                               | 86/207 [00:12<00:18,  6.55it/s]"
     ]
    },
    {
     "name": "stdout",
     "output_type": "stream",
     "text": [
      "\n",
      "0: 384x640 1 apple_marina_bay, 1 art_sci_museum, 2 helix_bridges, 1 lv_marina_bay, 1 mbs, 1 mbs_hotel, 1 sg_river, 34.1ms\n",
      "Speed: 2.9ms preprocess, 34.1ms inference, 3.2ms postprocess per image at shape (1, 3, 384, 640)\n"
     ]
    },
    {
     "name": "stderr",
     "output_type": "stream",
     "text": [
      " 42%|██████████████████████████████████                                               | 87/207 [00:12<00:18,  6.46it/s]"
     ]
    },
    {
     "name": "stdout",
     "output_type": "stream",
     "text": [
      "\n",
      "0: 384x640 1 apple_marina_bay, 1 art_sci_museum, 2 helix_bridges, 1 lv_marina_bay, 1 mbs, 1 mbs_hotel, 1 sg_river, 33.3ms\n",
      "Speed: 2.8ms preprocess, 33.3ms inference, 3.3ms postprocess per image at shape (1, 3, 384, 640)\n"
     ]
    },
    {
     "name": "stderr",
     "output_type": "stream",
     "text": [
      " 43%|██████████████████████████████████▍                                              | 88/207 [00:12<00:18,  6.45it/s]"
     ]
    },
    {
     "name": "stdout",
     "output_type": "stream",
     "text": [
      "\n",
      "0: 384x640 1 apple_marina_bay, 1 art_sci_museum, 2 helix_bridges, 1 mbs, 1 mbs_hotel, 1 sg_river, 23.8ms\n",
      "Speed: 2.4ms preprocess, 23.8ms inference, 1.5ms postprocess per image at shape (1, 3, 384, 640)\n"
     ]
    },
    {
     "name": "stderr",
     "output_type": "stream",
     "text": [
      " 43%|██████████████████████████████████▊                                              | 89/207 [00:12<00:17,  6.91it/s]"
     ]
    },
    {
     "name": "stdout",
     "output_type": "stream",
     "text": [
      "\n",
      "0: 384x640 1 apple_marina_bay, 1 art_sci_museum, 2 helix_bridges, 1 mbs, 1 mbs_hotel, 1 sg_river, 28.3ms\n",
      "Speed: 2.5ms preprocess, 28.3ms inference, 3.2ms postprocess per image at shape (1, 3, 384, 640)\n"
     ]
    },
    {
     "name": "stderr",
     "output_type": "stream",
     "text": [
      " 43%|███████████████████████████████████▏                                             | 90/207 [00:12<00:16,  7.07it/s]"
     ]
    },
    {
     "name": "stdout",
     "output_type": "stream",
     "text": [
      "\n",
      "0: 384x640 1 apple_marina_bay, 1 art_sci_museum, 2 helix_bridges, 1 lv_marina_bay, 1 mbs, 1 mbs_hotel, 1 sg_river, 33.1ms\n",
      "Speed: 2.5ms preprocess, 33.1ms inference, 3.2ms postprocess per image at shape (1, 3, 384, 640)\n"
     ]
    },
    {
     "name": "stderr",
     "output_type": "stream",
     "text": [
      " 44%|███████████████████████████████████▌                                             | 91/207 [00:13<00:16,  6.99it/s]"
     ]
    },
    {
     "name": "stdout",
     "output_type": "stream",
     "text": [
      "\n",
      "0: 384x640 1 apple_marina_bay, 1 art_sci_museum, 2 helix_bridges, 1 lv_marina_bay, 1 mbs, 1 mbs_hotel, 1 sg_river, 34.5ms\n",
      "Speed: 2.7ms preprocess, 34.5ms inference, 3.9ms postprocess per image at shape (1, 3, 384, 640)\n"
     ]
    },
    {
     "name": "stderr",
     "output_type": "stream",
     "text": [
      " 44%|████████████████████████████████████                                             | 92/207 [00:13<00:16,  7.08it/s]"
     ]
    },
    {
     "name": "stdout",
     "output_type": "stream",
     "text": [
      "\n",
      "0: 384x640 1 apple_marina_bay, 1 art_sci_museum, 2 helix_bridges, 1 lv_marina_bay, 1 mbs, 1 mbs_hotel, 1 sg_river, 35.5ms\n",
      "Speed: 2.7ms preprocess, 35.5ms inference, 3.1ms postprocess per image at shape (1, 3, 384, 640)\n"
     ]
    },
    {
     "name": "stderr",
     "output_type": "stream",
     "text": [
      " 45%|████████████████████████████████████▍                                            | 93/207 [00:13<00:16,  7.08it/s]"
     ]
    },
    {
     "name": "stdout",
     "output_type": "stream",
     "text": [
      "\n",
      "0: 384x640 1 apple_marina_bay, 1 art_sci_museum, 2 helix_bridges, 2 lv_marina_bays, 1 mbs, 1 mbs_hotel, 1 sg_river, 33.5ms\n",
      "Speed: 2.6ms preprocess, 33.5ms inference, 3.4ms postprocess per image at shape (1, 3, 384, 640)\n"
     ]
    },
    {
     "name": "stderr",
     "output_type": "stream",
     "text": [
      " 45%|████████████████████████████████████▊                                            | 94/207 [00:13<00:15,  7.10it/s]"
     ]
    },
    {
     "name": "stdout",
     "output_type": "stream",
     "text": [
      "\n",
      "0: 384x640 1 apple_marina_bay, 1 art_sci_museum, 1 helix_bridge, 1 mbs, 1 mbs_hotel, 1 sg_river, 29.5ms\n",
      "Speed: 2.4ms preprocess, 29.5ms inference, 1.6ms postprocess per image at shape (1, 3, 384, 640)\n"
     ]
    },
    {
     "name": "stderr",
     "output_type": "stream",
     "text": [
      " 46%|█████████████████████████████████████▏                                           | 95/207 [00:13<00:15,  7.24it/s]"
     ]
    },
    {
     "name": "stdout",
     "output_type": "stream",
     "text": [
      "\n",
      "0: 384x640 1 apple_marina_bay, 1 art_sci_museum, 1 helix_bridge, 1 lv_marina_bay, 1 mbs, 1 mbs_hotel, 1 sg_river, 24.5ms\n",
      "Speed: 2.4ms preprocess, 24.5ms inference, 2.3ms postprocess per image at shape (1, 3, 384, 640)\n"
     ]
    },
    {
     "name": "stderr",
     "output_type": "stream",
     "text": [
      " 46%|█████████████████████████████████████▌                                           | 96/207 [00:13<00:14,  7.43it/s]"
     ]
    },
    {
     "name": "stdout",
     "output_type": "stream",
     "text": [
      "\n",
      "0: 384x640 1 apple_marina_bay, 1 art_sci_museum, 1 helix_bridge, 1 lv_marina_bay, 1 mbs, 1 mbs_hotel, 1 sg_river, 30.7ms\n",
      "Speed: 3.2ms preprocess, 30.7ms inference, 2.4ms postprocess per image at shape (1, 3, 384, 640)\n"
     ]
    },
    {
     "name": "stderr",
     "output_type": "stream",
     "text": [
      " 47%|█████████████████████████████████████▉                                           | 97/207 [00:13<00:14,  7.60it/s]"
     ]
    },
    {
     "name": "stdout",
     "output_type": "stream",
     "text": [
      "\n",
      "0: 384x640 1 apple_marina_bay, 1 art_sci_museum, 1 helix_bridge, 1 lv_marina_bay, 1 mbs, 1 mbs_hotel, 1 sg_river, 34.6ms\n",
      "Speed: 2.5ms preprocess, 34.6ms inference, 3.2ms postprocess per image at shape (1, 3, 384, 640)\n"
     ]
    },
    {
     "name": "stderr",
     "output_type": "stream",
     "text": [
      " 47%|██████████████████████████████████████▎                                          | 98/207 [00:13<00:14,  7.36it/s]"
     ]
    },
    {
     "name": "stdout",
     "output_type": "stream",
     "text": [
      "\n",
      "0: 384x640 1 apple_marina_bay, 1 art_sci_museum, 2 helix_bridges, 2 lv_marina_bays, 1 mbs, 1 mbs_hotel, 1 sg_river, 26.0ms\n",
      "Speed: 2.4ms preprocess, 26.0ms inference, 3.2ms postprocess per image at shape (1, 3, 384, 640)\n"
     ]
    },
    {
     "name": "stderr",
     "output_type": "stream",
     "text": [
      " 48%|██████████████████████████████████████▋                                          | 99/207 [00:14<00:14,  7.47it/s]"
     ]
    },
    {
     "name": "stdout",
     "output_type": "stream",
     "text": [
      "\n",
      "0: 384x640 1 apple_marina_bay, 1 art_sci_museum, 1 helix_bridge, 2 lv_marina_bays, 1 mbs, 1 mbs_hotel, 1 sg_river, 32.8ms\n",
      "Speed: 2.6ms preprocess, 32.8ms inference, 2.7ms postprocess per image at shape (1, 3, 384, 640)\n"
     ]
    },
    {
     "name": "stderr",
     "output_type": "stream",
     "text": [
      " 48%|██████████████████████████████████████▋                                         | 100/207 [00:14<00:14,  7.16it/s]"
     ]
    },
    {
     "name": "stdout",
     "output_type": "stream",
     "text": [
      "\n",
      "0: 384x640 1 apple_marina_bay, 1 art_sci_museum, 1 helix_bridge, 1 lv_marina_bay, 1 mbs, 1 mbs_hotel, 1 sg_river, 31.2ms\n",
      "Speed: 2.6ms preprocess, 31.2ms inference, 2.2ms postprocess per image at shape (1, 3, 384, 640)\n"
     ]
    },
    {
     "name": "stderr",
     "output_type": "stream",
     "text": [
      " 49%|███████████████████████████████████████                                         | 101/207 [00:14<00:14,  7.30it/s]"
     ]
    },
    {
     "name": "stdout",
     "output_type": "stream",
     "text": [
      "\n",
      "0: 384x640 1 apple_marina_bay, 1 art_sci_museum, 2 helix_bridges, 1 lv_marina_bay, 1 mbs, 1 mbs_hotel, 1 sg_river, 31.9ms\n",
      "Speed: 3.1ms preprocess, 31.9ms inference, 3.2ms postprocess per image at shape (1, 3, 384, 640)\n"
     ]
    },
    {
     "name": "stderr",
     "output_type": "stream",
     "text": [
      " 49%|███████████████████████████████████████▍                                        | 102/207 [00:14<00:15,  6.92it/s]"
     ]
    },
    {
     "name": "stdout",
     "output_type": "stream",
     "text": [
      "\n",
      "0: 384x640 1 apple_marina_bay, 1 art_sci_museum, 2 helix_bridges, 1 lv_marina_bay, 1 mbs, 1 mbs_hotel, 1 sg_river, 33.7ms\n",
      "Speed: 2.9ms preprocess, 33.7ms inference, 3.8ms postprocess per image at shape (1, 3, 384, 640)\n"
     ]
    },
    {
     "name": "stderr",
     "output_type": "stream",
     "text": [
      " 50%|███████████████████████████████████████▊                                        | 103/207 [00:14<00:14,  6.96it/s]"
     ]
    },
    {
     "name": "stdout",
     "output_type": "stream",
     "text": [
      "\n",
      "0: 384x640 1 apple_marina_bay, 1 art_sci_museum, 1 helix_bridge, 1 lv_marina_bay, 1 mbs, 1 mbs_hotel, 1 sg_river, 32.3ms\n",
      "Speed: 3.4ms preprocess, 32.3ms inference, 3.4ms postprocess per image at shape (1, 3, 384, 640)\n"
     ]
    },
    {
     "name": "stderr",
     "output_type": "stream",
     "text": [
      " 50%|████████████████████████████████████████▏                                       | 104/207 [00:14<00:15,  6.75it/s]"
     ]
    },
    {
     "name": "stdout",
     "output_type": "stream",
     "text": [
      "\n",
      "0: 384x640 1 apple_marina_bay, 1 art_sci_museum, 1 helix_bridge, 1 lv_marina_bay, 1 mbs, 1 mbs_hotel, 1 sg_river, 34.3ms\n",
      "Speed: 4.0ms preprocess, 34.3ms inference, 3.2ms postprocess per image at shape (1, 3, 384, 640)\n"
     ]
    },
    {
     "name": "stderr",
     "output_type": "stream",
     "text": [
      " 51%|████████████████████████████████████████▌                                       | 105/207 [00:14<00:15,  6.44it/s]"
     ]
    },
    {
     "name": "stdout",
     "output_type": "stream",
     "text": [
      "\n",
      "0: 384x640 1 apple_marina_bay, 1 art_sci_museum, 1 helix_bridge, 2 lv_marina_bays, 1 mbs, 1 mbs_hotel, 1 sg_river, 33.3ms\n",
      "Speed: 2.9ms preprocess, 33.3ms inference, 3.3ms postprocess per image at shape (1, 3, 384, 640)\n"
     ]
    },
    {
     "name": "stderr",
     "output_type": "stream",
     "text": [
      " 51%|████████████████████████████████████████▉                                       | 106/207 [00:15<00:15,  6.44it/s]"
     ]
    },
    {
     "name": "stdout",
     "output_type": "stream",
     "text": [
      "\n",
      "0: 384x640 1 apple_marina_bay, 1 art_sci_museum, 2 helix_bridges, 1 mbs, 1 mbs_hotel, 1 sg_river, 32.2ms\n",
      "Speed: 3.0ms preprocess, 32.2ms inference, 3.4ms postprocess per image at shape (1, 3, 384, 640)\n"
     ]
    },
    {
     "name": "stderr",
     "output_type": "stream",
     "text": [
      " 52%|█████████████████████████████████████████▎                                      | 107/207 [00:15<00:15,  6.59it/s]"
     ]
    },
    {
     "name": "stdout",
     "output_type": "stream",
     "text": [
      "\n",
      "0: 384x640 1 apple_marina_bay, 1 art_sci_museum, 2 helix_bridges, 1 mbs, 1 mbs_hotel, 1 sg_river, 33.6ms\n",
      "Speed: 2.9ms preprocess, 33.6ms inference, 3.6ms postprocess per image at shape (1, 3, 384, 640)\n"
     ]
    },
    {
     "name": "stderr",
     "output_type": "stream",
     "text": [
      " 52%|█████████████████████████████████████████▋                                      | 108/207 [00:15<00:15,  6.45it/s]"
     ]
    },
    {
     "name": "stdout",
     "output_type": "stream",
     "text": [
      "\n",
      "0: 384x640 1 apple_marina_bay, 1 art_sci_museum, 2 helix_bridges, 1 lv_marina_bay, 1 mbs, 1 mbs_hotel, 1 sg_river, 32.4ms\n",
      "Speed: 3.6ms preprocess, 32.4ms inference, 3.2ms postprocess per image at shape (1, 3, 384, 640)\n"
     ]
    },
    {
     "name": "stderr",
     "output_type": "stream",
     "text": [
      " 53%|██████████████████████████████████████████▏                                     | 109/207 [00:15<00:15,  6.21it/s]"
     ]
    },
    {
     "name": "stdout",
     "output_type": "stream",
     "text": [
      "\n",
      "0: 384x640 1 apple_marina_bay, 1 art_sci_museum, 2 helix_bridges, 1 lv_marina_bay, 1 mbs, 1 mbs_hotel, 1 sg_river, 33.7ms\n",
      "Speed: 2.9ms preprocess, 33.7ms inference, 3.6ms postprocess per image at shape (1, 3, 384, 640)\n"
     ]
    },
    {
     "name": "stderr",
     "output_type": "stream",
     "text": [
      " 53%|██████████████████████████████████████████▌                                     | 110/207 [00:15<00:15,  6.29it/s]"
     ]
    },
    {
     "name": "stdout",
     "output_type": "stream",
     "text": [
      "\n",
      "0: 384x640 1 apple_marina_bay, 1 art_sci_museum, 2 helix_bridges, 1 mbs, 1 mbs_hotel, 1 sg_river, 33.0ms\n",
      "Speed: 2.9ms preprocess, 33.0ms inference, 3.8ms postprocess per image at shape (1, 3, 384, 640)\n"
     ]
    },
    {
     "name": "stderr",
     "output_type": "stream",
     "text": [
      " 54%|██████████████████████████████████████████▉                                     | 111/207 [00:15<00:15,  6.31it/s]"
     ]
    },
    {
     "name": "stdout",
     "output_type": "stream",
     "text": [
      "\n",
      "0: 384x640 1 apple_marina_bay, 1 art_sci_museum, 1 helix_bridge, 1 mbs, 1 mbs_hotel, 1 sg_river, 32.9ms\n",
      "Speed: 3.0ms preprocess, 32.9ms inference, 3.3ms postprocess per image at shape (1, 3, 384, 640)\n"
     ]
    },
    {
     "name": "stderr",
     "output_type": "stream",
     "text": [
      " 54%|███████████████████████████████████████████▎                                    | 112/207 [00:16<00:14,  6.38it/s]"
     ]
    },
    {
     "name": "stdout",
     "output_type": "stream",
     "text": [
      "\n",
      "0: 384x640 1 apple_marina_bay, 1 art_sci_museum, 2 helix_bridges, 1 lv_marina_bay, 1 mbs, 1 mbs_hotel, 1 sg_river, 33.6ms\n",
      "Speed: 2.9ms preprocess, 33.6ms inference, 3.1ms postprocess per image at shape (1, 3, 384, 640)\n"
     ]
    },
    {
     "name": "stderr",
     "output_type": "stream",
     "text": [
      " 55%|███████████████████████████████████████████▋                                    | 113/207 [00:16<00:14,  6.30it/s]"
     ]
    },
    {
     "name": "stdout",
     "output_type": "stream",
     "text": [
      "\n",
      "0: 384x640 1 apple_marina_bay, 1 art_sci_museum, 2 helix_bridges, 1 lv_marina_bay, 1 mbs, 1 mbs_hotel, 1 sg_river, 32.6ms\n",
      "Speed: 3.0ms preprocess, 32.6ms inference, 3.2ms postprocess per image at shape (1, 3, 384, 640)\n"
     ]
    },
    {
     "name": "stderr",
     "output_type": "stream",
     "text": [
      " 55%|████████████████████████████████████████████                                    | 114/207 [00:16<00:14,  6.59it/s]"
     ]
    },
    {
     "name": "stdout",
     "output_type": "stream",
     "text": [
      "\n",
      "0: 384x640 1 apple_marina_bay, 1 art_sci_museum, 2 helix_bridges, 1 lv_marina_bay, 1 mbs, 1 mbs_hotel, 1 sg_river, 35.5ms\n",
      "Speed: 2.8ms preprocess, 35.5ms inference, 3.2ms postprocess per image at shape (1, 3, 384, 640)\n"
     ]
    },
    {
     "name": "stderr",
     "output_type": "stream",
     "text": [
      " 56%|████████████████████████████████████████████▍                                   | 115/207 [00:16<00:14,  6.53it/s]"
     ]
    },
    {
     "name": "stdout",
     "output_type": "stream",
     "text": [
      "\n",
      "0: 384x640 1 apple_marina_bay, 1 art_sci_museum, 2 helix_bridges, 1 lv_marina_bay, 1 mbs, 1 mbs_hotel, 1 sg_river, 30.7ms\n",
      "Speed: 2.9ms preprocess, 30.7ms inference, 3.5ms postprocess per image at shape (1, 3, 384, 640)\n"
     ]
    },
    {
     "name": "stderr",
     "output_type": "stream",
     "text": [
      " 56%|████████████████████████████████████████████▊                                   | 116/207 [00:16<00:14,  6.49it/s]"
     ]
    },
    {
     "name": "stdout",
     "output_type": "stream",
     "text": [
      "\n",
      "0: 384x640 1 apple_marina_bay, 1 art_sci_museum, 2 helix_bridges, 1 mbs, 1 mbs_hotel, 1 sg_river, 34.1ms\n",
      "Speed: 2.9ms preprocess, 34.1ms inference, 3.5ms postprocess per image at shape (1, 3, 384, 640)\n"
     ]
    },
    {
     "name": "stderr",
     "output_type": "stream",
     "text": [
      " 57%|█████████████████████████████████████████████▏                                  | 117/207 [00:16<00:13,  6.46it/s]"
     ]
    },
    {
     "name": "stdout",
     "output_type": "stream",
     "text": [
      "\n",
      "0: 384x640 1 apple_marina_bay, 1 art_sci_museum, 2 helix_bridges, 1 mbs, 1 mbs_hotel, 1 sg_river, 33.2ms\n",
      "Speed: 2.9ms preprocess, 33.2ms inference, 3.3ms postprocess per image at shape (1, 3, 384, 640)\n"
     ]
    },
    {
     "name": "stderr",
     "output_type": "stream",
     "text": [
      " 57%|█████████████████████████████████████████████▌                                  | 118/207 [00:17<00:13,  6.41it/s]"
     ]
    },
    {
     "name": "stdout",
     "output_type": "stream",
     "text": [
      "\n",
      "0: 384x640 1 apple_marina_bay, 1 art_sci_museum, 2 helix_bridges, 1 mbs, 1 mbs_hotel, 1 sg_river, 30.1ms\n",
      "Speed: 2.8ms preprocess, 30.1ms inference, 3.1ms postprocess per image at shape (1, 3, 384, 640)\n"
     ]
    },
    {
     "name": "stderr",
     "output_type": "stream",
     "text": [
      " 57%|█████████████████████████████████████████████▉                                  | 119/207 [00:17<00:13,  6.44it/s]"
     ]
    },
    {
     "name": "stdout",
     "output_type": "stream",
     "text": [
      "\n",
      "0: 384x640 1 apple_marina_bay, 1 art_sci_museum, 2 helix_bridges, 1 lv_marina_bay, 1 mbs, 1 mbs_hotel, 1 sg_river, 32.5ms\n",
      "Speed: 2.9ms preprocess, 32.5ms inference, 3.3ms postprocess per image at shape (1, 3, 384, 640)\n"
     ]
    },
    {
     "name": "stderr",
     "output_type": "stream",
     "text": [
      " 58%|██████████████████████████████████████████████▍                                 | 120/207 [00:17<00:13,  6.62it/s]"
     ]
    },
    {
     "name": "stdout",
     "output_type": "stream",
     "text": [
      "\n",
      "0: 384x640 1 apple_marina_bay, 1 art_sci_museum, 2 helix_bridges, 1 lv_marina_bay, 1 mbs, 1 mbs_hotel, 1 sg_river, 30.4ms\n",
      "Speed: 2.8ms preprocess, 30.4ms inference, 4.2ms postprocess per image at shape (1, 3, 384, 640)\n"
     ]
    },
    {
     "name": "stderr",
     "output_type": "stream",
     "text": [
      " 58%|██████████████████████████████████████████████▊                                 | 121/207 [00:17<00:13,  6.57it/s]"
     ]
    },
    {
     "name": "stdout",
     "output_type": "stream",
     "text": [
      "\n",
      "0: 384x640 1 apple_marina_bay, 1 art_sci_museum, 2 helix_bridges, 1 lv_marina_bay, 1 mbs, 1 mbs_hotel, 1 sg_river, 33.1ms\n",
      "Speed: 2.8ms preprocess, 33.1ms inference, 3.1ms postprocess per image at shape (1, 3, 384, 640)\n"
     ]
    },
    {
     "name": "stderr",
     "output_type": "stream",
     "text": [
      " 59%|███████████████████████████████████████████████▏                                | 122/207 [00:17<00:12,  6.57it/s]"
     ]
    },
    {
     "name": "stdout",
     "output_type": "stream",
     "text": [
      "\n",
      "0: 384x640 1 apple_marina_bay, 1 art_sci_museum, 2 helix_bridges, 1 lv_marina_bay, 1 mbs, 1 mbs_hotel, 1 sg_river, 35.5ms\n",
      "Speed: 2.9ms preprocess, 35.5ms inference, 4.1ms postprocess per image at shape (1, 3, 384, 640)\n"
     ]
    },
    {
     "name": "stderr",
     "output_type": "stream",
     "text": [
      " 59%|███████████████████████████████████████████████▌                                | 123/207 [00:17<00:13,  6.44it/s]"
     ]
    },
    {
     "name": "stdout",
     "output_type": "stream",
     "text": [
      "\n",
      "0: 384x640 1 apple_marina_bay, 1 art_sci_museum, 2 helix_bridges, 2 lv_marina_bays, 1 mbs, 1 mbs_hotel, 1 sg_river, 34.2ms\n",
      "Speed: 2.8ms preprocess, 34.2ms inference, 3.3ms postprocess per image at shape (1, 3, 384, 640)\n"
     ]
    },
    {
     "name": "stderr",
     "output_type": "stream",
     "text": [
      " 60%|███████████████████████████████████████████████▉                                | 124/207 [00:17<00:13,  6.27it/s]"
     ]
    },
    {
     "name": "stdout",
     "output_type": "stream",
     "text": [
      "\n",
      "0: 384x640 1 apple_marina_bay, 1 art_sci_museum, 2 helix_bridges, 1 lv_marina_bay, 1 mbs, 1 mbs_hotel, 1 sg_river, 32.1ms\n",
      "Speed: 2.9ms preprocess, 32.1ms inference, 2.8ms postprocess per image at shape (1, 3, 384, 640)\n"
     ]
    },
    {
     "name": "stderr",
     "output_type": "stream",
     "text": [
      " 60%|████████████████████████████████████████████████▎                               | 125/207 [00:18<00:12,  6.36it/s]"
     ]
    },
    {
     "name": "stdout",
     "output_type": "stream",
     "text": [
      "\n",
      "0: 384x640 1 apple_marina_bay, 1 art_sci_museum, 2 helix_bridges, 1 lv_marina_bay, 1 mbs, 1 mbs_hotel, 1 sg_river, 33.9ms\n",
      "Speed: 5.5ms preprocess, 33.9ms inference, 3.4ms postprocess per image at shape (1, 3, 384, 640)\n"
     ]
    },
    {
     "name": "stderr",
     "output_type": "stream",
     "text": [
      " 61%|████████████████████████████████████████████████▋                               | 126/207 [00:18<00:12,  6.57it/s]"
     ]
    },
    {
     "name": "stdout",
     "output_type": "stream",
     "text": [
      "\n",
      "0: 384x640 1 apple_marina_bay, 1 art_sci_museum, 2 helix_bridges, 1 lv_marina_bay, 1 mbs, 1 mbs_hotel, 1 sg_river, 31.8ms\n",
      "Speed: 2.9ms preprocess, 31.8ms inference, 2.2ms postprocess per image at shape (1, 3, 384, 640)\n"
     ]
    },
    {
     "name": "stderr",
     "output_type": "stream",
     "text": [
      " 61%|█████████████████████████████████████████████████                               | 127/207 [00:18<00:12,  6.56it/s]"
     ]
    },
    {
     "name": "stdout",
     "output_type": "stream",
     "text": [
      "\n",
      "0: 384x640 1 apple_marina_bay, 1 art_sci_museum, 2 helix_bridges, 1 mbs, 1 mbs_hotel, 1 sg_river, 36.1ms\n",
      "Speed: 2.9ms preprocess, 36.1ms inference, 3.5ms postprocess per image at shape (1, 3, 384, 640)\n"
     ]
    },
    {
     "name": "stderr",
     "output_type": "stream",
     "text": [
      " 62%|█████████████████████████████████████████████████▍                              | 128/207 [00:18<00:12,  6.46it/s]"
     ]
    },
    {
     "name": "stdout",
     "output_type": "stream",
     "text": [
      "\n",
      "0: 384x640 1 apple_marina_bay, 1 art_sci_museum, 2 helix_bridges, 1 lv_marina_bay, 1 mbs, 1 mbs_hotel, 1 sg_river, 33.6ms\n",
      "Speed: 2.8ms preprocess, 33.6ms inference, 3.3ms postprocess per image at shape (1, 3, 384, 640)\n"
     ]
    },
    {
     "name": "stderr",
     "output_type": "stream",
     "text": [
      " 62%|█████████████████████████████████████████████████▊                              | 129/207 [00:18<00:12,  6.42it/s]"
     ]
    },
    {
     "name": "stdout",
     "output_type": "stream",
     "text": [
      "\n",
      "0: 384x640 1 apple_marina_bay, 1 art_sci_museum, 2 helix_bridges, 1 mbs, 1 mbs_hotel, 1 sg_river, 36.0ms\n",
      "Speed: 2.9ms preprocess, 36.0ms inference, 5.2ms postprocess per image at shape (1, 3, 384, 640)\n"
     ]
    },
    {
     "name": "stderr",
     "output_type": "stream",
     "text": [
      " 63%|██████████████████████████████████████████████████▏                             | 130/207 [00:18<00:12,  6.27it/s]"
     ]
    },
    {
     "name": "stdout",
     "output_type": "stream",
     "text": [
      "\n",
      "0: 384x640 1 apple_marina_bay, 1 art_sci_museum, 2 helix_bridges, 1 lv_marina_bay, 1 mbs, 1 mbs_hotel, 1 sg_river, 36.2ms\n",
      "Speed: 3.9ms preprocess, 36.2ms inference, 4.4ms postprocess per image at shape (1, 3, 384, 640)\n"
     ]
    },
    {
     "name": "stderr",
     "output_type": "stream",
     "text": [
      " 63%|██████████████████████████████████████████████████▋                             | 131/207 [00:19<00:12,  6.33it/s]"
     ]
    },
    {
     "name": "stdout",
     "output_type": "stream",
     "text": [
      "\n",
      "0: 384x640 1 apple_marina_bay, 1 art_sci_museum, 2 helix_bridges, 3 lv_marina_bays, 1 mbs, 1 mbs_hotel, 1 sg_river, 33.3ms\n",
      "Speed: 2.9ms preprocess, 33.3ms inference, 3.4ms postprocess per image at shape (1, 3, 384, 640)\n"
     ]
    },
    {
     "name": "stderr",
     "output_type": "stream",
     "text": [
      " 64%|███████████████████████████████████████████████████                             | 132/207 [00:19<00:11,  6.26it/s]"
     ]
    },
    {
     "name": "stdout",
     "output_type": "stream",
     "text": [
      "\n",
      "0: 384x640 1 apple_marina_bay, 1 art_sci_museum, 2 helix_bridges, 1 mbs, 1 mbs_hotel, 1 sg_river, 32.6ms\n",
      "Speed: 2.5ms preprocess, 32.6ms inference, 3.4ms postprocess per image at shape (1, 3, 384, 640)\n"
     ]
    },
    {
     "name": "stderr",
     "output_type": "stream",
     "text": [
      " 64%|███████████████████████████████████████████████████▍                            | 133/207 [00:19<00:11,  6.40it/s]"
     ]
    },
    {
     "name": "stdout",
     "output_type": "stream",
     "text": [
      "\n",
      "0: 384x640 1 apple_marina_bay, 1 art_sci_museum, 2 helix_bridges, 1 lv_marina_bay, 1 mbs, 1 mbs_hotel, 1 sg_river, 34.8ms\n",
      "Speed: 2.4ms preprocess, 34.8ms inference, 3.2ms postprocess per image at shape (1, 3, 384, 640)\n"
     ]
    },
    {
     "name": "stderr",
     "output_type": "stream",
     "text": [
      " 65%|███████████████████████████████████████████████████▊                            | 134/207 [00:19<00:11,  6.57it/s]"
     ]
    },
    {
     "name": "stdout",
     "output_type": "stream",
     "text": [
      "\n",
      "0: 384x640 1 apple_marina_bay, 1 art_sci_museum, 2 helix_bridges, 1 mbs, 1 mbs_hotel, 1 sg_river, 31.7ms\n",
      "Speed: 2.5ms preprocess, 31.7ms inference, 2.5ms postprocess per image at shape (1, 3, 384, 640)\n"
     ]
    },
    {
     "name": "stderr",
     "output_type": "stream",
     "text": [
      " 65%|████████████████████████████████████████████████████▏                           | 135/207 [00:19<00:10,  6.62it/s]"
     ]
    },
    {
     "name": "stdout",
     "output_type": "stream",
     "text": [
      "\n",
      "0: 384x640 1 apple_marina_bay, 1 art_sci_museum, 2 helix_bridges, 1 lv_marina_bay, 1 mbs, 1 mbs_hotel, 1 sg_river, 25.1ms\n",
      "Speed: 2.3ms preprocess, 25.1ms inference, 2.2ms postprocess per image at shape (1, 3, 384, 640)\n"
     ]
    },
    {
     "name": "stderr",
     "output_type": "stream",
     "text": [
      " 66%|████████████████████████████████████████████████████▌                           | 136/207 [00:19<00:10,  6.89it/s]"
     ]
    },
    {
     "name": "stdout",
     "output_type": "stream",
     "text": [
      "\n",
      "0: 384x640 1 apple_marina_bay, 1 art_sci_museum, 1 helix_bridge, 1 mbs, 1 mbs_hotel, 1 sg_river, 23.7ms\n",
      "Speed: 2.4ms preprocess, 23.7ms inference, 2.1ms postprocess per image at shape (1, 3, 384, 640)\n"
     ]
    },
    {
     "name": "stderr",
     "output_type": "stream",
     "text": [
      " 66%|████████████████████████████████████████████████████▉                           | 137/207 [00:19<00:09,  7.01it/s]"
     ]
    },
    {
     "name": "stdout",
     "output_type": "stream",
     "text": [
      "\n",
      "0: 384x640 1 apple_marina_bay, 1 art_sci_museum, 2 helix_bridges, 1 lv_marina_bay, 1 mbs, 1 mbs_hotel, 1 sg_river, 24.3ms\n",
      "Speed: 2.4ms preprocess, 24.3ms inference, 2.5ms postprocess per image at shape (1, 3, 384, 640)\n"
     ]
    },
    {
     "name": "stderr",
     "output_type": "stream",
     "text": [
      " 67%|█████████████████████████████████████████████████████▎                          | 138/207 [00:20<00:09,  7.41it/s]"
     ]
    },
    {
     "name": "stdout",
     "output_type": "stream",
     "text": [
      "\n",
      "0: 384x640 1 apple_marina_bay, 1 art_sci_museum, 2 helix_bridges, 3 lv_marina_bays, 1 mbs, 1 mbs_hotel, 1 sg_river, 23.6ms\n",
      "Speed: 2.3ms preprocess, 23.6ms inference, 2.4ms postprocess per image at shape (1, 3, 384, 640)\n"
     ]
    },
    {
     "name": "stderr",
     "output_type": "stream",
     "text": [
      " 67%|█████████████████████████████████████████████████████▋                          | 139/207 [00:20<00:09,  7.47it/s]"
     ]
    },
    {
     "name": "stdout",
     "output_type": "stream",
     "text": [
      "\n",
      "0: 384x640 1 apple_marina_bay, 1 art_sci_museum, 2 helix_bridges, 1 lv_marina_bay, 1 mbs, 1 mbs_hotel, 1 sg_river, 22.4ms\n",
      "Speed: 2.3ms preprocess, 22.4ms inference, 2.6ms postprocess per image at shape (1, 3, 384, 640)\n"
     ]
    },
    {
     "name": "stderr",
     "output_type": "stream",
     "text": [
      " 68%|██████████████████████████████████████████████████████                          | 140/207 [00:20<00:08,  7.59it/s]"
     ]
    },
    {
     "name": "stdout",
     "output_type": "stream",
     "text": [
      "\n",
      "0: 384x640 1 apple_marina_bay, 1 art_sci_museum, 2 helix_bridges, 1 mbs, 1 mbs_hotel, 1 sg_river, 23.6ms\n",
      "Speed: 2.3ms preprocess, 23.6ms inference, 2.2ms postprocess per image at shape (1, 3, 384, 640)\n"
     ]
    },
    {
     "name": "stderr",
     "output_type": "stream",
     "text": [
      " 68%|██████████████████████████████████████████████████████▍                         | 141/207 [00:20<00:08,  7.74it/s]"
     ]
    },
    {
     "name": "stdout",
     "output_type": "stream",
     "text": [
      "\n",
      "0: 384x640 1 apple_marina_bay, 1 art_sci_museum, 2 helix_bridges, 1 lv_marina_bay, 1 mbs, 1 mbs_hotel, 1 sg_river, 24.8ms\n",
      "Speed: 3.3ms preprocess, 24.8ms inference, 3.8ms postprocess per image at shape (1, 3, 384, 640)\n"
     ]
    },
    {
     "name": "stderr",
     "output_type": "stream",
     "text": [
      " 69%|██████████████████████████████████████████████████████▉                         | 142/207 [00:20<00:08,  7.65it/s]"
     ]
    },
    {
     "name": "stdout",
     "output_type": "stream",
     "text": [
      "\n",
      "0: 384x640 1 apple_marina_bay, 1 art_sci_museum, 2 helix_bridges, 1 mbs, 1 mbs_hotel, 1 sg_river, 23.3ms\n",
      "Speed: 2.3ms preprocess, 23.3ms inference, 2.2ms postprocess per image at shape (1, 3, 384, 640)\n"
     ]
    },
    {
     "name": "stderr",
     "output_type": "stream",
     "text": [
      " 69%|███████████████████████████████████████████████████████▎                        | 143/207 [00:20<00:08,  7.67it/s]"
     ]
    },
    {
     "name": "stdout",
     "output_type": "stream",
     "text": [
      "\n",
      "0: 384x640 1 apple_marina_bay, 1 art_sci_museum, 2 helix_bridges, 1 lv_marina_bay, 1 mbs, 1 mbs_hotel, 1 sg_river, 23.8ms\n",
      "Speed: 2.4ms preprocess, 23.8ms inference, 2.1ms postprocess per image at shape (1, 3, 384, 640)\n"
     ]
    },
    {
     "name": "stderr",
     "output_type": "stream",
     "text": [
      " 70%|███████████████████████████████████████████████████████▋                        | 144/207 [00:20<00:08,  7.56it/s]"
     ]
    },
    {
     "name": "stdout",
     "output_type": "stream",
     "text": [
      "\n",
      "0: 384x640 1 apple_marina_bay, 1 art_sci_museum, 2 helix_bridges, 1 lv_marina_bay, 1 mbs, 1 mbs_hotel, 1 sg_river, 22.8ms\n",
      "Speed: 2.4ms preprocess, 22.8ms inference, 2.1ms postprocess per image at shape (1, 3, 384, 640)\n"
     ]
    },
    {
     "name": "stderr",
     "output_type": "stream",
     "text": [
      " 70%|████████████████████████████████████████████████████████                        | 145/207 [00:20<00:08,  7.55it/s]"
     ]
    },
    {
     "name": "stdout",
     "output_type": "stream",
     "text": [
      "\n",
      "0: 384x640 1 apple_marina_bay, 1 art_sci_museum, 2 helix_bridges, 1 lv_marina_bay, 1 mbs, 1 mbs_hotel, 1 sg_river, 30.7ms\n",
      "Speed: 3.2ms preprocess, 30.7ms inference, 2.6ms postprocess per image at shape (1, 3, 384, 640)\n"
     ]
    },
    {
     "name": "stderr",
     "output_type": "stream",
     "text": [
      " 71%|████████████████████████████████████████████████████████▍                       | 146/207 [00:21<00:07,  7.63it/s]"
     ]
    },
    {
     "name": "stdout",
     "output_type": "stream",
     "text": [
      "\n",
      "0: 384x640 1 apple_marina_bay, 1 art_sci_museum, 2 helix_bridges, 1 lv_marina_bay, 1 mbs, 1 mbs_hotel, 1 sg_river, 29.6ms\n",
      "Speed: 2.7ms preprocess, 29.6ms inference, 2.4ms postprocess per image at shape (1, 3, 384, 640)\n"
     ]
    },
    {
     "name": "stderr",
     "output_type": "stream",
     "text": [
      " 71%|████████████████████████████████████████████████████████▊                       | 147/207 [00:21<00:08,  7.16it/s]"
     ]
    },
    {
     "name": "stdout",
     "output_type": "stream",
     "text": [
      "\n",
      "0: 384x640 1 apple_marina_bay, 1 art_sci_museum, 2 helix_bridges, 1 lv_marina_bay, 1 mbs, 1 mbs_hotel, 1 sg_river, 35.1ms\n",
      "Speed: 2.5ms preprocess, 35.1ms inference, 3.4ms postprocess per image at shape (1, 3, 384, 640)\n"
     ]
    },
    {
     "name": "stderr",
     "output_type": "stream",
     "text": [
      " 71%|█████████████████████████████████████████████████████████▏                      | 148/207 [00:21<00:08,  6.86it/s]"
     ]
    },
    {
     "name": "stdout",
     "output_type": "stream",
     "text": [
      "\n",
      "0: 384x640 1 apple_marina_bay, 1 art_sci_museum, 2 helix_bridges, 1 lv_marina_bay, 1 mbs, 1 mbs_hotel, 1 sg_river, 33.8ms\n",
      "Speed: 4.1ms preprocess, 33.8ms inference, 3.7ms postprocess per image at shape (1, 3, 384, 640)\n"
     ]
    },
    {
     "name": "stderr",
     "output_type": "stream",
     "text": [
      " 72%|█████████████████████████████████████████████████████████▌                      | 149/207 [00:21<00:08,  6.68it/s]"
     ]
    },
    {
     "name": "stdout",
     "output_type": "stream",
     "text": [
      "\n",
      "0: 384x640 1 apple_marina_bay, 1 art_sci_museum, 2 helix_bridges, 1 lv_marina_bay, 1 mbs, 1 mbs_hotel, 1 sg_river, 30.4ms\n",
      "Speed: 2.9ms preprocess, 30.4ms inference, 3.1ms postprocess per image at shape (1, 3, 384, 640)\n"
     ]
    },
    {
     "name": "stderr",
     "output_type": "stream",
     "text": [
      " 72%|█████████████████████████████████████████████████████████▉                      | 150/207 [00:21<00:08,  6.89it/s]"
     ]
    },
    {
     "name": "stdout",
     "output_type": "stream",
     "text": [
      "\n",
      "0: 384x640 1 apple_marina_bay, 1 art_sci_museum, 2 helix_bridges, 1 lv_marina_bay, 1 mbs, 1 mbs_hotel, 1 sg_river, 29.2ms\n",
      "Speed: 2.9ms preprocess, 29.2ms inference, 3.3ms postprocess per image at shape (1, 3, 384, 640)\n"
     ]
    },
    {
     "name": "stderr",
     "output_type": "stream",
     "text": [
      " 73%|██████████████████████████████████████████████████████████▎                     | 151/207 [00:21<00:08,  6.79it/s]"
     ]
    },
    {
     "name": "stdout",
     "output_type": "stream",
     "text": [
      "\n",
      "0: 384x640 1 apple_marina_bay, 1 art_sci_museum, 2 helix_bridges, 2 lv_marina_bays, 1 mbs, 1 mbs_hotel, 1 sg_river, 29.0ms\n",
      "Speed: 2.8ms preprocess, 29.0ms inference, 3.1ms postprocess per image at shape (1, 3, 384, 640)\n"
     ]
    },
    {
     "name": "stderr",
     "output_type": "stream",
     "text": [
      " 73%|██████████████████████████████████████████████████████████▋                     | 152/207 [00:21<00:08,  6.70it/s]"
     ]
    },
    {
     "name": "stdout",
     "output_type": "stream",
     "text": [
      "\n",
      "0: 384x640 1 apple_marina_bay, 1 art_sci_museum, 1 helix_bridge, 1 lv_marina_bay, 1 mbs, 1 mbs_hotel, 1 sg_river, 25.3ms\n",
      "Speed: 2.7ms preprocess, 25.3ms inference, 2.6ms postprocess per image at shape (1, 3, 384, 640)\n"
     ]
    },
    {
     "name": "stderr",
     "output_type": "stream",
     "text": [
      " 74%|███████████████████████████████████████████████████████████▏                    | 153/207 [00:22<00:07,  6.98it/s]"
     ]
    },
    {
     "name": "stdout",
     "output_type": "stream",
     "text": [
      "\n",
      "0: 384x640 1 apple_marina_bay, 1 art_sci_museum, 2 helix_bridges, 1 lv_marina_bay, 1 mbs, 1 mbs_hotel, 1 sg_river, 24.6ms\n",
      "Speed: 3.3ms preprocess, 24.6ms inference, 1.9ms postprocess per image at shape (1, 3, 384, 640)\n"
     ]
    },
    {
     "name": "stderr",
     "output_type": "stream",
     "text": [
      " 74%|███████████████████████████████████████████████████████████▌                    | 154/207 [00:22<00:07,  7.20it/s]"
     ]
    },
    {
     "name": "stdout",
     "output_type": "stream",
     "text": [
      "\n",
      "0: 384x640 1 apple_marina_bay, 1 art_sci_museum, 2 helix_bridges, 1 lv_marina_bay, 1 mbs, 1 mbs_hotel, 1 sg_river, 29.8ms\n",
      "Speed: 3.6ms preprocess, 29.8ms inference, 2.1ms postprocess per image at shape (1, 3, 384, 640)\n"
     ]
    },
    {
     "name": "stderr",
     "output_type": "stream",
     "text": [
      " 75%|███████████████████████████████████████████████████████████▉                    | 155/207 [00:22<00:07,  7.11it/s]"
     ]
    },
    {
     "name": "stdout",
     "output_type": "stream",
     "text": [
      "\n",
      "0: 384x640 1 apple_marina_bay, 1 art_sci_museum, 2 helix_bridges, 1 lv_marina_bay, 1 mbs, 1 mbs_hotel, 1 sg_river, 23.0ms\n",
      "Speed: 2.3ms preprocess, 23.0ms inference, 2.7ms postprocess per image at shape (1, 3, 384, 640)\n"
     ]
    },
    {
     "name": "stderr",
     "output_type": "stream",
     "text": [
      " 75%|████████████████████████████████████████████████████████████▎                   | 156/207 [00:22<00:06,  7.48it/s]"
     ]
    },
    {
     "name": "stdout",
     "output_type": "stream",
     "text": [
      "\n",
      "0: 384x640 1 apple_marina_bay, 1 art_sci_museum, 2 helix_bridges, 1 lv_marina_bay, 1 mbs, 1 mbs_hotel, 1 sg_river, 24.1ms\n",
      "Speed: 2.5ms preprocess, 24.1ms inference, 2.5ms postprocess per image at shape (1, 3, 384, 640)\n"
     ]
    },
    {
     "name": "stderr",
     "output_type": "stream",
     "text": [
      " 76%|████████████████████████████████████████████████████████████▋                   | 157/207 [00:22<00:06,  7.61it/s]"
     ]
    },
    {
     "name": "stdout",
     "output_type": "stream",
     "text": [
      "\n",
      "0: 384x640 1 apple_marina_bay, 1 art_sci_museum, 1 helix_bridge, 1 lv_marina_bay, 1 mbs, 1 mbs_hotel, 1 sg_river, 29.2ms\n",
      "Speed: 2.8ms preprocess, 29.2ms inference, 3.0ms postprocess per image at shape (1, 3, 384, 640)\n"
     ]
    },
    {
     "name": "stderr",
     "output_type": "stream",
     "text": [
      " 76%|█████████████████████████████████████████████████████████████                   | 158/207 [00:22<00:06,  7.51it/s]"
     ]
    },
    {
     "name": "stdout",
     "output_type": "stream",
     "text": [
      "\n",
      "0: 384x640 1 apple_marina_bay, 1 art_sci_museum, 1 helix_bridge, 1 mbs, 1 mbs_hotel, 1 sg_river, 27.4ms\n",
      "Speed: 3.9ms preprocess, 27.4ms inference, 2.5ms postprocess per image at shape (1, 3, 384, 640)\n"
     ]
    },
    {
     "name": "stderr",
     "output_type": "stream",
     "text": [
      " 77%|█████████████████████████████████████████████████████████████▍                  | 159/207 [00:22<00:06,  7.45it/s]"
     ]
    },
    {
     "name": "stdout",
     "output_type": "stream",
     "text": [
      "\n",
      "0: 384x640 1 apple_marina_bay, 1 art_sci_museum, 1 helix_bridge, 1 lv_marina_bay, 1 mbs, 1 mbs_hotel, 1 sg_river, 22.8ms\n",
      "Speed: 2.4ms preprocess, 22.8ms inference, 2.2ms postprocess per image at shape (1, 3, 384, 640)\n"
     ]
    },
    {
     "name": "stderr",
     "output_type": "stream",
     "text": [
      " 77%|█████████████████████████████████████████████████████████████▊                  | 160/207 [00:23<00:06,  7.56it/s]"
     ]
    },
    {
     "name": "stdout",
     "output_type": "stream",
     "text": [
      "\n",
      "0: 384x640 1 apple_marina_bay, 1 art_sci_museum, 1 helix_bridge, 1 lv_marina_bay, 1 mbs, 1 mbs_hotel, 1 sg_river, 23.0ms\n",
      "Speed: 2.4ms preprocess, 23.0ms inference, 2.1ms postprocess per image at shape (1, 3, 384, 640)\n"
     ]
    },
    {
     "name": "stderr",
     "output_type": "stream",
     "text": [
      " 78%|██████████████████████████████████████████████████████████████▏                 | 161/207 [00:23<00:05,  7.82it/s]"
     ]
    },
    {
     "name": "stdout",
     "output_type": "stream",
     "text": [
      "\n",
      "0: 384x640 1 apple_marina_bay, 1 art_sci_museum, 1 helix_bridge, 1 lv_marina_bay, 1 mbs, 1 mbs_hotel, 1 sg_river, 28.4ms\n",
      "Speed: 3.0ms preprocess, 28.4ms inference, 2.6ms postprocess per image at shape (1, 3, 384, 640)\n"
     ]
    },
    {
     "name": "stderr",
     "output_type": "stream",
     "text": [
      " 78%|██████████████████████████████████████████████████████████████▌                 | 162/207 [00:23<00:05,  7.66it/s]"
     ]
    },
    {
     "name": "stdout",
     "output_type": "stream",
     "text": [
      "\n",
      "0: 384x640 1 apple_marina_bay, 1 art_sci_museum, 2 helix_bridges, 1 mbs, 1 mbs_hotel, 1 sg_river, 22.9ms\n",
      "Speed: 3.0ms preprocess, 22.9ms inference, 2.5ms postprocess per image at shape (1, 3, 384, 640)\n"
     ]
    },
    {
     "name": "stderr",
     "output_type": "stream",
     "text": [
      " 79%|██████████████████████████████████████████████████████████████▉                 | 163/207 [00:23<00:05,  7.66it/s]"
     ]
    },
    {
     "name": "stdout",
     "output_type": "stream",
     "text": [
      "\n",
      "0: 384x640 1 apple_marina_bay, 1 art_sci_museum, 2 helix_bridges, 1 lv_marina_bay, 1 mbs, 1 mbs_hotel, 1 sg_river, 23.9ms\n",
      "Speed: 2.7ms preprocess, 23.9ms inference, 3.0ms postprocess per image at shape (1, 3, 384, 640)\n"
     ]
    },
    {
     "name": "stderr",
     "output_type": "stream",
     "text": [
      " 79%|███████████████████████████████████████████████████████████████▍                | 164/207 [00:23<00:05,  7.69it/s]"
     ]
    },
    {
     "name": "stdout",
     "output_type": "stream",
     "text": [
      "\n",
      "0: 384x640 1 apple_marina_bay, 1 art_sci_museum, 1 helix_bridge, 1 mbs, 1 mbs_hotel, 1 sg_river, 22.6ms\n",
      "Speed: 2.5ms preprocess, 22.6ms inference, 2.4ms postprocess per image at shape (1, 3, 384, 640)\n"
     ]
    },
    {
     "name": "stderr",
     "output_type": "stream",
     "text": [
      " 80%|███████████████████████████████████████████████████████████████▊                | 165/207 [00:23<00:05,  7.70it/s]"
     ]
    },
    {
     "name": "stdout",
     "output_type": "stream",
     "text": [
      "\n",
      "0: 384x640 1 apple_marina_bay, 1 art_sci_museum, 1 helix_bridge, 1 lv_marina_bay, 1 mbs, 1 mbs_hotel, 1 sg_river, 25.4ms\n",
      "Speed: 2.5ms preprocess, 25.4ms inference, 1.6ms postprocess per image at shape (1, 3, 384, 640)\n"
     ]
    },
    {
     "name": "stderr",
     "output_type": "stream",
     "text": [
      " 80%|████████████████████████████████████████████████████████████████▏               | 166/207 [00:23<00:05,  7.63it/s]"
     ]
    },
    {
     "name": "stdout",
     "output_type": "stream",
     "text": [
      "\n",
      "0: 384x640 1 apple_marina_bay, 1 art_sci_museum, 1 helix_bridge, 1 lv_marina_bay, 1 mbs, 1 mbs_hotel, 1 sg_river, 32.5ms\n",
      "Speed: 3.5ms preprocess, 32.5ms inference, 2.2ms postprocess per image at shape (1, 3, 384, 640)\n"
     ]
    },
    {
     "name": "stderr",
     "output_type": "stream",
     "text": [
      " 81%|████████████████████████████████████████████████████████████████▌               | 167/207 [00:23<00:05,  7.28it/s]"
     ]
    },
    {
     "name": "stdout",
     "output_type": "stream",
     "text": [
      "\n",
      "0: 384x640 1 apple_marina_bay, 1 art_sci_museum, 1 helix_bridge, 1 lv_marina_bay, 1 mbs, 1 mbs_hotel, 1 sg_river, 31.6ms\n",
      "Speed: 3.0ms preprocess, 31.6ms inference, 2.6ms postprocess per image at shape (1, 3, 384, 640)\n"
     ]
    },
    {
     "name": "stderr",
     "output_type": "stream",
     "text": [
      " 81%|████████████████████████████████████████████████████████████████▉               | 168/207 [00:24<00:05,  7.24it/s]"
     ]
    },
    {
     "name": "stdout",
     "output_type": "stream",
     "text": [
      "\n",
      "0: 384x640 1 apple_marina_bay, 1 art_sci_museum, 1 helix_bridge, 1 lv_marina_bay, 1 mbs, 1 mbs_hotel, 1 sg_river, 31.0ms\n",
      "Speed: 2.7ms preprocess, 31.0ms inference, 2.2ms postprocess per image at shape (1, 3, 384, 640)\n"
     ]
    },
    {
     "name": "stderr",
     "output_type": "stream",
     "text": [
      " 82%|█████████████████████████████████████████████████████████████████▎              | 169/207 [00:24<00:05,  7.06it/s]"
     ]
    },
    {
     "name": "stdout",
     "output_type": "stream",
     "text": [
      "\n",
      "0: 384x640 1 apple_marina_bay, 1 art_sci_museum, 1 helix_bridge, 1 lv_marina_bay, 1 mbs, 1 mbs_hotel, 1 sg_river, 32.0ms\n",
      "Speed: 2.7ms preprocess, 32.0ms inference, 2.3ms postprocess per image at shape (1, 3, 384, 640)\n"
     ]
    },
    {
     "name": "stderr",
     "output_type": "stream",
     "text": [
      " 82%|█████████████████████████████████████████████████████████████████▋              | 170/207 [00:24<00:05,  6.76it/s]"
     ]
    },
    {
     "name": "stdout",
     "output_type": "stream",
     "text": [
      "\n",
      "0: 384x640 1 apple_marina_bay, 1 art_sci_museum, 1 helix_bridge, 1 mbs, 1 mbs_hotel, 1 sg_river, 31.2ms\n",
      "Speed: 2.8ms preprocess, 31.2ms inference, 1.4ms postprocess per image at shape (1, 3, 384, 640)\n"
     ]
    },
    {
     "name": "stderr",
     "output_type": "stream",
     "text": [
      " 83%|██████████████████████████████████████████████████████████████████              | 171/207 [00:24<00:05,  6.76it/s]"
     ]
    },
    {
     "name": "stdout",
     "output_type": "stream",
     "text": [
      "\n",
      "0: 384x640 1 apple_marina_bay, 1 art_sci_museum, 1 helix_bridge, 1 mbs, 1 mbs_hotel, 1 sg_river, 31.3ms\n",
      "Speed: 2.9ms preprocess, 31.3ms inference, 2.4ms postprocess per image at shape (1, 3, 384, 640)\n"
     ]
    },
    {
     "name": "stderr",
     "output_type": "stream",
     "text": [
      " 83%|██████████████████████████████████████████████████████████████████▍             | 172/207 [00:24<00:05,  6.62it/s]"
     ]
    },
    {
     "name": "stdout",
     "output_type": "stream",
     "text": [
      "\n",
      "0: 384x640 1 apple_marina_bay, 1 art_sci_museum, 1 helix_bridge, 1 mbs, 1 mbs_hotel, 1 sg_river, 31.9ms\n",
      "Speed: 2.8ms preprocess, 31.9ms inference, 2.3ms postprocess per image at shape (1, 3, 384, 640)\n"
     ]
    },
    {
     "name": "stderr",
     "output_type": "stream",
     "text": [
      " 84%|██████████████████████████████████████████████████████████████████▊             | 173/207 [00:24<00:05,  6.52it/s]"
     ]
    },
    {
     "name": "stdout",
     "output_type": "stream",
     "text": [
      "\n",
      "0: 384x640 1 apple_marina_bay, 1 art_sci_museum, 1 helix_bridge, 1 lv_marina_bay, 1 mbs, 1 mbs_hotel, 1 sg_river, 32.1ms\n",
      "Speed: 3.7ms preprocess, 32.1ms inference, 2.3ms postprocess per image at shape (1, 3, 384, 640)\n"
     ]
    },
    {
     "name": "stderr",
     "output_type": "stream",
     "text": [
      " 84%|███████████████████████████████████████████████████████████████████▏            | 174/207 [00:25<00:04,  6.82it/s]"
     ]
    },
    {
     "name": "stdout",
     "output_type": "stream",
     "text": [
      "\n",
      "0: 384x640 1 apple_marina_bay, 1 art_sci_museum, 1 helix_bridge, 1 mbs, 1 mbs_hotel, 1 sg_river, 29.0ms\n",
      "Speed: 3.3ms preprocess, 29.0ms inference, 2.2ms postprocess per image at shape (1, 3, 384, 640)\n"
     ]
    },
    {
     "name": "stderr",
     "output_type": "stream",
     "text": [
      " 85%|███████████████████████████████████████████████████████████████████▋            | 175/207 [00:25<00:04,  6.77it/s]"
     ]
    },
    {
     "name": "stdout",
     "output_type": "stream",
     "text": [
      "\n",
      "0: 384x640 1 apple_marina_bay, 1 art_sci_museum, 1 helix_bridge, 1 lv_marina_bay, 1 mbs, 1 mbs_hotel, 1 sg_river, 29.2ms\n",
      "Speed: 2.8ms preprocess, 29.2ms inference, 2.2ms postprocess per image at shape (1, 3, 384, 640)\n"
     ]
    },
    {
     "name": "stderr",
     "output_type": "stream",
     "text": [
      " 85%|████████████████████████████████████████████████████████████████████            | 176/207 [00:25<00:04,  6.68it/s]"
     ]
    },
    {
     "name": "stdout",
     "output_type": "stream",
     "text": [
      "\n",
      "0: 384x640 1 apple_marina_bay, 1 art_sci_museum, 1 helix_bridge, 1 lv_marina_bay, 1 mbs, 1 mbs_hotel, 1 sg_river, 29.9ms\n",
      "Speed: 2.8ms preprocess, 29.9ms inference, 2.6ms postprocess per image at shape (1, 3, 384, 640)\n"
     ]
    },
    {
     "name": "stderr",
     "output_type": "stream",
     "text": [
      " 86%|████████████████████████████████████████████████████████████████████▍           | 177/207 [00:25<00:04,  6.55it/s]"
     ]
    },
    {
     "name": "stdout",
     "output_type": "stream",
     "text": [
      "\n",
      "0: 384x640 1 apple_marina_bay, 1 art_sci_museum, 1 helix_bridge, 1 lv_marina_bay, 1 mbs, 1 mbs_hotel, 1 sg_river, 29.3ms\n",
      "Speed: 2.7ms preprocess, 29.3ms inference, 2.3ms postprocess per image at shape (1, 3, 384, 640)\n"
     ]
    },
    {
     "name": "stderr",
     "output_type": "stream",
     "text": [
      " 86%|████████████████████████████████████████████████████████████████████▊           | 178/207 [00:25<00:04,  6.53it/s]"
     ]
    },
    {
     "name": "stdout",
     "output_type": "stream",
     "text": [
      "\n",
      "0: 384x640 1 apple_marina_bay, 1 art_sci_museum, 1 helix_bridge, 1 lv_marina_bay, 1 mbs, 1 mbs_hotel, 1 sg_river, 30.3ms\n",
      "Speed: 2.8ms preprocess, 30.3ms inference, 2.2ms postprocess per image at shape (1, 3, 384, 640)\n"
     ]
    },
    {
     "name": "stderr",
     "output_type": "stream",
     "text": [
      " 86%|█████████████████████████████████████████████████████████████████████▏          | 179/207 [00:25<00:04,  6.47it/s]"
     ]
    },
    {
     "name": "stdout",
     "output_type": "stream",
     "text": [
      "\n",
      "0: 384x640 1 apple_marina_bay, 1 art_sci_museum, 1 helix_bridge, 1 lv_marina_bay, 1 mbs, 1 mbs_hotel, 1 sg_river, 28.7ms\n",
      "Speed: 3.3ms preprocess, 28.7ms inference, 2.9ms postprocess per image at shape (1, 3, 384, 640)\n"
     ]
    },
    {
     "name": "stderr",
     "output_type": "stream",
     "text": [
      " 87%|█████████████████████████████████████████████████████████████████████▌          | 180/207 [00:25<00:04,  6.46it/s]"
     ]
    },
    {
     "name": "stdout",
     "output_type": "stream",
     "text": [
      "\n",
      "0: 384x640 1 apple_marina_bay, 1 art_sci_museum, 1 helix_bridge, 1 lv_marina_bay, 1 mbs, 1 mbs_hotel, 1 sg_river, 28.2ms\n",
      "Speed: 3.6ms preprocess, 28.2ms inference, 1.9ms postprocess per image at shape (1, 3, 384, 640)\n"
     ]
    },
    {
     "name": "stderr",
     "output_type": "stream",
     "text": [
      " 87%|█████████████████████████████████████████████████████████████████████▉          | 181/207 [00:26<00:04,  6.35it/s]"
     ]
    },
    {
     "name": "stdout",
     "output_type": "stream",
     "text": [
      "\n",
      "0: 384x640 1 apple_marina_bay, 1 art_sci_museum, 1 helix_bridge, 1 lv_marina_bay, 1 mbs, 1 mbs_hotel, 1 sg_river, 28.3ms\n",
      "Speed: 2.7ms preprocess, 28.3ms inference, 2.2ms postprocess per image at shape (1, 3, 384, 640)\n"
     ]
    },
    {
     "name": "stderr",
     "output_type": "stream",
     "text": [
      " 88%|██████████████████████████████████████████████████████████████████████▎         | 182/207 [00:26<00:03,  6.55it/s]"
     ]
    },
    {
     "name": "stdout",
     "output_type": "stream",
     "text": [
      "\n",
      "0: 384x640 1 apple_marina_bay, 1 art_sci_museum, 1 helix_bridge, 1 lv_marina_bay, 1 mbs, 1 mbs_hotel, 1 sg_river, 28.4ms\n",
      "Speed: 2.9ms preprocess, 28.4ms inference, 2.2ms postprocess per image at shape (1, 3, 384, 640)\n"
     ]
    },
    {
     "name": "stderr",
     "output_type": "stream",
     "text": [
      " 88%|██████████████████████████████████████████████████████████████████████▋         | 183/207 [00:26<00:03,  6.48it/s]"
     ]
    },
    {
     "name": "stdout",
     "output_type": "stream",
     "text": [
      "\n",
      "0: 384x640 1 apple_marina_bay, 1 art_sci_museum, 1 helix_bridge, 1 lv_marina_bay, 1 mbs, 1 mbs_hotel, 1 sg_river, 28.4ms\n",
      "Speed: 2.6ms preprocess, 28.4ms inference, 2.6ms postprocess per image at shape (1, 3, 384, 640)\n"
     ]
    },
    {
     "name": "stderr",
     "output_type": "stream",
     "text": [
      " 89%|███████████████████████████████████████████████████████████████████████         | 184/207 [00:26<00:03,  6.41it/s]"
     ]
    },
    {
     "name": "stdout",
     "output_type": "stream",
     "text": [
      "\n",
      "0: 384x640 1 apple_marina_bay, 1 art_sci_museum, 1 helix_bridge, 1 lv_marina_bay, 1 mbs, 1 mbs_hotel, 1 sg_river, 29.4ms\n",
      "Speed: 3.0ms preprocess, 29.4ms inference, 2.6ms postprocess per image at shape (1, 3, 384, 640)\n"
     ]
    },
    {
     "name": "stderr",
     "output_type": "stream",
     "text": [
      " 89%|███████████████████████████████████████████████████████████████████████▍        | 185/207 [00:26<00:03,  6.46it/s]"
     ]
    },
    {
     "name": "stdout",
     "output_type": "stream",
     "text": [
      "\n",
      "0: 384x640 1 apple_marina_bay, 1 art_sci_museum, 1 helix_bridge, 1 mbs, 1 mbs_hotel, 1 sg_river, 28.6ms\n",
      "Speed: 2.6ms preprocess, 28.6ms inference, 2.9ms postprocess per image at shape (1, 3, 384, 640)\n"
     ]
    },
    {
     "name": "stderr",
     "output_type": "stream",
     "text": [
      " 90%|███████████████████████████████████████████████████████████████████████▉        | 186/207 [00:26<00:03,  6.52it/s]"
     ]
    },
    {
     "name": "stdout",
     "output_type": "stream",
     "text": [
      "\n",
      "0: 384x640 1 apple_marina_bay, 1 art_sci_museum, 1 helix_bridge, 1 lv_marina_bay, 1 mbs, 1 mbs_hotel, 1 sg_river, 27.6ms\n",
      "Speed: 2.8ms preprocess, 27.6ms inference, 2.2ms postprocess per image at shape (1, 3, 384, 640)\n"
     ]
    },
    {
     "name": "stderr",
     "output_type": "stream",
     "text": [
      " 90%|████████████████████████████████████████████████████████████████████████▎       | 187/207 [00:27<00:02,  6.72it/s]"
     ]
    },
    {
     "name": "stdout",
     "output_type": "stream",
     "text": [
      "\n",
      "0: 384x640 1 apple_marina_bay, 1 art_sci_museum, 1 helix_bridge, 1 lv_marina_bay, 1 mbs, 1 mbs_hotel, 1 sg_river, 23.3ms\n",
      "Speed: 2.6ms preprocess, 23.3ms inference, 2.1ms postprocess per image at shape (1, 3, 384, 640)\n"
     ]
    },
    {
     "name": "stderr",
     "output_type": "stream",
     "text": [
      " 91%|████████████████████████████████████████████████████████████████████████▋       | 188/207 [00:27<00:02,  7.02it/s]"
     ]
    },
    {
     "name": "stdout",
     "output_type": "stream",
     "text": [
      "\n",
      "0: 384x640 1 apple_marina_bay, 1 art_sci_museum, 1 helix_bridge, 1 mbs, 1 mbs_hotel, 1 sg_river, 23.3ms\n",
      "Speed: 2.4ms preprocess, 23.3ms inference, 2.0ms postprocess per image at shape (1, 3, 384, 640)\n"
     ]
    },
    {
     "name": "stderr",
     "output_type": "stream",
     "text": [
      " 91%|█████████████████████████████████████████████████████████████████████████       | 189/207 [00:27<00:02,  7.10it/s]"
     ]
    },
    {
     "name": "stdout",
     "output_type": "stream",
     "text": [
      "\n",
      "0: 384x640 1 apple_marina_bay, 1 art_sci_museum, 1 helix_bridge, 1 lv_marina_bay, 1 mbs, 1 mbs_hotel, 1 sg_river, 26.3ms\n",
      "Speed: 2.5ms preprocess, 26.3ms inference, 2.5ms postprocess per image at shape (1, 3, 384, 640)\n"
     ]
    },
    {
     "name": "stderr",
     "output_type": "stream",
     "text": [
      " 92%|█████████████████████████████████████████████████████████████████████████▍      | 190/207 [00:27<00:02,  7.16it/s]"
     ]
    },
    {
     "name": "stdout",
     "output_type": "stream",
     "text": [
      "\n",
      "0: 384x640 1 apple_marina_bay, 1 art_sci_museum, 1 helix_bridge, 1 lv_marina_bay, 1 mbs, 1 mbs_hotel, 1 sg_river, 25.3ms\n",
      "Speed: 2.4ms preprocess, 25.3ms inference, 2.2ms postprocess per image at shape (1, 3, 384, 640)\n"
     ]
    },
    {
     "name": "stderr",
     "output_type": "stream",
     "text": [
      " 92%|█████████████████████████████████████████████████████████████████████████▊      | 191/207 [00:27<00:02,  7.41it/s]"
     ]
    },
    {
     "name": "stdout",
     "output_type": "stream",
     "text": [
      "\n",
      "0: 384x640 1 apple_marina_bay, 1 art_sci_museum, 1 helix_bridge, 1 lv_marina_bay, 1 mbs, 1 mbs_hotel, 1 sg_river, 23.2ms\n",
      "Speed: 2.7ms preprocess, 23.2ms inference, 2.4ms postprocess per image at shape (1, 3, 384, 640)\n"
     ]
    },
    {
     "name": "stderr",
     "output_type": "stream",
     "text": [
      " 93%|██████████████████████████████████████████████████████████████████████████▏     | 192/207 [00:27<00:02,  7.45it/s]"
     ]
    },
    {
     "name": "stdout",
     "output_type": "stream",
     "text": [
      "\n",
      "0: 384x640 1 apple_marina_bay, 1 art_sci_museum, 1 helix_bridge, 1 lv_marina_bay, 1 mbs, 1 mbs_hotel, 1 sg_river, 31.9ms\n",
      "Speed: 3.1ms preprocess, 31.9ms inference, 1.9ms postprocess per image at shape (1, 3, 384, 640)\n"
     ]
    },
    {
     "name": "stderr",
     "output_type": "stream",
     "text": [
      " 93%|██████████████████████████████████████████████████████████████████████████▌     | 193/207 [00:27<00:01,  7.20it/s]"
     ]
    },
    {
     "name": "stdout",
     "output_type": "stream",
     "text": [
      "\n",
      "0: 384x640 1 apple_marina_bay, 1 art_sci_museum, 1 helix_bridge, 1 lv_marina_bay, 1 mbs, 1 mbs_hotel, 1 sg_river, 26.5ms\n",
      "Speed: 2.4ms preprocess, 26.5ms inference, 2.4ms postprocess per image at shape (1, 3, 384, 640)\n"
     ]
    },
    {
     "name": "stderr",
     "output_type": "stream",
     "text": [
      " 94%|██████████████████████████████████████████████████████████████████████████▉     | 194/207 [00:27<00:01,  7.42it/s]"
     ]
    },
    {
     "name": "stdout",
     "output_type": "stream",
     "text": [
      "\n",
      "0: 384x640 1 apple_marina_bay, 1 art_sci_museum, 1 helix_bridge, 1 lv_marina_bay, 1 mbs, 1 mbs_hotel, 1 sg_river, 26.1ms\n",
      "Speed: 3.2ms preprocess, 26.1ms inference, 2.0ms postprocess per image at shape (1, 3, 384, 640)\n"
     ]
    },
    {
     "name": "stderr",
     "output_type": "stream",
     "text": [
      " 94%|███████████████████████████████████████████████████████████████████████████▎    | 195/207 [00:28<00:01,  7.45it/s]"
     ]
    },
    {
     "name": "stdout",
     "output_type": "stream",
     "text": [
      "\n",
      "0: 384x640 1 apple_marina_bay, 1 art_sci_museum, 1 helix_bridge, 1 lv_marina_bay, 1 mbs, 1 mbs_hotel, 1 sg_river, 30.9ms\n",
      "Speed: 2.6ms preprocess, 30.9ms inference, 1.7ms postprocess per image at shape (1, 3, 384, 640)\n"
     ]
    },
    {
     "name": "stderr",
     "output_type": "stream",
     "text": [
      " 95%|███████████████████████████████████████████████████████████████████████████▋    | 196/207 [00:28<00:01,  7.34it/s]"
     ]
    },
    {
     "name": "stdout",
     "output_type": "stream",
     "text": [
      "\n",
      "0: 384x640 1 apple_marina_bay, 1 art_sci_museum, 1 helix_bridge, 1 lv_marina_bay, 1 mbs, 1 mbs_hotel, 1 sg_river, 34.9ms\n",
      "Speed: 2.7ms preprocess, 34.9ms inference, 3.3ms postprocess per image at shape (1, 3, 384, 640)\n"
     ]
    },
    {
     "name": "stderr",
     "output_type": "stream",
     "text": [
      " 95%|████████████████████████████████████████████████████████████████████████████▏   | 197/207 [00:28<00:01,  6.98it/s]"
     ]
    },
    {
     "name": "stdout",
     "output_type": "stream",
     "text": [
      "\n",
      "0: 384x640 1 apple_marina_bay, 1 art_sci_museum, 1 helix_bridge, 1 lv_marina_bay, 1 mbs, 1 mbs_hotel, 1 sg_river, 32.3ms\n",
      "Speed: 2.6ms preprocess, 32.3ms inference, 2.5ms postprocess per image at shape (1, 3, 384, 640)\n"
     ]
    },
    {
     "name": "stderr",
     "output_type": "stream",
     "text": [
      " 96%|████████████████████████████████████████████████████████████████████████████▌   | 198/207 [00:28<00:01,  7.03it/s]"
     ]
    },
    {
     "name": "stdout",
     "output_type": "stream",
     "text": [
      "\n",
      "0: 384x640 1 apple_marina_bay, 1 art_sci_museum, 1 helix_bridge, 1 lv_marina_bay, 1 mbs, 1 mbs_hotel, 1 sg_river, 33.2ms\n",
      "Speed: 2.5ms preprocess, 33.2ms inference, 2.1ms postprocess per image at shape (1, 3, 384, 640)\n"
     ]
    },
    {
     "name": "stderr",
     "output_type": "stream",
     "text": [
      " 96%|████████████████████████████████████████████████████████████████████████████▉   | 199/207 [00:28<00:01,  7.06it/s]"
     ]
    },
    {
     "name": "stdout",
     "output_type": "stream",
     "text": [
      "\n",
      "0: 384x640 1 apple_marina_bay, 1 art_sci_museum, 1 helix_bridge, 1 lv_marina_bay, 1 mbs, 1 mbs_hotel, 1 sg_river, 31.3ms\n",
      "Speed: 2.7ms preprocess, 31.3ms inference, 3.9ms postprocess per image at shape (1, 3, 384, 640)\n"
     ]
    },
    {
     "name": "stderr",
     "output_type": "stream",
     "text": [
      " 97%|█████████████████████████████████████████████████████████████████████████████▎  | 200/207 [00:28<00:01,  6.89it/s]"
     ]
    },
    {
     "name": "stdout",
     "output_type": "stream",
     "text": [
      "\n",
      "0: 384x640 1 apple_marina_bay, 1 art_sci_museum, 1 helix_bridge, 1 lv_marina_bay, 1 mbs, 1 mbs_hotel, 1 sg_river, 34.9ms\n",
      "Speed: 3.1ms preprocess, 34.9ms inference, 3.1ms postprocess per image at shape (1, 3, 384, 640)\n"
     ]
    },
    {
     "name": "stderr",
     "output_type": "stream",
     "text": [
      " 97%|█████████████████████████████████████████████████████████████████████████████▋  | 201/207 [00:28<00:00,  6.63it/s]"
     ]
    },
    {
     "name": "stdout",
     "output_type": "stream",
     "text": [
      "\n",
      "0: 384x640 1 apple_marina_bay, 1 art_sci_museum, 1 helix_bridge, 1 lv_marina_bay, 1 mbs, 1 mbs_hotel, 1 sg_river, 32.5ms\n",
      "Speed: 3.0ms preprocess, 32.5ms inference, 3.1ms postprocess per image at shape (1, 3, 384, 640)\n"
     ]
    },
    {
     "name": "stderr",
     "output_type": "stream",
     "text": [
      " 98%|██████████████████████████████████████████████████████████████████████████████  | 202/207 [00:29<00:00,  6.51it/s]"
     ]
    },
    {
     "name": "stdout",
     "output_type": "stream",
     "text": [
      "\n",
      "0: 384x640 1 apple_marina_bay, 1 art_sci_museum, 1 helix_bridge, 1 lv_marina_bay, 1 mbs, 1 mbs_hotel, 1 sg_river, 37.7ms\n",
      "Speed: 3.0ms preprocess, 37.7ms inference, 4.4ms postprocess per image at shape (1, 3, 384, 640)\n"
     ]
    },
    {
     "name": "stderr",
     "output_type": "stream",
     "text": [
      " 98%|██████████████████████████████████████████████████████████████████████████████▍ | 203/207 [00:29<00:00,  6.43it/s]"
     ]
    },
    {
     "name": "stdout",
     "output_type": "stream",
     "text": [
      "\n",
      "0: 384x640 1 apple_marina_bay, 1 art_sci_museum, 1 helix_bridge, 1 lv_marina_bay, 1 mbs, 1 mbs_hotel, 1 sg_river, 33.0ms\n",
      "Speed: 3.2ms preprocess, 33.0ms inference, 4.1ms postprocess per image at shape (1, 3, 384, 640)\n"
     ]
    },
    {
     "name": "stderr",
     "output_type": "stream",
     "text": [
      " 99%|██████████████████████████████████████████████████████████████████████████████▊ | 204/207 [00:29<00:00,  6.29it/s]"
     ]
    },
    {
     "name": "stdout",
     "output_type": "stream",
     "text": [
      "\n",
      "0: 384x640 1 apple_marina_bay, 1 art_sci_museum, 1 helix_bridge, 1 lv_marina_bay, 1 mbs, 1 mbs_hotel, 1 sg_river, 32.5ms\n",
      "Speed: 3.0ms preprocess, 32.5ms inference, 3.3ms postprocess per image at shape (1, 3, 384, 640)\n"
     ]
    },
    {
     "name": "stderr",
     "output_type": "stream",
     "text": [
      " 99%|███████████████████████████████████████████████████████████████████████████████▏| 205/207 [00:29<00:00,  6.28it/s]"
     ]
    },
    {
     "name": "stdout",
     "output_type": "stream",
     "text": [
      "\n",
      "0: 384x640 1 apple_marina_bay, 1 art_sci_museum, 1 helix_bridge, 1 lv_marina_bay, 1 mbs, 1 mbs_hotel, 1 sg_river, 35.4ms\n",
      "Speed: 3.0ms preprocess, 35.4ms inference, 3.2ms postprocess per image at shape (1, 3, 384, 640)\n"
     ]
    },
    {
     "name": "stderr",
     "output_type": "stream",
     "text": [
      "100%|███████████████████████████████████████████████████████████████████████████████▌| 206/207 [00:29<00:00,  6.18it/s]"
     ]
    },
    {
     "name": "stdout",
     "output_type": "stream",
     "text": [
      "\n",
      "0: 384x640 1 apple_marina_bay, 1 art_sci_museum, 1 helix_bridge, 1 lv_marina_bay, 1 mbs, 1 mbs_hotel, 1 sg_river, 32.7ms\n",
      "Speed: 3.6ms preprocess, 32.7ms inference, 3.2ms postprocess per image at shape (1, 3, 384, 640)\n"
     ]
    },
    {
     "name": "stderr",
     "output_type": "stream",
     "text": [
      "100%|████████████████████████████████████████████████████████████████████████████████| 207/207 [00:29<00:00,  6.91it/s]\n"
     ]
    }
   ],
   "source": [
    "# box_annotator = sv.BoxAnnotator()\n",
    "dot_annotator = sv.DotAnnotator(\n",
    "    radius=15,\n",
    "    outline_thickness=5,\n",
    "    outline_color=sv.Color.from_hex('#FFFFFF')\n",
    ")\n",
    "\n",
    "rich_label_annotator = sv.RichLabelAnnotator(\n",
    "    font_path=\"<TTF_FONT_PATH>\",\n",
    "    font_size=35,\n",
    "    text_position=sv.Position.TOP_CENTER,\n",
    "    text_padding=12,\n",
    "    border_radius=15,\n",
    "    smart_position=True\n",
    ")\n",
    "\n",
    "video_info = sv.VideoInfo.from_video_path(SOURCE_VIDEO_PATH)\n",
    "video_sink = sv.VideoSink(TARGET_VIDEO_PATH, video_info=video_info)\n",
    "frame_generator = sv.get_video_frames_generator(SOURCE_VIDEO_PATH)\n",
    "\n",
    "with video_sink:\n",
    "    for frame in tqdm(frame_generator, total=video_info.total_frames):\n",
    "    \n",
    "        results = model(frame)[0]\n",
    "        # print(results.boxes)\n",
    "        # plt.imshow(results.orig_img)\n",
    "        detections = sv.Detections.from_ultralytics(results)\n",
    "        detections = detections.with_nms(threshold=0.5, class_agnostic=False)\n",
    "        \n",
    "        labels = [\n",
    "            f\"{class_name}  {confidence:.2f}\"\n",
    "            for class_name, confidence\n",
    "            in zip(detections['class_name'], detections.confidence)\n",
    "        ]\n",
    "        \n",
    "        annotated_frame = frame.copy()\n",
    "        annotated_frame = dot_annotator.annotate(annotated_frame, detections)\n",
    "        annotated_frame = rich_label_annotator.annotate(annotated_frame, detections, labels=labels)\n",
    "        video_sink.write_frame(annotated_frame)\n",
    "# sv.plot_image(annotated_frame)\n",
    "\n"
   ]
  }
 ],
 "metadata": {
  "kernelspec": {
   "display_name": "Python 3 (ipykernel)",
   "language": "python",
   "name": "python3"
  },
  "language_info": {
   "codemirror_mode": {
    "name": "ipython",
    "version": 3
   },
   "file_extension": ".py",
   "mimetype": "text/x-python",
   "name": "python",
   "nbconvert_exporter": "python",
   "pygments_lexer": "ipython3",
   "version": "3.10.16"
  }
 },
 "nbformat": 4,
 "nbformat_minor": 5
}
