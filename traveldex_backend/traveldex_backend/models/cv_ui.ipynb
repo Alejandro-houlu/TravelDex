{
 "cells": [
  {
   "cell_type": "markdown",
   "id": "76f68873-b708-40f6-9311-ed56b753f71d",
   "metadata": {},
   "source": [
    "https://www.youtube.com/watch?v=aBVGKoNZQUw"
   ]
  },
  {
   "cell_type": "code",
   "execution_count": 2,
   "id": "01eb147f-ca48-48e0-b4f3-479c41156fb9",
   "metadata": {
    "scrolled": true
   },
   "outputs": [
    {
     "name": "stdout",
     "output_type": "stream",
     "text": [
      "PyTorch version: 2.5.0\n",
      "PyTorch Cuda eligibility: 12.1\n",
      "Torchvision version: 0.20.0\n",
      "Device is: cuda \n",
      "\n",
      "C:\\Users\\ngyin\\Documents\\NUS Stackables\\SP 1\\Practice Module (landmark recognition)\\data\n"
     ]
    }
   ],
   "source": [
    "import cv2\n",
    "import numpy as np\n",
    "from ultralytics import YOLO\n",
    "# from inference import get_model\n",
    "import supervision as sv\n",
    "import torch\n",
    "import torchvision\n",
    "import os\n",
    "import matplotlib.pyplot as plt\n",
    "from tqdm import tqdm\n",
    "\n",
    "print('PyTorch version:', torch.__version__)\n",
    "print('PyTorch Cuda eligibility:', torch.version.cuda)\n",
    "print('Torchvision version:', torchvision.__version__)\n",
    "device = 'cuda' if torch.cuda.is_available() else 'cpu'\n",
    "print('Device is:', device, '\\n')\n",
    "print(os.getcwd())"
   ]
  },
  {
   "cell_type": "code",
   "execution_count": 10,
   "id": "fa614cbd-2718-460f-a398-cdbf370baf10",
   "metadata": {},
   "outputs": [],
   "source": [
    "model = YOLO(\"runs/detect/train3/weights/best.pt\")\n",
    "SOURCE_VIDEO_PATH = \"sample/online_video_1.mp4\"\n",
    "TARGET_VIDEO_PATH = \"sample/online_video_1_result_2.mp4\""
   ]
  },
  {
   "cell_type": "code",
   "execution_count": 55,
   "id": "8b6df1de-963b-4449-ba4d-f74b015b0f22",
   "metadata": {},
   "outputs": [
    {
     "name": "stdout",
     "output_type": "stream",
     "text": [
      "Font path '<TTF_FONT_PATH>' not found. Using PIL's default font.\n",
      "VideoInfo(width=2562, height=1440, fps=25, total_frames=207)\n"
     ]
    },
    {
     "name": "stderr",
     "output_type": "stream",
     "text": [
      "  0%|                                                                                          | 0/207 [00:00<?, ?it/s]"
     ]
    },
    {
     "name": "stdout",
     "output_type": "stream",
     "text": [
      "\n",
      "0: 384x640 1 art_sci_museum, 1 helix_bridge, 1 lv_marina_bay, 1 mbs, 1 mbs_hotel, 1 sg_river, 53.4ms\n",
      "Speed: 6.2ms preprocess, 53.4ms inference, 3.6ms postprocess per image at shape (1, 3, 384, 640)\n"
     ]
    },
    {
     "name": "stderr",
     "output_type": "stream",
     "text": [
      "  0%|▍                                                                                 | 1/207 [00:00<01:13,  2.80it/s]"
     ]
    },
    {
     "name": "stdout",
     "output_type": "stream",
     "text": [
      "\n",
      "0: 384x640 1 art_sci_museum, 1 helix_bridge, 1 mbs, 1 mbs_hotel, 1 sg_river, 22.2ms\n",
      "Speed: 2.8ms preprocess, 22.2ms inference, 1.7ms postprocess per image at shape (1, 3, 384, 640)\n"
     ]
    },
    {
     "name": "stderr",
     "output_type": "stream",
     "text": [
      "  1%|▊                                                                                 | 2/207 [00:00<00:42,  4.83it/s]"
     ]
    },
    {
     "name": "stdout",
     "output_type": "stream",
     "text": [
      "\n",
      "0: 384x640 1 art_sci_museum, 2 helix_bridges, 1 mbs, 1 mbs_hotel, 1 sg_river, 24.0ms\n",
      "Speed: 2.1ms preprocess, 24.0ms inference, 2.5ms postprocess per image at shape (1, 3, 384, 640)\n"
     ]
    },
    {
     "name": "stderr",
     "output_type": "stream",
     "text": [
      "  1%|█▏                                                                                | 3/207 [00:00<00:35,  5.68it/s]"
     ]
    },
    {
     "name": "stdout",
     "output_type": "stream",
     "text": [
      "\n",
      "0: 384x640 1 art_sci_museum, 1 helix_bridge, 1 mbs, 1 mbs_hotel, 1 sg_river, 22.2ms\n",
      "Speed: 2.2ms preprocess, 22.2ms inference, 1.8ms postprocess per image at shape (1, 3, 384, 640)\n"
     ]
    },
    {
     "name": "stderr",
     "output_type": "stream",
     "text": [
      "  2%|█▌                                                                                | 4/207 [00:00<00:29,  6.78it/s]"
     ]
    },
    {
     "name": "stdout",
     "output_type": "stream",
     "text": [
      "\n",
      "0: 384x640 1 art_sci_museum, 2 helix_bridges, 1 mbs, 1 mbs_hotel, 1 sg_river, 22.2ms\n",
      "Speed: 2.1ms preprocess, 22.2ms inference, 1.7ms postprocess per image at shape (1, 3, 384, 640)\n"
     ]
    },
    {
     "name": "stderr",
     "output_type": "stream",
     "text": [
      "  2%|█▉                                                                                | 5/207 [00:00<00:26,  7.55it/s]"
     ]
    },
    {
     "name": "stdout",
     "output_type": "stream",
     "text": [
      "\n",
      "0: 384x640 1 apple_marina_bay, 1 art_sci_museum, 1 helix_bridge, 1 mbs, 1 mbs_hotel, 1 sg_river, 21.5ms\n",
      "Speed: 2.1ms preprocess, 21.5ms inference, 1.7ms postprocess per image at shape (1, 3, 384, 640)\n",
      "\n",
      "0: 384x640 1 apple_marina_bay, 1 art_sci_museum, 1 flyer, 2 helix_bridges, 1 mbs, 1 mbs_hotel, 1 sg_river, 25.7ms\n",
      "Speed: 2.1ms preprocess, 25.7ms inference, 1.7ms postprocess per image at shape (1, 3, 384, 640)\n"
     ]
    },
    {
     "name": "stderr",
     "output_type": "stream",
     "text": [
      "  3%|██▊                                                                               | 7/207 [00:01<00:23,  8.38it/s]"
     ]
    },
    {
     "name": "stdout",
     "output_type": "stream",
     "text": [
      "\n",
      "0: 384x640 1 apple_marina_bay, 1 art_sci_museum, 2 helix_bridges, 1 mbs, 1 mbs_hotel, 1 sg_river, 27.7ms\n",
      "Speed: 2.0ms preprocess, 27.7ms inference, 3.9ms postprocess per image at shape (1, 3, 384, 640)\n"
     ]
    },
    {
     "name": "stderr",
     "output_type": "stream",
     "text": [
      "  4%|███▏                                                                              | 8/207 [00:01<00:24,  7.98it/s]"
     ]
    },
    {
     "name": "stdout",
     "output_type": "stream",
     "text": [
      "\n",
      "0: 384x640 1 apple_marina_bay, 1 art_sci_museum, 2 helix_bridges, 1 mbs, 1 mbs_hotel, 1 sg_river, 23.6ms\n",
      "Speed: 2.1ms preprocess, 23.6ms inference, 3.0ms postprocess per image at shape (1, 3, 384, 640)\n"
     ]
    },
    {
     "name": "stderr",
     "output_type": "stream",
     "text": [
      "  4%|███▌                                                                              | 9/207 [00:01<00:25,  7.80it/s]"
     ]
    },
    {
     "name": "stdout",
     "output_type": "stream",
     "text": [
      "\n",
      "0: 384x640 1 apple_marina_bay, 1 art_sci_museum, 2 helix_bridges, 1 mbs, 1 mbs_hotel, 1 sg_river, 30.1ms\n",
      "Speed: 2.7ms preprocess, 30.1ms inference, 1.6ms postprocess per image at shape (1, 3, 384, 640)\n"
     ]
    },
    {
     "name": "stderr",
     "output_type": "stream",
     "text": [
      "  5%|███▉                                                                             | 10/207 [00:01<00:24,  7.97it/s]"
     ]
    },
    {
     "name": "stdout",
     "output_type": "stream",
     "text": [
      "\n",
      "0: 384x640 1 apple_marina_bay, 1 art_sci_museum, 2 helix_bridges, 1 mbs, 1 mbs_hotel, 1 sg_river, 31.1ms\n",
      "Speed: 3.1ms preprocess, 31.1ms inference, 1.9ms postprocess per image at shape (1, 3, 384, 640)\n"
     ]
    },
    {
     "name": "stderr",
     "output_type": "stream",
     "text": [
      "  5%|████▎                                                                            | 11/207 [00:01<00:24,  8.05it/s]"
     ]
    },
    {
     "name": "stdout",
     "output_type": "stream",
     "text": [
      "\n",
      "0: 384x640 1 apple_marina_bay, 1 art_sci_museum, 2 helix_bridges, 2 lv_marina_bays, 1 mbs, 1 mbs_hotel, 1 sg_river, 34.1ms\n",
      "Speed: 2.6ms preprocess, 34.1ms inference, 1.6ms postprocess per image at shape (1, 3, 384, 640)\n"
     ]
    },
    {
     "name": "stderr",
     "output_type": "stream",
     "text": [
      "  6%|████▋                                                                            | 12/207 [00:01<00:23,  8.27it/s]"
     ]
    },
    {
     "name": "stdout",
     "output_type": "stream",
     "text": [
      "\n",
      "0: 384x640 1 art_sci_museum, 2 helix_bridges, 1 mbs, 1 mbs_hotel, 1 sg_river, 25.5ms\n",
      "Speed: 2.3ms preprocess, 25.5ms inference, 1.6ms postprocess per image at shape (1, 3, 384, 640)\n"
     ]
    },
    {
     "name": "stderr",
     "output_type": "stream",
     "text": [
      "  6%|█████                                                                            | 13/207 [00:01<00:22,  8.55it/s]"
     ]
    },
    {
     "name": "stdout",
     "output_type": "stream",
     "text": [
      "\n",
      "0: 384x640 1 apple_marina_bay, 1 art_sci_museum, 2 helix_bridges, 1 mbs, 1 mbs_hotel, 1 sg_river, 26.7ms\n",
      "Speed: 2.1ms preprocess, 26.7ms inference, 1.7ms postprocess per image at shape (1, 3, 384, 640)\n"
     ]
    },
    {
     "name": "stderr",
     "output_type": "stream",
     "text": [
      "  7%|█████▍                                                                           | 14/207 [00:01<00:24,  8.02it/s]"
     ]
    },
    {
     "name": "stdout",
     "output_type": "stream",
     "text": [
      "\n",
      "0: 384x640 1 apple_marina_bay, 1 art_sci_museum, 2 helix_bridges, 1 lv_marina_bay, 1 mbs, 1 mbs_hotel, 1 sg_river, 39.8ms\n",
      "Speed: 2.3ms preprocess, 39.8ms inference, 1.6ms postprocess per image at shape (1, 3, 384, 640)\n"
     ]
    },
    {
     "name": "stderr",
     "output_type": "stream",
     "text": [
      "  7%|█████▊                                                                           | 15/207 [00:02<00:26,  7.31it/s]"
     ]
    },
    {
     "name": "stdout",
     "output_type": "stream",
     "text": [
      "\n",
      "0: 384x640 1 apple_marina_bay, 1 art_sci_museum, 1 helix_bridge, 1 mbs, 1 mbs_hotel, 1 sg_river, 23.8ms\n",
      "Speed: 2.1ms preprocess, 23.8ms inference, 2.6ms postprocess per image at shape (1, 3, 384, 640)\n"
     ]
    },
    {
     "name": "stderr",
     "output_type": "stream",
     "text": [
      "  8%|██████▎                                                                          | 16/207 [00:02<00:24,  7.72it/s]"
     ]
    },
    {
     "name": "stdout",
     "output_type": "stream",
     "text": [
      "\n",
      "0: 384x640 1 apple_marina_bay, 1 art_sci_museum, 1 helix_bridge, 1 mbs, 1 mbs_hotel, 1 sg_river, 23.8ms\n",
      "Speed: 2.1ms preprocess, 23.8ms inference, 2.6ms postprocess per image at shape (1, 3, 384, 640)\n"
     ]
    },
    {
     "name": "stderr",
     "output_type": "stream",
     "text": [
      "  8%|██████▋                                                                          | 17/207 [00:02<00:23,  8.10it/s]"
     ]
    },
    {
     "name": "stdout",
     "output_type": "stream",
     "text": [
      "\n",
      "0: 384x640 1 apple_marina_bay, 1 art_sci_museum, 2 helix_bridges, 1 mbs, 1 mbs_hotel, 1 sg_river, 22.9ms\n",
      "Speed: 2.6ms preprocess, 22.9ms inference, 1.8ms postprocess per image at shape (1, 3, 384, 640)\n"
     ]
    },
    {
     "name": "stderr",
     "output_type": "stream",
     "text": [
      "  9%|███████                                                                          | 18/207 [00:02<00:22,  8.51it/s]"
     ]
    },
    {
     "name": "stdout",
     "output_type": "stream",
     "text": [
      "\n",
      "0: 384x640 1 apple_marina_bay, 1 art_sci_museum, 2 helix_bridges, 1 lv_marina_bay, 1 mbs, 1 mbs_hotel, 1 sg_river, 39.3ms\n",
      "Speed: 2.9ms preprocess, 39.3ms inference, 4.0ms postprocess per image at shape (1, 3, 384, 640)\n"
     ]
    },
    {
     "name": "stderr",
     "output_type": "stream",
     "text": [
      "  9%|███████▍                                                                         | 19/207 [00:02<00:22,  8.18it/s]"
     ]
    },
    {
     "name": "stdout",
     "output_type": "stream",
     "text": [
      "\n",
      "0: 384x640 1 apple_marina_bay, 1 art_sci_museum, 2 helix_bridges, 1 mbs, 1 mbs_hotel, 1 sg_river, 24.4ms\n",
      "Speed: 2.6ms preprocess, 24.4ms inference, 2.9ms postprocess per image at shape (1, 3, 384, 640)\n"
     ]
    },
    {
     "name": "stderr",
     "output_type": "stream",
     "text": [
      " 10%|███████▊                                                                         | 20/207 [00:02<00:23,  7.91it/s]"
     ]
    },
    {
     "name": "stdout",
     "output_type": "stream",
     "text": [
      "\n",
      "0: 384x640 1 apple_marina_bay, 1 art_sci_museum, 1 helix_bridge, 1 lv_marina_bay, 1 mbs, 1 mbs_hotel, 1 sg_river, 30.8ms\n",
      "Speed: 2.6ms preprocess, 30.8ms inference, 3.9ms postprocess per image at shape (1, 3, 384, 640)\n"
     ]
    },
    {
     "name": "stderr",
     "output_type": "stream",
     "text": [
      " 10%|████████▏                                                                        | 21/207 [00:02<00:24,  7.52it/s]"
     ]
    },
    {
     "name": "stdout",
     "output_type": "stream",
     "text": [
      "\n",
      "0: 384x640 1 apple_marina_bay, 1 art_sci_museum, 1 helix_bridge, 1 lv_marina_bay, 1 mbs, 1 mbs_hotel, 1 sg_river, 24.6ms\n",
      "Speed: 2.3ms preprocess, 24.6ms inference, 2.9ms postprocess per image at shape (1, 3, 384, 640)\n"
     ]
    },
    {
     "name": "stderr",
     "output_type": "stream",
     "text": [
      " 11%|████████▌                                                                        | 22/207 [00:02<00:25,  7.29it/s]"
     ]
    },
    {
     "name": "stdout",
     "output_type": "stream",
     "text": [
      "\n",
      "0: 384x640 1 apple_marina_bay, 1 art_sci_museum, 1 helix_bridge, 2 lv_marina_bays, 1 mbs, 1 mbs_hotel, 1 sg_river, 26.7ms\n",
      "Speed: 3.4ms preprocess, 26.7ms inference, 1.8ms postprocess per image at shape (1, 3, 384, 640)\n"
     ]
    },
    {
     "name": "stderr",
     "output_type": "stream",
     "text": [
      " 11%|█████████                                                                        | 23/207 [00:03<00:23,  7.72it/s]"
     ]
    },
    {
     "name": "stdout",
     "output_type": "stream",
     "text": [
      "\n",
      "0: 384x640 1 apple_marina_bay, 1 art_sci_museum, 1 helix_bridge, 1 lv_marina_bay, 1 mbs, 1 mbs_hotel, 1 sg_river, 29.6ms\n",
      "Speed: 2.6ms preprocess, 29.6ms inference, 2.7ms postprocess per image at shape (1, 3, 384, 640)\n"
     ]
    },
    {
     "name": "stderr",
     "output_type": "stream",
     "text": [
      " 12%|█████████▍                                                                       | 24/207 [00:03<00:23,  7.73it/s]"
     ]
    },
    {
     "name": "stdout",
     "output_type": "stream",
     "text": [
      "\n",
      "0: 384x640 1 apple_marina_bay, 1 art_sci_museum, 1 helix_bridge, 1 mbs, 1 mbs_hotel, 1 sg_river, 21.0ms\n",
      "Speed: 2.6ms preprocess, 21.0ms inference, 1.6ms postprocess per image at shape (1, 3, 384, 640)\n"
     ]
    },
    {
     "name": "stderr",
     "output_type": "stream",
     "text": [
      " 12%|█████████▊                                                                       | 25/207 [00:03<00:22,  8.10it/s]"
     ]
    },
    {
     "name": "stdout",
     "output_type": "stream",
     "text": [
      "\n",
      "0: 384x640 1 apple_marina_bay, 1 art_sci_museum, 1 helix_bridge, 1 lv_marina_bay, 1 mbs, 1 mbs_hotel, 1 sg_river, 19.6ms\n",
      "Speed: 2.5ms preprocess, 19.6ms inference, 1.6ms postprocess per image at shape (1, 3, 384, 640)\n"
     ]
    },
    {
     "name": "stderr",
     "output_type": "stream",
     "text": [
      " 13%|██████████▏                                                                      | 26/207 [00:03<00:22,  8.15it/s]"
     ]
    },
    {
     "name": "stdout",
     "output_type": "stream",
     "text": [
      "\n",
      "0: 384x640 1 apple_marina_bay, 1 art_sci_museum, 1 helix_bridge, 1 mbs, 1 mbs_hotel, 1 sg_river, 36.1ms\n",
      "Speed: 4.3ms preprocess, 36.1ms inference, 4.2ms postprocess per image at shape (1, 3, 384, 640)\n"
     ]
    },
    {
     "name": "stderr",
     "output_type": "stream",
     "text": [
      " 13%|██████████▌                                                                      | 27/207 [00:03<00:23,  7.52it/s]"
     ]
    },
    {
     "name": "stdout",
     "output_type": "stream",
     "text": [
      "\n",
      "0: 384x640 1 apple_marina_bay, 1 art_sci_museum, 1 helix_bridge, 1 lv_marina_bay, 1 mbs, 1 mbs_hotel, 1 sg_river, 39.9ms\n",
      "Speed: 4.1ms preprocess, 39.9ms inference, 2.1ms postprocess per image at shape (1, 3, 384, 640)\n"
     ]
    },
    {
     "name": "stderr",
     "output_type": "stream",
     "text": [
      " 14%|██████████▉                                                                      | 28/207 [00:03<00:24,  7.38it/s]"
     ]
    },
    {
     "name": "stdout",
     "output_type": "stream",
     "text": [
      "\n",
      "0: 384x640 1 apple_marina_bay, 1 art_sci_museum, 1 helix_bridge, 1 lv_marina_bay, 1 mbs, 1 mbs_hotel, 1 sg_river, 28.7ms\n",
      "Speed: 3.7ms preprocess, 28.7ms inference, 4.3ms postprocess per image at shape (1, 3, 384, 640)\n"
     ]
    },
    {
     "name": "stderr",
     "output_type": "stream",
     "text": [
      " 14%|███████████▎                                                                     | 29/207 [00:03<00:26,  6.76it/s]"
     ]
    },
    {
     "name": "stdout",
     "output_type": "stream",
     "text": [
      "\n",
      "0: 384x640 1 apple_marina_bay, 1 art_sci_museum, 1 helix_bridge, 1 lv_marina_bay, 1 mbs, 1 mbs_hotel, 1 sg_river, 32.5ms\n",
      "Speed: 3.8ms preprocess, 32.5ms inference, 4.6ms postprocess per image at shape (1, 3, 384, 640)\n"
     ]
    },
    {
     "name": "stderr",
     "output_type": "stream",
     "text": [
      " 14%|███████████▋                                                                     | 30/207 [00:04<00:27,  6.44it/s]"
     ]
    },
    {
     "name": "stdout",
     "output_type": "stream",
     "text": [
      "\n",
      "0: 384x640 1 apple_marina_bay, 1 art_sci_museum, 1 helix_bridge, 1 lv_marina_bay, 1 mbs, 1 mbs_hotel, 1 sg_river, 22.7ms\n",
      "Speed: 3.9ms preprocess, 22.7ms inference, 2.1ms postprocess per image at shape (1, 3, 384, 640)\n"
     ]
    },
    {
     "name": "stderr",
     "output_type": "stream",
     "text": [
      " 15%|████████████▏                                                                    | 31/207 [00:04<00:27,  6.49it/s]"
     ]
    },
    {
     "name": "stdout",
     "output_type": "stream",
     "text": [
      "\n",
      "0: 384x640 1 apple_marina_bay, 1 art_sci_museum, 1 helix_bridge, 1 lv_marina_bay, 1 mbs, 1 mbs_hotel, 1 sg_river, 24.0ms\n",
      "Speed: 3.6ms preprocess, 24.0ms inference, 2.2ms postprocess per image at shape (1, 3, 384, 640)\n"
     ]
    },
    {
     "name": "stderr",
     "output_type": "stream",
     "text": [
      " 15%|████████████▌                                                                    | 32/207 [00:04<00:27,  6.46it/s]"
     ]
    },
    {
     "name": "stdout",
     "output_type": "stream",
     "text": [
      "\n",
      "0: 384x640 1 apple_marina_bay, 1 art_sci_museum, 1 helix_bridge, 1 lv_marina_bay, 1 mbs, 1 mbs_hotel, 1 sg_river, 24.0ms\n",
      "Speed: 3.8ms preprocess, 24.0ms inference, 4.2ms postprocess per image at shape (1, 3, 384, 640)\n"
     ]
    },
    {
     "name": "stderr",
     "output_type": "stream",
     "text": [
      " 16%|████████████▉                                                                    | 33/207 [00:04<00:27,  6.43it/s]"
     ]
    },
    {
     "name": "stdout",
     "output_type": "stream",
     "text": [
      "\n",
      "0: 384x640 1 apple_marina_bay, 1 art_sci_museum, 1 helix_bridge, 1 lv_marina_bay, 1 mbs, 1 mbs_hotel, 1 sg_river, 24.4ms\n",
      "Speed: 3.4ms preprocess, 24.4ms inference, 2.1ms postprocess per image at shape (1, 3, 384, 640)\n"
     ]
    },
    {
     "name": "stderr",
     "output_type": "stream",
     "text": [
      " 16%|█████████████▎                                                                   | 34/207 [00:04<00:26,  6.56it/s]"
     ]
    },
    {
     "name": "stdout",
     "output_type": "stream",
     "text": [
      "\n",
      "0: 384x640 1 apple_marina_bay, 1 art_sci_museum, 1 helix_bridge, 1 lv_marina_bay, 1 mbs, 1 mbs_hotel, 1 sg_river, 24.2ms\n",
      "Speed: 3.9ms preprocess, 24.2ms inference, 2.1ms postprocess per image at shape (1, 3, 384, 640)\n"
     ]
    },
    {
     "name": "stderr",
     "output_type": "stream",
     "text": [
      " 17%|█████████████▋                                                                   | 35/207 [00:04<00:26,  6.61it/s]"
     ]
    },
    {
     "name": "stdout",
     "output_type": "stream",
     "text": [
      "\n",
      "0: 384x640 1 apple_marina_bay, 1 art_sci_museum, 1 helix_bridge, 1 lv_marina_bay, 1 mbs, 1 mbs_hotel, 1 sg_river, 30.9ms\n",
      "Speed: 3.9ms preprocess, 30.9ms inference, 2.1ms postprocess per image at shape (1, 3, 384, 640)\n"
     ]
    },
    {
     "name": "stderr",
     "output_type": "stream",
     "text": [
      " 17%|██████████████                                                                   | 36/207 [00:04<00:26,  6.53it/s]"
     ]
    },
    {
     "name": "stdout",
     "output_type": "stream",
     "text": [
      "\n",
      "0: 384x640 1 apple_marina_bay, 1 art_sci_museum, 1 helix_bridge, 1 lv_marina_bay, 1 mbs, 1 mbs_hotel, 1 sg_river, 29.2ms\n",
      "Speed: 3.1ms preprocess, 29.2ms inference, 2.2ms postprocess per image at shape (1, 3, 384, 640)\n"
     ]
    },
    {
     "name": "stderr",
     "output_type": "stream",
     "text": [
      " 18%|██████████████▍                                                                  | 37/207 [00:05<00:25,  6.62it/s]"
     ]
    },
    {
     "name": "stdout",
     "output_type": "stream",
     "text": [
      "\n",
      "0: 384x640 1 apple_marina_bay, 1 art_sci_museum, 1 helix_bridge, 1 lv_marina_bay, 1 mbs, 1 mbs_hotel, 1 sg_river, 25.6ms\n",
      "Speed: 4.1ms preprocess, 25.6ms inference, 2.5ms postprocess per image at shape (1, 3, 384, 640)\n"
     ]
    },
    {
     "name": "stderr",
     "output_type": "stream",
     "text": [
      " 18%|██████████████▊                                                                  | 38/207 [00:05<00:25,  6.64it/s]"
     ]
    },
    {
     "name": "stdout",
     "output_type": "stream",
     "text": [
      "\n",
      "0: 384x640 1 apple_marina_bay, 1 art_sci_museum, 1 helix_bridge, 1 lv_marina_bay, 1 mbs, 1 mbs_hotel, 1 sg_river, 24.0ms\n",
      "Speed: 3.8ms preprocess, 24.0ms inference, 1.9ms postprocess per image at shape (1, 3, 384, 640)\n"
     ]
    },
    {
     "name": "stderr",
     "output_type": "stream",
     "text": [
      " 19%|███████████████▎                                                                 | 39/207 [00:05<00:24,  6.81it/s]"
     ]
    },
    {
     "name": "stdout",
     "output_type": "stream",
     "text": [
      "\n",
      "0: 384x640 1 apple_marina_bay, 1 art_sci_museum, 1 helix_bridge, 1 mbs, 1 mbs_hotel, 1 sg_river, 26.6ms\n",
      "Speed: 3.2ms preprocess, 26.6ms inference, 2.0ms postprocess per image at shape (1, 3, 384, 640)\n"
     ]
    },
    {
     "name": "stderr",
     "output_type": "stream",
     "text": [
      " 19%|███████████████▋                                                                 | 40/207 [00:05<00:23,  7.19it/s]"
     ]
    },
    {
     "name": "stdout",
     "output_type": "stream",
     "text": [
      "\n",
      "0: 384x640 1 apple_marina_bay, 1 art_sci_museum, 1 helix_bridge, 2 lv_marina_bays, 1 mbs, 1 mbs_hotel, 1 sg_river, 27.6ms\n",
      "Speed: 3.0ms preprocess, 27.6ms inference, 2.3ms postprocess per image at shape (1, 3, 384, 640)\n"
     ]
    },
    {
     "name": "stderr",
     "output_type": "stream",
     "text": [
      " 20%|████████████████                                                                 | 41/207 [00:05<00:24,  6.89it/s]"
     ]
    },
    {
     "name": "stdout",
     "output_type": "stream",
     "text": [
      "\n",
      "0: 384x640 1 apple_marina_bay, 1 art_sci_museum, 1 helix_bridge, 3 lv_marina_bays, 1 mbs, 1 mbs_hotel, 1 sg_river, 27.6ms\n",
      "Speed: 3.3ms preprocess, 27.6ms inference, 2.2ms postprocess per image at shape (1, 3, 384, 640)\n"
     ]
    },
    {
     "name": "stderr",
     "output_type": "stream",
     "text": [
      " 20%|████████████████▍                                                                | 42/207 [00:05<00:24,  6.81it/s]"
     ]
    },
    {
     "name": "stdout",
     "output_type": "stream",
     "text": [
      "\n",
      "0: 384x640 1 apple_marina_bay, 1 art_sci_museum, 1 helix_bridge, 1 mbs, 1 mbs_hotel, 1 sg_river, 27.5ms\n",
      "Speed: 3.0ms preprocess, 27.5ms inference, 1.9ms postprocess per image at shape (1, 3, 384, 640)\n"
     ]
    },
    {
     "name": "stderr",
     "output_type": "stream",
     "text": [
      " 21%|████████████████▊                                                                | 43/207 [00:06<00:24,  6.75it/s]"
     ]
    },
    {
     "name": "stdout",
     "output_type": "stream",
     "text": [
      "\n",
      "0: 384x640 1 apple_marina_bay, 1 art_sci_museum, 1 helix_bridge, 1 mbs, 1 mbs_hotel, 1 sg_river, 28.1ms\n",
      "Speed: 3.0ms preprocess, 28.1ms inference, 2.1ms postprocess per image at shape (1, 3, 384, 640)\n"
     ]
    },
    {
     "name": "stderr",
     "output_type": "stream",
     "text": [
      " 21%|█████████████████▏                                                               | 44/207 [00:06<00:24,  6.65it/s]"
     ]
    },
    {
     "name": "stdout",
     "output_type": "stream",
     "text": [
      "\n",
      "0: 384x640 1 apple_marina_bay, 1 art_sci_museum, 1 helix_bridge, 1 lv_marina_bay, 1 mbs, 1 mbs_hotel, 1 sg_river, 33.1ms\n",
      "Speed: 3.0ms preprocess, 33.1ms inference, 3.5ms postprocess per image at shape (1, 3, 384, 640)\n"
     ]
    },
    {
     "name": "stderr",
     "output_type": "stream",
     "text": [
      " 22%|█████████████████▌                                                               | 45/207 [00:06<00:25,  6.39it/s]"
     ]
    },
    {
     "name": "stdout",
     "output_type": "stream",
     "text": [
      "\n",
      "0: 384x640 1 apple_marina_bay, 1 art_sci_museum, 1 helix_bridge, 2 lv_marina_bays, 1 mbs, 1 mbs_hotel, 1 sg_river, 28.3ms\n",
      "Speed: 3.0ms preprocess, 28.3ms inference, 2.7ms postprocess per image at shape (1, 3, 384, 640)\n"
     ]
    },
    {
     "name": "stderr",
     "output_type": "stream",
     "text": [
      " 22%|██████████████████                                                               | 46/207 [00:06<00:25,  6.34it/s]"
     ]
    },
    {
     "name": "stdout",
     "output_type": "stream",
     "text": [
      "\n",
      "0: 384x640 1 apple_marina_bay, 1 art_sci_museum, 1 helix_bridge, 1 lv_marina_bay, 1 mbs, 1 mbs_hotel, 1 sg_river, 28.2ms\n",
      "Speed: 2.9ms preprocess, 28.2ms inference, 2.7ms postprocess per image at shape (1, 3, 384, 640)\n"
     ]
    },
    {
     "name": "stderr",
     "output_type": "stream",
     "text": [
      " 23%|██████████████████▍                                                              | 47/207 [00:06<00:25,  6.35it/s]"
     ]
    },
    {
     "name": "stdout",
     "output_type": "stream",
     "text": [
      "\n",
      "0: 384x640 1 apple_marina_bay, 1 art_sci_museum, 1 helix_bridge, 1 mbs, 1 mbs_hotel, 1 sg_river, 29.1ms\n",
      "Speed: 2.9ms preprocess, 29.1ms inference, 1.9ms postprocess per image at shape (1, 3, 384, 640)\n"
     ]
    },
    {
     "name": "stderr",
     "output_type": "stream",
     "text": [
      " 23%|██████████████████▊                                                              | 48/207 [00:06<00:24,  6.47it/s]"
     ]
    },
    {
     "name": "stdout",
     "output_type": "stream",
     "text": [
      "\n",
      "0: 384x640 1 apple_marina_bay, 1 art_sci_museum, 2 helix_bridges, 1 lv_marina_bay, 1 mbs, 1 mbs_hotel, 1 sg_river, 28.9ms\n",
      "Speed: 3.0ms preprocess, 28.9ms inference, 4.0ms postprocess per image at shape (1, 3, 384, 640)\n"
     ]
    },
    {
     "name": "stderr",
     "output_type": "stream",
     "text": [
      " 24%|███████████████████▏                                                             | 49/207 [00:06<00:24,  6.39it/s]"
     ]
    },
    {
     "name": "stdout",
     "output_type": "stream",
     "text": [
      "\n",
      "0: 384x640 1 apple_marina_bay, 1 art_sci_museum, 1 helix_bridge, 2 lv_marina_bays, 1 mbs, 1 mbs_hotel, 1 sg_river, 29.5ms\n",
      "Speed: 2.9ms preprocess, 29.5ms inference, 1.8ms postprocess per image at shape (1, 3, 384, 640)\n"
     ]
    },
    {
     "name": "stderr",
     "output_type": "stream",
     "text": [
      " 24%|███████████████████▌                                                             | 50/207 [00:07<00:24,  6.39it/s]"
     ]
    },
    {
     "name": "stdout",
     "output_type": "stream",
     "text": [
      "\n",
      "0: 384x640 1 apple_marina_bay, 1 art_sci_museum, 1 helix_bridge, 1 lv_marina_bay, 1 mbs, 1 mbs_hotel, 1 sg_river, 31.0ms\n",
      "Speed: 3.7ms preprocess, 31.0ms inference, 2.2ms postprocess per image at shape (1, 3, 384, 640)\n"
     ]
    },
    {
     "name": "stderr",
     "output_type": "stream",
     "text": [
      " 25%|███████████████████▉                                                             | 51/207 [00:07<00:24,  6.24it/s]"
     ]
    },
    {
     "name": "stdout",
     "output_type": "stream",
     "text": [
      "\n",
      "0: 384x640 1 apple_marina_bay, 1 art_sci_museum, 1 helix_bridge, 1 lv_marina_bay, 1 mbs, 1 mbs_hotel, 1 sg_river, 29.9ms\n",
      "Speed: 4.2ms preprocess, 29.9ms inference, 3.8ms postprocess per image at shape (1, 3, 384, 640)\n"
     ]
    },
    {
     "name": "stderr",
     "output_type": "stream",
     "text": [
      " 25%|████████████████████▎                                                            | 52/207 [00:07<00:24,  6.42it/s]"
     ]
    },
    {
     "name": "stdout",
     "output_type": "stream",
     "text": [
      "\n",
      "0: 384x640 1 apple_marina_bay, 1 art_sci_museum, 1 helix_bridge, 1 lv_marina_bay, 1 mbs, 1 mbs_hotel, 1 sg_river, 33.6ms\n",
      "Speed: 4.2ms preprocess, 33.6ms inference, 4.1ms postprocess per image at shape (1, 3, 384, 640)\n"
     ]
    },
    {
     "name": "stderr",
     "output_type": "stream",
     "text": [
      " 26%|████████████████████▋                                                            | 53/207 [00:07<00:25,  6.11it/s]"
     ]
    },
    {
     "name": "stdout",
     "output_type": "stream",
     "text": [
      "\n",
      "0: 384x640 1 apple_marina_bay, 1 art_sci_museum, 1 helix_bridge, 1 lv_marina_bay, 1 mbs, 1 mbs_hotel, 1 sg_river, 29.4ms\n",
      "Speed: 3.5ms preprocess, 29.4ms inference, 2.1ms postprocess per image at shape (1, 3, 384, 640)\n"
     ]
    },
    {
     "name": "stderr",
     "output_type": "stream",
     "text": [
      " 26%|█████████████████████▏                                                           | 54/207 [00:07<00:24,  6.20it/s]"
     ]
    },
    {
     "name": "stdout",
     "output_type": "stream",
     "text": [
      "\n",
      "0: 384x640 1 apple_marina_bay, 1 art_sci_museum, 1 helix_bridge, 1 lv_marina_bay, 1 mbs, 1 mbs_hotel, 1 sg_river, 29.6ms\n",
      "Speed: 2.9ms preprocess, 29.6ms inference, 3.0ms postprocess per image at shape (1, 3, 384, 640)\n"
     ]
    },
    {
     "name": "stderr",
     "output_type": "stream",
     "text": [
      " 27%|█████████████████████▌                                                           | 55/207 [00:07<00:24,  6.30it/s]"
     ]
    },
    {
     "name": "stdout",
     "output_type": "stream",
     "text": [
      "\n",
      "0: 384x640 1 apple_marina_bay, 1 art_sci_museum, 1 helix_bridge, 1 lv_marina_bay, 1 mbs, 1 mbs_hotel, 1 sg_river, 29.5ms\n",
      "Speed: 3.0ms preprocess, 29.5ms inference, 2.3ms postprocess per image at shape (1, 3, 384, 640)\n"
     ]
    },
    {
     "name": "stderr",
     "output_type": "stream",
     "text": [
      " 27%|█████████████████████▉                                                           | 56/207 [00:08<00:23,  6.33it/s]"
     ]
    },
    {
     "name": "stdout",
     "output_type": "stream",
     "text": [
      "\n",
      "0: 384x640 1 apple_marina_bay, 1 art_sci_museum, 1 helix_bridge, 1 lv_marina_bay, 1 mbs, 1 mbs_hotel, 1 sg_river, 30.3ms\n",
      "Speed: 3.3ms preprocess, 30.3ms inference, 2.2ms postprocess per image at shape (1, 3, 384, 640)\n"
     ]
    },
    {
     "name": "stderr",
     "output_type": "stream",
     "text": [
      " 28%|██████████████████████▎                                                          | 57/207 [00:08<00:23,  6.33it/s]"
     ]
    },
    {
     "name": "stdout",
     "output_type": "stream",
     "text": [
      "\n",
      "0: 384x640 1 apple_marina_bay, 1 art_sci_museum, 1 helix_bridge, 1 lv_marina_bay, 1 mbs, 1 mbs_hotel, 1 sg_river, 30.3ms\n",
      "Speed: 3.0ms preprocess, 30.3ms inference, 3.0ms postprocess per image at shape (1, 3, 384, 640)\n"
     ]
    },
    {
     "name": "stderr",
     "output_type": "stream",
     "text": [
      " 28%|██████████████████████▋                                                          | 58/207 [00:08<00:22,  6.59it/s]"
     ]
    },
    {
     "name": "stdout",
     "output_type": "stream",
     "text": [
      "\n",
      "0: 384x640 1 apple_marina_bay, 1 art_sci_museum, 2 helix_bridges, 1 lv_marina_bay, 1 mbs, 1 mbs_hotel, 1 sg_river, 30.2ms\n",
      "Speed: 3.4ms preprocess, 30.2ms inference, 3.4ms postprocess per image at shape (1, 3, 384, 640)\n"
     ]
    },
    {
     "name": "stderr",
     "output_type": "stream",
     "text": [
      " 29%|███████████████████████                                                          | 59/207 [00:08<00:22,  6.49it/s]"
     ]
    },
    {
     "name": "stdout",
     "output_type": "stream",
     "text": [
      "\n",
      "0: 384x640 1 apple_marina_bay, 1 art_sci_museum, 1 helix_bridge, 1 lv_marina_bay, 1 mbs, 1 mbs_hotel, 1 sg_river, 31.4ms\n",
      "Speed: 4.5ms preprocess, 31.4ms inference, 2.8ms postprocess per image at shape (1, 3, 384, 640)\n"
     ]
    },
    {
     "name": "stderr",
     "output_type": "stream",
     "text": [
      " 29%|███████████████████████▍                                                         | 60/207 [00:08<00:24,  5.93it/s]"
     ]
    },
    {
     "name": "stdout",
     "output_type": "stream",
     "text": [
      "\n",
      "0: 384x640 1 apple_marina_bay, 1 art_sci_museum, 1 helix_bridge, 1 lv_marina_bay, 1 mbs, 1 mbs_hotel, 1 sg_river, 30.7ms\n",
      "Speed: 3.8ms preprocess, 30.7ms inference, 2.3ms postprocess per image at shape (1, 3, 384, 640)\n"
     ]
    },
    {
     "name": "stderr",
     "output_type": "stream",
     "text": [
      " 29%|███████████████████████▊                                                         | 61/207 [00:08<00:24,  5.87it/s]"
     ]
    },
    {
     "name": "stdout",
     "output_type": "stream",
     "text": [
      "\n",
      "0: 384x640 1 apple_marina_bay, 1 art_sci_museum, 1 helix_bridge, 1 lv_marina_bay, 1 mbs, 1 mbs_hotel, 1 sg_river, 30.6ms\n",
      "Speed: 4.1ms preprocess, 30.6ms inference, 2.2ms postprocess per image at shape (1, 3, 384, 640)\n"
     ]
    },
    {
     "name": "stderr",
     "output_type": "stream",
     "text": [
      " 30%|████████████████████████▎                                                        | 62/207 [00:09<00:24,  5.83it/s]"
     ]
    },
    {
     "name": "stdout",
     "output_type": "stream",
     "text": [
      "\n",
      "0: 384x640 1 apple_marina_bay, 1 art_sci_museum, 1 helix_bridge, 1 lv_marina_bay, 1 mbs, 1 mbs_hotel, 1 sg_river, 31.5ms\n",
      "Speed: 4.2ms preprocess, 31.5ms inference, 4.8ms postprocess per image at shape (1, 3, 384, 640)\n"
     ]
    },
    {
     "name": "stderr",
     "output_type": "stream",
     "text": [
      " 30%|████████████████████████▋                                                        | 63/207 [00:09<00:24,  5.76it/s]"
     ]
    },
    {
     "name": "stdout",
     "output_type": "stream",
     "text": [
      "\n",
      "0: 384x640 1 apple_marina_bay, 1 art_sci_museum, 1 helix_bridge, 1 lv_marina_bay, 1 mbs, 1 mbs_hotel, 1 sg_river, 32.0ms\n",
      "Speed: 3.0ms preprocess, 32.0ms inference, 2.2ms postprocess per image at shape (1, 3, 384, 640)\n"
     ]
    },
    {
     "name": "stderr",
     "output_type": "stream",
     "text": [
      " 31%|█████████████████████████                                                        | 64/207 [00:09<00:23,  6.17it/s]"
     ]
    },
    {
     "name": "stdout",
     "output_type": "stream",
     "text": [
      "\n",
      "0: 384x640 1 apple_marina_bay, 1 art_sci_museum, 1 helix_bridge, 1 lv_marina_bay, 1 mbs, 1 mbs_hotel, 1 sg_river, 32.0ms\n",
      "Speed: 3.1ms preprocess, 32.0ms inference, 2.4ms postprocess per image at shape (1, 3, 384, 640)\n"
     ]
    },
    {
     "name": "stderr",
     "output_type": "stream",
     "text": [
      " 31%|█████████████████████████▍                                                       | 65/207 [00:09<00:23,  6.12it/s]"
     ]
    },
    {
     "name": "stdout",
     "output_type": "stream",
     "text": [
      "\n",
      "0: 384x640 1 apple_marina_bay, 1 art_sci_museum, 1 helix_bridge, 2 lv_marina_bays, 1 mbs, 1 mbs_hotel, 1 sg_river, 30.3ms\n",
      "Speed: 3.8ms preprocess, 30.3ms inference, 2.5ms postprocess per image at shape (1, 3, 384, 640)\n"
     ]
    },
    {
     "name": "stderr",
     "output_type": "stream",
     "text": [
      " 32%|█████████████████████████▊                                                       | 66/207 [00:09<00:23,  6.06it/s]"
     ]
    },
    {
     "name": "stdout",
     "output_type": "stream",
     "text": [
      "\n",
      "0: 384x640 1 apple_marina_bay, 1 art_sci_museum, 1 helix_bridge, 2 lv_marina_bays, 1 mbs, 1 mbs_hotel, 1 sg_river, 30.4ms\n",
      "Speed: 3.1ms preprocess, 30.4ms inference, 4.2ms postprocess per image at shape (1, 3, 384, 640)\n"
     ]
    },
    {
     "name": "stderr",
     "output_type": "stream",
     "text": [
      " 32%|██████████████████████████▏                                                      | 67/207 [00:09<00:23,  6.03it/s]"
     ]
    },
    {
     "name": "stdout",
     "output_type": "stream",
     "text": [
      "\n",
      "0: 384x640 1 apple_marina_bay, 1 art_sci_museum, 1 helix_bridge, 2 lv_marina_bays, 1 mbs, 1 mbs_hotel, 1 sg_river, 30.6ms\n",
      "Speed: 3.3ms preprocess, 30.6ms inference, 2.0ms postprocess per image at shape (1, 3, 384, 640)\n"
     ]
    },
    {
     "name": "stderr",
     "output_type": "stream",
     "text": [
      " 33%|██████████████████████████▌                                                      | 68/207 [00:10<00:23,  6.02it/s]"
     ]
    },
    {
     "name": "stdout",
     "output_type": "stream",
     "text": [
      "\n",
      "0: 384x640 1 apple_marina_bay, 1 art_sci_museum, 1 helix_bridge, 1 lv_marina_bay, 1 mbs, 1 mbs_hotel, 1 sg_river, 30.2ms\n",
      "Speed: 2.9ms preprocess, 30.2ms inference, 1.9ms postprocess per image at shape (1, 3, 384, 640)\n"
     ]
    },
    {
     "name": "stderr",
     "output_type": "stream",
     "text": [
      " 33%|███████████████████████████                                                      | 69/207 [00:10<00:22,  6.17it/s]"
     ]
    },
    {
     "name": "stdout",
     "output_type": "stream",
     "text": [
      "\n",
      "0: 384x640 1 apple_marina_bay, 1 art_sci_museum, 1 helix_bridge, 2 lv_marina_bays, 1 mbs, 1 mbs_hotel, 1 sg_river, 29.6ms\n",
      "Speed: 3.3ms preprocess, 29.6ms inference, 1.9ms postprocess per image at shape (1, 3, 384, 640)\n"
     ]
    },
    {
     "name": "stderr",
     "output_type": "stream",
     "text": [
      " 34%|███████████████████████████▍                                                     | 70/207 [00:10<00:21,  6.25it/s]"
     ]
    },
    {
     "name": "stdout",
     "output_type": "stream",
     "text": [
      "\n",
      "0: 384x640 1 apple_marina_bay, 1 art_sci_museum, 1 helix_bridge, 2 lv_marina_bays, 1 mbs, 1 mbs_hotel, 1 sg_river, 31.8ms\n",
      "Speed: 5.2ms preprocess, 31.8ms inference, 4.2ms postprocess per image at shape (1, 3, 384, 640)\n"
     ]
    },
    {
     "name": "stderr",
     "output_type": "stream",
     "text": [
      " 34%|███████████████████████████▊                                                     | 71/207 [00:10<00:22,  6.14it/s]"
     ]
    },
    {
     "name": "stdout",
     "output_type": "stream",
     "text": [
      "\n",
      "0: 384x640 1 apple_marina_bay, 1 art_sci_museum, 1 helix_bridge, 2 lv_marina_bays, 1 mbs, 1 mbs_hotel, 1 sg_river, 30.1ms\n",
      "Speed: 4.1ms preprocess, 30.1ms inference, 2.1ms postprocess per image at shape (1, 3, 384, 640)\n"
     ]
    },
    {
     "name": "stderr",
     "output_type": "stream",
     "text": [
      " 35%|████████████████████████████▏                                                    | 72/207 [00:10<00:22,  6.10it/s]"
     ]
    },
    {
     "name": "stdout",
     "output_type": "stream",
     "text": [
      "\n",
      "0: 384x640 1 apple_marina_bay, 1 art_sci_museum, 1 helix_bridge, 2 lv_marina_bays, 1 mbs, 1 mbs_hotel, 1 sg_river, 28.9ms\n",
      "Speed: 4.8ms preprocess, 28.9ms inference, 2.0ms postprocess per image at shape (1, 3, 384, 640)\n"
     ]
    },
    {
     "name": "stderr",
     "output_type": "stream",
     "text": [
      " 35%|████████████████████████████▌                                                    | 73/207 [00:10<00:21,  6.13it/s]"
     ]
    },
    {
     "name": "stdout",
     "output_type": "stream",
     "text": [
      "\n",
      "0: 384x640 1 apple_marina_bay, 1 art_sci_museum, 1 helix_bridge, 2 lv_marina_bays, 1 mbs, 1 mbs_hotel, 1 sg_river, 29.3ms\n",
      "Speed: 2.9ms preprocess, 29.3ms inference, 2.5ms postprocess per image at shape (1, 3, 384, 640)\n"
     ]
    },
    {
     "name": "stderr",
     "output_type": "stream",
     "text": [
      " 36%|████████████████████████████▉                                                    | 74/207 [00:11<00:21,  6.18it/s]"
     ]
    },
    {
     "name": "stdout",
     "output_type": "stream",
     "text": [
      "\n",
      "0: 384x640 1 apple_marina_bay, 1 art_sci_museum, 1 helix_bridge, 2 lv_marina_bays, 1 mbs, 1 mbs_hotel, 1 sg_river, 29.8ms\n",
      "Speed: 5.0ms preprocess, 29.8ms inference, 2.1ms postprocess per image at shape (1, 3, 384, 640)\n"
     ]
    },
    {
     "name": "stderr",
     "output_type": "stream",
     "text": [
      " 36%|█████████████████████████████▎                                                   | 75/207 [00:11<00:22,  5.99it/s]"
     ]
    },
    {
     "name": "stdout",
     "output_type": "stream",
     "text": [
      "\n",
      "0: 384x640 1 apple_marina_bay, 1 art_sci_museum, 1 helix_bridge, 1 lv_marina_bay, 1 mbs, 1 mbs_hotel, 1 sg_river, 31.5ms\n",
      "Speed: 4.1ms preprocess, 31.5ms inference, 2.5ms postprocess per image at shape (1, 3, 384, 640)\n"
     ]
    },
    {
     "name": "stderr",
     "output_type": "stream",
     "text": [
      " 37%|█████████████████████████████▋                                                   | 76/207 [00:11<00:22,  5.76it/s]"
     ]
    },
    {
     "name": "stdout",
     "output_type": "stream",
     "text": [
      "\n",
      "0: 384x640 1 apple_marina_bay, 1 art_sci_museum, 2 helix_bridges, 1 lv_marina_bay, 1 mbs, 1 mbs_hotel, 1 sg_river, 29.3ms\n",
      "Speed: 4.9ms preprocess, 29.3ms inference, 2.2ms postprocess per image at shape (1, 3, 384, 640)\n"
     ]
    },
    {
     "name": "stderr",
     "output_type": "stream",
     "text": [
      " 37%|██████████████████████████████▏                                                  | 77/207 [00:11<00:22,  5.83it/s]"
     ]
    },
    {
     "name": "stdout",
     "output_type": "stream",
     "text": [
      "\n",
      "0: 384x640 1 apple_marina_bay, 1 art_sci_museum, 2 helix_bridges, 1 lv_marina_bay, 1 mbs, 1 mbs_hotel, 1 sg_river, 31.1ms\n",
      "Speed: 3.6ms preprocess, 31.1ms inference, 1.9ms postprocess per image at shape (1, 3, 384, 640)\n"
     ]
    },
    {
     "name": "stderr",
     "output_type": "stream",
     "text": [
      " 38%|██████████████████████████████▌                                                  | 78/207 [00:11<00:21,  5.86it/s]"
     ]
    },
    {
     "name": "stdout",
     "output_type": "stream",
     "text": [
      "\n",
      "0: 384x640 1 apple_marina_bay, 1 art_sci_museum, 2 helix_bridges, 2 lv_marina_bays, 1 mbs, 1 mbs_hotel, 1 sg_river, 28.8ms\n",
      "Speed: 2.9ms preprocess, 28.8ms inference, 3.3ms postprocess per image at shape (1, 3, 384, 640)\n"
     ]
    },
    {
     "name": "stderr",
     "output_type": "stream",
     "text": [
      " 38%|██████████████████████████████▉                                                  | 79/207 [00:11<00:21,  5.83it/s]"
     ]
    },
    {
     "name": "stdout",
     "output_type": "stream",
     "text": [
      "\n",
      "0: 384x640 1 apple_marina_bay, 1 art_sci_museum, 2 helix_bridges, 1 lv_marina_bay, 1 mbs, 1 mbs_hotel, 1 sg_river, 31.5ms\n",
      "Speed: 3.4ms preprocess, 31.5ms inference, 4.8ms postprocess per image at shape (1, 3, 384, 640)\n"
     ]
    },
    {
     "name": "stderr",
     "output_type": "stream",
     "text": [
      " 39%|███████████████████████████████▎                                                 | 80/207 [00:12<00:21,  5.86it/s]"
     ]
    },
    {
     "name": "stdout",
     "output_type": "stream",
     "text": [
      "\n",
      "0: 384x640 1 apple_marina_bay, 1 art_sci_museum, 2 helix_bridges, 2 lv_marina_bays, 1 mbs, 1 mbs_hotel, 1 sg_river, 29.5ms\n",
      "Speed: 4.1ms preprocess, 29.5ms inference, 2.2ms postprocess per image at shape (1, 3, 384, 640)\n"
     ]
    },
    {
     "name": "stderr",
     "output_type": "stream",
     "text": [
      " 39%|███████████████████████████████▋                                                 | 81/207 [00:12<00:21,  5.82it/s]"
     ]
    },
    {
     "name": "stdout",
     "output_type": "stream",
     "text": [
      "\n",
      "0: 384x640 1 apple_marina_bay, 1 art_sci_museum, 2 helix_bridges, 1 lv_marina_bay, 1 mbs, 1 mbs_hotel, 1 sg_river, 30.0ms\n",
      "Speed: 3.0ms preprocess, 30.0ms inference, 2.0ms postprocess per image at shape (1, 3, 384, 640)\n"
     ]
    },
    {
     "name": "stderr",
     "output_type": "stream",
     "text": [
      " 40%|████████████████████████████████                                                 | 82/207 [00:12<00:20,  6.25it/s]"
     ]
    },
    {
     "name": "stdout",
     "output_type": "stream",
     "text": [
      "\n",
      "0: 384x640 1 apple_marina_bay, 1 art_sci_museum, 2 helix_bridges, 2 lv_marina_bays, 1 mbs, 1 mbs_hotel, 1 sg_river, 30.8ms\n",
      "Speed: 5.9ms preprocess, 30.8ms inference, 2.4ms postprocess per image at shape (1, 3, 384, 640)\n"
     ]
    },
    {
     "name": "stderr",
     "output_type": "stream",
     "text": [
      " 40%|████████████████████████████████▍                                                | 83/207 [00:12<00:20,  5.99it/s]"
     ]
    },
    {
     "name": "stdout",
     "output_type": "stream",
     "text": [
      "\n",
      "0: 384x640 1 apple_marina_bay, 1 art_sci_museum, 1 helix_bridge, 2 lv_marina_bays, 1 mbs, 1 mbs_hotel, 1 sg_river, 30.2ms\n",
      "Speed: 4.0ms preprocess, 30.2ms inference, 2.2ms postprocess per image at shape (1, 3, 384, 640)\n"
     ]
    },
    {
     "name": "stderr",
     "output_type": "stream",
     "text": [
      " 41%|████████████████████████████████▊                                                | 84/207 [00:12<00:20,  6.07it/s]"
     ]
    },
    {
     "name": "stdout",
     "output_type": "stream",
     "text": [
      "\n",
      "0: 384x640 1 apple_marina_bay, 1 art_sci_museum, 2 helix_bridges, 2 lv_marina_bays, 1 mbs, 1 mbs_hotel, 1 sg_river, 29.8ms\n",
      "Speed: 4.0ms preprocess, 29.8ms inference, 2.3ms postprocess per image at shape (1, 3, 384, 640)\n"
     ]
    },
    {
     "name": "stderr",
     "output_type": "stream",
     "text": [
      " 41%|█████████████████████████████████▎                                               | 85/207 [00:12<00:20,  5.92it/s]"
     ]
    },
    {
     "name": "stdout",
     "output_type": "stream",
     "text": [
      "\n",
      "0: 384x640 1 apple_marina_bay, 1 art_sci_museum, 2 helix_bridges, 2 lv_marina_bays, 1 mbs, 1 mbs_hotel, 1 sg_river, 32.0ms\n",
      "Speed: 4.3ms preprocess, 32.0ms inference, 2.2ms postprocess per image at shape (1, 3, 384, 640)\n"
     ]
    },
    {
     "name": "stderr",
     "output_type": "stream",
     "text": [
      " 42%|█████████████████████████████████▋                                               | 86/207 [00:13<00:20,  5.98it/s]"
     ]
    },
    {
     "name": "stdout",
     "output_type": "stream",
     "text": [
      "\n",
      "0: 384x640 1 apple_marina_bay, 1 art_sci_museum, 2 helix_bridges, 1 lv_marina_bay, 1 mbs, 1 mbs_hotel, 1 sg_river, 30.4ms\n",
      "Speed: 5.4ms preprocess, 30.4ms inference, 2.2ms postprocess per image at shape (1, 3, 384, 640)\n"
     ]
    },
    {
     "name": "stderr",
     "output_type": "stream",
     "text": [
      " 42%|██████████████████████████████████                                               | 87/207 [00:13<00:20,  5.88it/s]"
     ]
    },
    {
     "name": "stdout",
     "output_type": "stream",
     "text": [
      "\n",
      "0: 384x640 1 apple_marina_bay, 1 art_sci_museum, 2 helix_bridges, 1 lv_marina_bay, 1 mbs, 1 mbs_hotel, 1 sg_river, 31.5ms\n",
      "Speed: 3.5ms preprocess, 31.5ms inference, 2.3ms postprocess per image at shape (1, 3, 384, 640)\n"
     ]
    },
    {
     "name": "stderr",
     "output_type": "stream",
     "text": [
      " 43%|██████████████████████████████████▍                                              | 88/207 [00:13<00:19,  6.18it/s]"
     ]
    },
    {
     "name": "stdout",
     "output_type": "stream",
     "text": [
      "\n",
      "0: 384x640 1 apple_marina_bay, 1 art_sci_museum, 2 helix_bridges, 1 mbs, 1 mbs_hotel, 1 sg_river, 30.9ms\n",
      "Speed: 3.3ms preprocess, 30.9ms inference, 1.9ms postprocess per image at shape (1, 3, 384, 640)\n"
     ]
    },
    {
     "name": "stderr",
     "output_type": "stream",
     "text": [
      " 43%|██████████████████████████████████▊                                              | 89/207 [00:13<00:18,  6.32it/s]"
     ]
    },
    {
     "name": "stdout",
     "output_type": "stream",
     "text": [
      "\n",
      "0: 384x640 1 apple_marina_bay, 1 art_sci_museum, 2 helix_bridges, 1 mbs, 1 mbs_hotel, 1 sg_river, 36.0ms\n",
      "Speed: 4.2ms preprocess, 36.0ms inference, 2.5ms postprocess per image at shape (1, 3, 384, 640)\n"
     ]
    },
    {
     "name": "stderr",
     "output_type": "stream",
     "text": [
      " 43%|███████████████████████████████████▏                                             | 90/207 [00:13<00:19,  5.94it/s]"
     ]
    },
    {
     "name": "stdout",
     "output_type": "stream",
     "text": [
      "\n",
      "0: 384x640 1 apple_marina_bay, 1 art_sci_museum, 2 helix_bridges, 1 lv_marina_bay, 1 mbs, 1 mbs_hotel, 1 sg_river, 30.6ms\n",
      "Speed: 5.6ms preprocess, 30.6ms inference, 2.6ms postprocess per image at shape (1, 3, 384, 640)\n"
     ]
    },
    {
     "name": "stderr",
     "output_type": "stream",
     "text": [
      " 44%|███████████████████████████████████▌                                             | 91/207 [00:13<00:20,  5.68it/s]"
     ]
    },
    {
     "name": "stdout",
     "output_type": "stream",
     "text": [
      "\n",
      "0: 384x640 1 apple_marina_bay, 1 art_sci_museum, 2 helix_bridges, 1 lv_marina_bay, 1 mbs, 1 mbs_hotel, 1 sg_river, 29.5ms\n",
      "Speed: 4.0ms preprocess, 29.5ms inference, 2.3ms postprocess per image at shape (1, 3, 384, 640)\n"
     ]
    },
    {
     "name": "stderr",
     "output_type": "stream",
     "text": [
      " 44%|████████████████████████████████████                                             | 92/207 [00:14<00:19,  5.83it/s]"
     ]
    },
    {
     "name": "stdout",
     "output_type": "stream",
     "text": [
      "\n",
      "0: 384x640 1 apple_marina_bay, 1 art_sci_museum, 2 helix_bridges, 1 lv_marina_bay, 1 mbs, 1 mbs_hotel, 1 sg_river, 29.4ms\n",
      "Speed: 4.4ms preprocess, 29.4ms inference, 2.2ms postprocess per image at shape (1, 3, 384, 640)\n"
     ]
    },
    {
     "name": "stderr",
     "output_type": "stream",
     "text": [
      " 45%|████████████████████████████████████▍                                            | 93/207 [00:14<00:19,  5.86it/s]"
     ]
    },
    {
     "name": "stdout",
     "output_type": "stream",
     "text": [
      "\n",
      "0: 384x640 1 apple_marina_bay, 1 art_sci_museum, 2 helix_bridges, 2 lv_marina_bays, 1 mbs, 1 mbs_hotel, 1 sg_river, 29.9ms\n",
      "Speed: 4.1ms preprocess, 29.9ms inference, 2.9ms postprocess per image at shape (1, 3, 384, 640)\n"
     ]
    },
    {
     "name": "stderr",
     "output_type": "stream",
     "text": [
      " 45%|████████████████████████████████████▊                                            | 94/207 [00:14<00:19,  5.70it/s]"
     ]
    },
    {
     "name": "stdout",
     "output_type": "stream",
     "text": [
      "\n",
      "0: 384x640 1 apple_marina_bay, 1 art_sci_museum, 1 helix_bridge, 1 mbs, 1 mbs_hotel, 1 sg_river, 31.6ms\n",
      "Speed: 3.5ms preprocess, 31.6ms inference, 2.2ms postprocess per image at shape (1, 3, 384, 640)\n"
     ]
    },
    {
     "name": "stderr",
     "output_type": "stream",
     "text": [
      " 46%|█████████████████████████████████████▏                                           | 95/207 [00:14<00:19,  5.75it/s]"
     ]
    },
    {
     "name": "stdout",
     "output_type": "stream",
     "text": [
      "\n",
      "0: 384x640 1 apple_marina_bay, 1 art_sci_museum, 1 helix_bridge, 1 lv_marina_bay, 1 mbs, 1 mbs_hotel, 1 sg_river, 29.3ms\n",
      "Speed: 3.6ms preprocess, 29.3ms inference, 2.3ms postprocess per image at shape (1, 3, 384, 640)\n"
     ]
    },
    {
     "name": "stderr",
     "output_type": "stream",
     "text": [
      " 46%|█████████████████████████████████████▌                                           | 96/207 [00:14<00:18,  5.89it/s]"
     ]
    },
    {
     "name": "stdout",
     "output_type": "stream",
     "text": [
      "\n",
      "0: 384x640 1 apple_marina_bay, 1 art_sci_museum, 1 helix_bridge, 1 lv_marina_bay, 1 mbs, 1 mbs_hotel, 1 sg_river, 31.4ms\n",
      "Speed: 4.1ms preprocess, 31.4ms inference, 2.0ms postprocess per image at shape (1, 3, 384, 640)\n"
     ]
    },
    {
     "name": "stderr",
     "output_type": "stream",
     "text": [
      " 47%|█████████████████████████████████████▉                                           | 97/207 [00:14<00:18,  5.93it/s]"
     ]
    },
    {
     "name": "stdout",
     "output_type": "stream",
     "text": [
      "\n",
      "0: 384x640 1 apple_marina_bay, 1 art_sci_museum, 1 helix_bridge, 1 lv_marina_bay, 1 mbs, 1 mbs_hotel, 1 sg_river, 29.3ms\n",
      "Speed: 4.2ms preprocess, 29.3ms inference, 2.9ms postprocess per image at shape (1, 3, 384, 640)\n"
     ]
    },
    {
     "name": "stderr",
     "output_type": "stream",
     "text": [
      " 47%|██████████████████████████████████████▎                                          | 98/207 [00:15<00:18,  6.00it/s]"
     ]
    },
    {
     "name": "stdout",
     "output_type": "stream",
     "text": [
      "\n",
      "0: 384x640 1 apple_marina_bay, 1 art_sci_museum, 2 helix_bridges, 2 lv_marina_bays, 1 mbs, 1 mbs_hotel, 1 sg_river, 29.0ms\n",
      "Speed: 3.4ms preprocess, 29.0ms inference, 2.2ms postprocess per image at shape (1, 3, 384, 640)\n"
     ]
    },
    {
     "name": "stderr",
     "output_type": "stream",
     "text": [
      " 48%|██████████████████████████████████████▋                                          | 99/207 [00:15<00:17,  6.01it/s]"
     ]
    },
    {
     "name": "stdout",
     "output_type": "stream",
     "text": [
      "\n",
      "0: 384x640 1 apple_marina_bay, 1 art_sci_museum, 1 helix_bridge, 2 lv_marina_bays, 1 mbs, 1 mbs_hotel, 1 sg_river, 29.1ms\n",
      "Speed: 6.0ms preprocess, 29.1ms inference, 2.3ms postprocess per image at shape (1, 3, 384, 640)\n"
     ]
    },
    {
     "name": "stderr",
     "output_type": "stream",
     "text": [
      " 48%|██████████████████████████████████████▋                                         | 100/207 [00:15<00:17,  6.29it/s]"
     ]
    },
    {
     "name": "stdout",
     "output_type": "stream",
     "text": [
      "\n",
      "0: 384x640 1 apple_marina_bay, 1 art_sci_museum, 1 helix_bridge, 1 lv_marina_bay, 1 mbs, 1 mbs_hotel, 1 sg_river, 28.5ms\n",
      "Speed: 3.2ms preprocess, 28.5ms inference, 2.9ms postprocess per image at shape (1, 3, 384, 640)\n"
     ]
    },
    {
     "name": "stderr",
     "output_type": "stream",
     "text": [
      " 49%|███████████████████████████████████████                                         | 101/207 [00:15<00:17,  6.20it/s]"
     ]
    },
    {
     "name": "stdout",
     "output_type": "stream",
     "text": [
      "\n",
      "0: 384x640 1 apple_marina_bay, 1 art_sci_museum, 2 helix_bridges, 1 lv_marina_bay, 1 mbs, 1 mbs_hotel, 1 sg_river, 28.1ms\n",
      "Speed: 2.9ms preprocess, 28.1ms inference, 2.0ms postprocess per image at shape (1, 3, 384, 640)\n"
     ]
    },
    {
     "name": "stderr",
     "output_type": "stream",
     "text": [
      " 49%|███████████████████████████████████████▍                                        | 102/207 [00:15<00:16,  6.36it/s]"
     ]
    },
    {
     "name": "stdout",
     "output_type": "stream",
     "text": [
      "\n",
      "0: 384x640 1 apple_marina_bay, 1 art_sci_museum, 2 helix_bridges, 1 lv_marina_bay, 1 mbs, 1 mbs_hotel, 1 sg_river, 33.1ms\n",
      "Speed: 3.9ms preprocess, 33.1ms inference, 2.2ms postprocess per image at shape (1, 3, 384, 640)\n"
     ]
    },
    {
     "name": "stderr",
     "output_type": "stream",
     "text": [
      " 50%|███████████████████████████████████████▊                                        | 103/207 [00:15<00:16,  6.12it/s]"
     ]
    },
    {
     "name": "stdout",
     "output_type": "stream",
     "text": [
      "\n",
      "0: 384x640 1 apple_marina_bay, 1 art_sci_museum, 1 helix_bridge, 1 lv_marina_bay, 1 mbs, 1 mbs_hotel, 1 sg_river, 30.8ms\n",
      "Speed: 4.1ms preprocess, 30.8ms inference, 2.5ms postprocess per image at shape (1, 3, 384, 640)\n"
     ]
    },
    {
     "name": "stderr",
     "output_type": "stream",
     "text": [
      " 50%|████████████████████████████████████████▏                                       | 104/207 [00:16<00:16,  6.20it/s]"
     ]
    },
    {
     "name": "stdout",
     "output_type": "stream",
     "text": [
      "\n",
      "0: 384x640 1 apple_marina_bay, 1 art_sci_museum, 1 helix_bridge, 1 lv_marina_bay, 1 mbs, 1 mbs_hotel, 1 sg_river, 30.1ms\n",
      "Speed: 4.1ms preprocess, 30.1ms inference, 2.1ms postprocess per image at shape (1, 3, 384, 640)\n"
     ]
    },
    {
     "name": "stderr",
     "output_type": "stream",
     "text": [
      " 51%|████████████████████████████████████████▌                                       | 105/207 [00:16<00:16,  6.07it/s]"
     ]
    },
    {
     "name": "stdout",
     "output_type": "stream",
     "text": [
      "\n",
      "0: 384x640 1 apple_marina_bay, 1 art_sci_museum, 1 helix_bridge, 2 lv_marina_bays, 1 mbs, 1 mbs_hotel, 1 sg_river, 30.2ms\n",
      "Speed: 4.1ms preprocess, 30.2ms inference, 2.4ms postprocess per image at shape (1, 3, 384, 640)\n"
     ]
    },
    {
     "name": "stderr",
     "output_type": "stream",
     "text": [
      " 51%|████████████████████████████████████████▉                                       | 106/207 [00:16<00:16,  6.11it/s]"
     ]
    },
    {
     "name": "stdout",
     "output_type": "stream",
     "text": [
      "\n",
      "0: 384x640 1 apple_marina_bay, 1 art_sci_museum, 2 helix_bridges, 1 mbs, 1 mbs_hotel, 1 sg_river, 28.5ms\n",
      "Speed: 4.3ms preprocess, 28.5ms inference, 1.8ms postprocess per image at shape (1, 3, 384, 640)\n"
     ]
    },
    {
     "name": "stderr",
     "output_type": "stream",
     "text": [
      " 52%|█████████████████████████████████████████▎                                      | 107/207 [00:16<00:16,  6.23it/s]"
     ]
    },
    {
     "name": "stdout",
     "output_type": "stream",
     "text": [
      "\n",
      "0: 384x640 1 apple_marina_bay, 1 art_sci_museum, 2 helix_bridges, 1 mbs, 1 mbs_hotel, 1 sg_river, 28.7ms\n",
      "Speed: 4.0ms preprocess, 28.7ms inference, 2.4ms postprocess per image at shape (1, 3, 384, 640)\n"
     ]
    },
    {
     "name": "stderr",
     "output_type": "stream",
     "text": [
      " 52%|█████████████████████████████████████████▋                                      | 108/207 [00:16<00:16,  6.08it/s]"
     ]
    },
    {
     "name": "stdout",
     "output_type": "stream",
     "text": [
      "\n",
      "0: 384x640 1 apple_marina_bay, 1 art_sci_museum, 2 helix_bridges, 1 lv_marina_bay, 1 mbs, 1 mbs_hotel, 1 sg_river, 28.0ms\n",
      "Speed: 3.6ms preprocess, 28.0ms inference, 2.1ms postprocess per image at shape (1, 3, 384, 640)\n"
     ]
    },
    {
     "name": "stderr",
     "output_type": "stream",
     "text": [
      " 53%|██████████████████████████████████████████▏                                     | 109/207 [00:16<00:16,  6.02it/s]"
     ]
    },
    {
     "name": "stdout",
     "output_type": "stream",
     "text": [
      "\n",
      "0: 384x640 1 apple_marina_bay, 1 art_sci_museum, 2 helix_bridges, 1 lv_marina_bay, 1 mbs, 1 mbs_hotel, 1 sg_river, 33.8ms\n",
      "Speed: 4.0ms preprocess, 33.8ms inference, 2.3ms postprocess per image at shape (1, 3, 384, 640)\n"
     ]
    },
    {
     "name": "stderr",
     "output_type": "stream",
     "text": [
      " 53%|██████████████████████████████████████████▌                                     | 110/207 [00:17<00:16,  5.98it/s]"
     ]
    },
    {
     "name": "stdout",
     "output_type": "stream",
     "text": [
      "\n",
      "0: 384x640 1 apple_marina_bay, 1 art_sci_museum, 2 helix_bridges, 1 mbs, 1 mbs_hotel, 1 sg_river, 28.3ms\n",
      "Speed: 5.7ms preprocess, 28.3ms inference, 2.2ms postprocess per image at shape (1, 3, 384, 640)\n"
     ]
    },
    {
     "name": "stderr",
     "output_type": "stream",
     "text": [
      " 54%|██████████████████████████████████████████▉                                     | 111/207 [00:17<00:16,  5.91it/s]"
     ]
    },
    {
     "name": "stdout",
     "output_type": "stream",
     "text": [
      "\n",
      "0: 384x640 1 apple_marina_bay, 1 art_sci_museum, 1 helix_bridge, 1 mbs, 1 mbs_hotel, 1 sg_river, 28.3ms\n",
      "Speed: 4.1ms preprocess, 28.3ms inference, 2.9ms postprocess per image at shape (1, 3, 384, 640)\n"
     ]
    },
    {
     "name": "stderr",
     "output_type": "stream",
     "text": [
      " 54%|███████████████████████████████████████████▎                                    | 112/207 [00:17<00:15,  6.11it/s]"
     ]
    },
    {
     "name": "stdout",
     "output_type": "stream",
     "text": [
      "\n",
      "0: 384x640 1 apple_marina_bay, 1 art_sci_museum, 2 helix_bridges, 1 lv_marina_bay, 1 mbs, 1 mbs_hotel, 1 sg_river, 27.7ms\n",
      "Speed: 3.8ms preprocess, 27.7ms inference, 2.0ms postprocess per image at shape (1, 3, 384, 640)\n"
     ]
    },
    {
     "name": "stderr",
     "output_type": "stream",
     "text": [
      " 55%|███████████████████████████████████████████▋                                    | 113/207 [00:17<00:15,  6.13it/s]"
     ]
    },
    {
     "name": "stdout",
     "output_type": "stream",
     "text": [
      "\n",
      "0: 384x640 1 apple_marina_bay, 1 art_sci_museum, 2 helix_bridges, 1 lv_marina_bay, 1 mbs, 1 mbs_hotel, 1 sg_river, 28.5ms\n",
      "Speed: 4.0ms preprocess, 28.5ms inference, 2.3ms postprocess per image at shape (1, 3, 384, 640)\n"
     ]
    },
    {
     "name": "stderr",
     "output_type": "stream",
     "text": [
      " 55%|████████████████████████████████████████████                                    | 114/207 [00:17<00:15,  6.20it/s]"
     ]
    },
    {
     "name": "stdout",
     "output_type": "stream",
     "text": [
      "\n",
      "0: 384x640 1 apple_marina_bay, 1 art_sci_museum, 2 helix_bridges, 1 lv_marina_bay, 1 mbs, 1 mbs_hotel, 1 sg_river, 22.5ms\n",
      "Speed: 3.1ms preprocess, 22.5ms inference, 3.3ms postprocess per image at shape (1, 3, 384, 640)\n"
     ]
    },
    {
     "name": "stderr",
     "output_type": "stream",
     "text": [
      " 56%|████████████████████████████████████████████▍                                   | 115/207 [00:17<00:14,  6.47it/s]"
     ]
    },
    {
     "name": "stdout",
     "output_type": "stream",
     "text": [
      "\n",
      "0: 384x640 1 apple_marina_bay, 1 art_sci_museum, 2 helix_bridges, 1 lv_marina_bay, 1 mbs, 1 mbs_hotel, 1 sg_river, 30.3ms\n",
      "Speed: 5.2ms preprocess, 30.3ms inference, 2.1ms postprocess per image at shape (1, 3, 384, 640)\n"
     ]
    },
    {
     "name": "stderr",
     "output_type": "stream",
     "text": [
      " 56%|████████████████████████████████████████████▊                                   | 116/207 [00:17<00:13,  6.56it/s]"
     ]
    },
    {
     "name": "stdout",
     "output_type": "stream",
     "text": [
      "\n",
      "0: 384x640 1 apple_marina_bay, 1 art_sci_museum, 2 helix_bridges, 1 mbs, 1 mbs_hotel, 1 sg_river, 23.5ms\n",
      "Speed: 2.7ms preprocess, 23.5ms inference, 2.2ms postprocess per image at shape (1, 3, 384, 640)\n"
     ]
    },
    {
     "name": "stderr",
     "output_type": "stream",
     "text": [
      " 57%|█████████████████████████████████████████████▏                                  | 117/207 [00:18<00:13,  6.75it/s]"
     ]
    },
    {
     "name": "stdout",
     "output_type": "stream",
     "text": [
      "\n",
      "0: 384x640 1 apple_marina_bay, 1 art_sci_museum, 2 helix_bridges, 1 mbs, 1 mbs_hotel, 1 sg_river, 26.2ms\n",
      "Speed: 4.1ms preprocess, 26.2ms inference, 2.1ms postprocess per image at shape (1, 3, 384, 640)\n"
     ]
    },
    {
     "name": "stderr",
     "output_type": "stream",
     "text": [
      " 57%|█████████████████████████████████████████████▌                                  | 118/207 [00:18<00:13,  6.83it/s]"
     ]
    },
    {
     "name": "stdout",
     "output_type": "stream",
     "text": [
      "\n",
      "0: 384x640 1 apple_marina_bay, 1 art_sci_museum, 2 helix_bridges, 1 mbs, 1 mbs_hotel, 1 sg_river, 23.8ms\n",
      "Speed: 4.1ms preprocess, 23.8ms inference, 2.0ms postprocess per image at shape (1, 3, 384, 640)\n"
     ]
    },
    {
     "name": "stderr",
     "output_type": "stream",
     "text": [
      " 57%|█████████████████████████████████████████████▉                                  | 119/207 [00:18<00:13,  6.69it/s]"
     ]
    },
    {
     "name": "stdout",
     "output_type": "stream",
     "text": [
      "\n",
      "0: 384x640 1 apple_marina_bay, 1 art_sci_museum, 2 helix_bridges, 1 lv_marina_bay, 1 mbs, 1 mbs_hotel, 1 sg_river, 34.3ms\n",
      "Speed: 3.7ms preprocess, 34.3ms inference, 3.9ms postprocess per image at shape (1, 3, 384, 640)\n"
     ]
    },
    {
     "name": "stderr",
     "output_type": "stream",
     "text": [
      " 58%|██████████████████████████████████████████████▍                                 | 120/207 [00:18<00:13,  6.59it/s]"
     ]
    },
    {
     "name": "stdout",
     "output_type": "stream",
     "text": [
      "\n",
      "0: 384x640 1 apple_marina_bay, 1 art_sci_museum, 2 helix_bridges, 1 lv_marina_bay, 1 mbs, 1 mbs_hotel, 1 sg_river, 28.4ms\n",
      "Speed: 3.8ms preprocess, 28.4ms inference, 2.1ms postprocess per image at shape (1, 3, 384, 640)\n"
     ]
    },
    {
     "name": "stderr",
     "output_type": "stream",
     "text": [
      " 58%|██████████████████████████████████████████████▊                                 | 121/207 [00:18<00:13,  6.60it/s]"
     ]
    },
    {
     "name": "stdout",
     "output_type": "stream",
     "text": [
      "\n",
      "0: 384x640 1 apple_marina_bay, 1 art_sci_museum, 2 helix_bridges, 1 lv_marina_bay, 1 mbs, 1 mbs_hotel, 1 sg_river, 31.2ms\n",
      "Speed: 3.4ms preprocess, 31.2ms inference, 2.0ms postprocess per image at shape (1, 3, 384, 640)\n"
     ]
    },
    {
     "name": "stderr",
     "output_type": "stream",
     "text": [
      " 59%|███████████████████████████████████████████████▏                                | 122/207 [00:18<00:13,  6.30it/s]"
     ]
    },
    {
     "name": "stdout",
     "output_type": "stream",
     "text": [
      "\n",
      "0: 384x640 1 apple_marina_bay, 1 art_sci_museum, 2 helix_bridges, 1 lv_marina_bay, 1 mbs, 1 mbs_hotel, 1 sg_river, 25.4ms\n",
      "Speed: 3.9ms preprocess, 25.4ms inference, 4.4ms postprocess per image at shape (1, 3, 384, 640)\n"
     ]
    },
    {
     "name": "stderr",
     "output_type": "stream",
     "text": [
      " 59%|███████████████████████████████████████████████▌                                | 123/207 [00:19<00:13,  6.20it/s]"
     ]
    },
    {
     "name": "stdout",
     "output_type": "stream",
     "text": [
      "\n",
      "0: 384x640 1 apple_marina_bay, 1 art_sci_museum, 2 helix_bridges, 2 lv_marina_bays, 1 mbs, 1 mbs_hotel, 1 sg_river, 22.1ms\n",
      "Speed: 2.7ms preprocess, 22.1ms inference, 1.8ms postprocess per image at shape (1, 3, 384, 640)\n"
     ]
    },
    {
     "name": "stderr",
     "output_type": "stream",
     "text": [
      " 60%|███████████████████████████████████████████████▉                                | 124/207 [00:19<00:12,  6.89it/s]"
     ]
    },
    {
     "name": "stdout",
     "output_type": "stream",
     "text": [
      "\n",
      "0: 384x640 1 apple_marina_bay, 1 art_sci_museum, 2 helix_bridges, 1 lv_marina_bay, 1 mbs, 1 mbs_hotel, 1 sg_river, 23.1ms\n",
      "Speed: 3.8ms preprocess, 23.1ms inference, 2.1ms postprocess per image at shape (1, 3, 384, 640)\n"
     ]
    },
    {
     "name": "stderr",
     "output_type": "stream",
     "text": [
      " 60%|████████████████████████████████████████████████▎                               | 125/207 [00:19<00:11,  6.87it/s]"
     ]
    },
    {
     "name": "stdout",
     "output_type": "stream",
     "text": [
      "\n",
      "0: 384x640 1 apple_marina_bay, 1 art_sci_museum, 2 helix_bridges, 1 lv_marina_bay, 1 mbs, 1 mbs_hotel, 1 sg_river, 27.6ms\n",
      "Speed: 3.5ms preprocess, 27.6ms inference, 2.1ms postprocess per image at shape (1, 3, 384, 640)\n"
     ]
    },
    {
     "name": "stderr",
     "output_type": "stream",
     "text": [
      " 61%|████████████████████████████████████████████████▋                               | 126/207 [00:19<00:12,  6.49it/s]"
     ]
    },
    {
     "name": "stdout",
     "output_type": "stream",
     "text": [
      "\n",
      "0: 384x640 1 apple_marina_bay, 1 art_sci_museum, 2 helix_bridges, 1 lv_marina_bay, 1 mbs, 1 mbs_hotel, 1 sg_river, 29.9ms\n",
      "Speed: 3.8ms preprocess, 29.9ms inference, 2.2ms postprocess per image at shape (1, 3, 384, 640)\n"
     ]
    },
    {
     "name": "stderr",
     "output_type": "stream",
     "text": [
      " 61%|█████████████████████████████████████████████████                               | 127/207 [00:19<00:12,  6.23it/s]"
     ]
    },
    {
     "name": "stdout",
     "output_type": "stream",
     "text": [
      "\n",
      "0: 384x640 1 apple_marina_bay, 1 art_sci_museum, 2 helix_bridges, 1 mbs, 1 mbs_hotel, 1 sg_river, 30.5ms\n",
      "Speed: 3.8ms preprocess, 30.5ms inference, 2.3ms postprocess per image at shape (1, 3, 384, 640)\n"
     ]
    },
    {
     "name": "stderr",
     "output_type": "stream",
     "text": [
      " 62%|█████████████████████████████████████████████████▍                              | 128/207 [00:19<00:13,  6.07it/s]"
     ]
    },
    {
     "name": "stdout",
     "output_type": "stream",
     "text": [
      "\n",
      "0: 384x640 1 apple_marina_bay, 1 art_sci_museum, 2 helix_bridges, 1 lv_marina_bay, 1 mbs, 1 mbs_hotel, 1 sg_river, 30.4ms\n",
      "Speed: 4.8ms preprocess, 30.4ms inference, 2.3ms postprocess per image at shape (1, 3, 384, 640)\n"
     ]
    },
    {
     "name": "stderr",
     "output_type": "stream",
     "text": [
      " 62%|█████████████████████████████████████████████████▊                              | 129/207 [00:20<00:13,  5.81it/s]"
     ]
    },
    {
     "name": "stdout",
     "output_type": "stream",
     "text": [
      "\n",
      "0: 384x640 1 apple_marina_bay, 1 art_sci_museum, 2 helix_bridges, 1 mbs, 1 mbs_hotel, 1 sg_river, 37.8ms\n",
      "Speed: 4.0ms preprocess, 37.8ms inference, 1.8ms postprocess per image at shape (1, 3, 384, 640)\n"
     ]
    },
    {
     "name": "stderr",
     "output_type": "stream",
     "text": [
      " 63%|██████████████████████████████████████████████████▏                             | 130/207 [00:20<00:12,  6.16it/s]"
     ]
    },
    {
     "name": "stdout",
     "output_type": "stream",
     "text": [
      "\n",
      "0: 384x640 1 apple_marina_bay, 1 art_sci_museum, 2 helix_bridges, 1 lv_marina_bay, 1 mbs, 1 mbs_hotel, 1 sg_river, 31.1ms\n",
      "Speed: 2.9ms preprocess, 31.1ms inference, 1.9ms postprocess per image at shape (1, 3, 384, 640)\n"
     ]
    },
    {
     "name": "stderr",
     "output_type": "stream",
     "text": [
      " 63%|██████████████████████████████████████████████████▋                             | 131/207 [00:20<00:12,  6.21it/s]"
     ]
    },
    {
     "name": "stdout",
     "output_type": "stream",
     "text": [
      "\n",
      "0: 384x640 1 apple_marina_bay, 1 art_sci_museum, 2 helix_bridges, 3 lv_marina_bays, 1 mbs, 1 mbs_hotel, 1 sg_river, 33.1ms\n",
      "Speed: 3.7ms preprocess, 33.1ms inference, 2.1ms postprocess per image at shape (1, 3, 384, 640)\n"
     ]
    },
    {
     "name": "stderr",
     "output_type": "stream",
     "text": [
      " 64%|███████████████████████████████████████████████████                             | 132/207 [00:20<00:12,  5.91it/s]"
     ]
    },
    {
     "name": "stdout",
     "output_type": "stream",
     "text": [
      "\n",
      "0: 384x640 1 apple_marina_bay, 1 art_sci_museum, 2 helix_bridges, 1 mbs, 1 mbs_hotel, 1 sg_river, 32.6ms\n",
      "Speed: 4.1ms preprocess, 32.6ms inference, 2.3ms postprocess per image at shape (1, 3, 384, 640)\n"
     ]
    },
    {
     "name": "stderr",
     "output_type": "stream",
     "text": [
      " 64%|███████████████████████████████████████████████████▍                            | 133/207 [00:20<00:12,  5.80it/s]"
     ]
    },
    {
     "name": "stdout",
     "output_type": "stream",
     "text": [
      "\n",
      "0: 384x640 1 apple_marina_bay, 1 art_sci_museum, 2 helix_bridges, 1 lv_marina_bay, 1 mbs, 1 mbs_hotel, 1 sg_river, 31.4ms\n",
      "Speed: 6.7ms preprocess, 31.4ms inference, 2.5ms postprocess per image at shape (1, 3, 384, 640)\n"
     ]
    },
    {
     "name": "stderr",
     "output_type": "stream",
     "text": [
      " 65%|███████████████████████████████████████████████████▊                            | 134/207 [00:20<00:13,  5.59it/s]"
     ]
    },
    {
     "name": "stdout",
     "output_type": "stream",
     "text": [
      "\n",
      "0: 384x640 1 apple_marina_bay, 1 art_sci_museum, 2 helix_bridges, 1 mbs, 1 mbs_hotel, 1 sg_river, 37.5ms\n",
      "Speed: 4.7ms preprocess, 37.5ms inference, 2.8ms postprocess per image at shape (1, 3, 384, 640)\n"
     ]
    },
    {
     "name": "stderr",
     "output_type": "stream",
     "text": [
      " 65%|████████████████████████████████████████████████████▏                           | 135/207 [00:21<00:13,  5.51it/s]"
     ]
    },
    {
     "name": "stdout",
     "output_type": "stream",
     "text": [
      "\n",
      "0: 384x640 1 apple_marina_bay, 1 art_sci_museum, 2 helix_bridges, 1 lv_marina_bay, 1 mbs, 1 mbs_hotel, 1 sg_river, 32.1ms\n",
      "Speed: 4.7ms preprocess, 32.1ms inference, 1.8ms postprocess per image at shape (1, 3, 384, 640)\n"
     ]
    },
    {
     "name": "stderr",
     "output_type": "stream",
     "text": [
      " 66%|████████████████████████████████████████████████████▌                           | 136/207 [00:21<00:11,  5.96it/s]"
     ]
    },
    {
     "name": "stdout",
     "output_type": "stream",
     "text": [
      "\n",
      "0: 384x640 1 apple_marina_bay, 1 art_sci_museum, 1 helix_bridge, 1 mbs, 1 mbs_hotel, 1 sg_river, 33.8ms\n",
      "Speed: 4.0ms preprocess, 33.8ms inference, 3.4ms postprocess per image at shape (1, 3, 384, 640)\n"
     ]
    },
    {
     "name": "stderr",
     "output_type": "stream",
     "text": [
      " 66%|████████████████████████████████████████████████████▉                           | 137/207 [00:21<00:12,  5.46it/s]"
     ]
    },
    {
     "name": "stdout",
     "output_type": "stream",
     "text": [
      "\n",
      "0: 384x640 1 apple_marina_bay, 1 art_sci_museum, 2 helix_bridges, 1 lv_marina_bay, 1 mbs, 1 mbs_hotel, 1 sg_river, 33.0ms\n",
      "Speed: 3.3ms preprocess, 33.0ms inference, 1.9ms postprocess per image at shape (1, 3, 384, 640)\n"
     ]
    },
    {
     "name": "stderr",
     "output_type": "stream",
     "text": [
      " 67%|█████████████████████████████████████████████████████▎                          | 138/207 [00:21<00:12,  5.67it/s]"
     ]
    },
    {
     "name": "stdout",
     "output_type": "stream",
     "text": [
      "\n",
      "0: 384x640 1 apple_marina_bay, 1 art_sci_museum, 2 helix_bridges, 3 lv_marina_bays, 1 mbs, 1 mbs_hotel, 1 sg_river, 33.4ms\n",
      "Speed: 4.9ms preprocess, 33.4ms inference, 4.0ms postprocess per image at shape (1, 3, 384, 640)\n"
     ]
    },
    {
     "name": "stderr",
     "output_type": "stream",
     "text": [
      " 67%|█████████████████████████████████████████████████████▋                          | 139/207 [00:21<00:11,  5.74it/s]"
     ]
    },
    {
     "name": "stdout",
     "output_type": "stream",
     "text": [
      "\n",
      "0: 384x640 1 apple_marina_bay, 1 art_sci_museum, 2 helix_bridges, 1 lv_marina_bay, 1 mbs, 1 mbs_hotel, 1 sg_river, 33.7ms\n",
      "Speed: 4.1ms preprocess, 33.7ms inference, 2.1ms postprocess per image at shape (1, 3, 384, 640)\n"
     ]
    },
    {
     "name": "stderr",
     "output_type": "stream",
     "text": [
      " 68%|██████████████████████████████████████████████████████                          | 140/207 [00:21<00:11,  5.60it/s]"
     ]
    },
    {
     "name": "stdout",
     "output_type": "stream",
     "text": [
      "\n",
      "0: 384x640 1 apple_marina_bay, 1 art_sci_museum, 2 helix_bridges, 1 mbs, 1 mbs_hotel, 1 sg_river, 36.1ms\n",
      "Speed: 6.4ms preprocess, 36.1ms inference, 2.1ms postprocess per image at shape (1, 3, 384, 640)\n"
     ]
    },
    {
     "name": "stderr",
     "output_type": "stream",
     "text": [
      " 68%|██████████████████████████████████████████████████████▍                         | 141/207 [00:22<00:11,  5.66it/s]"
     ]
    },
    {
     "name": "stdout",
     "output_type": "stream",
     "text": [
      "\n",
      "0: 384x640 1 apple_marina_bay, 1 art_sci_museum, 2 helix_bridges, 1 lv_marina_bay, 1 mbs, 1 mbs_hotel, 1 sg_river, 34.8ms\n",
      "Speed: 6.4ms preprocess, 34.8ms inference, 2.3ms postprocess per image at shape (1, 3, 384, 640)\n"
     ]
    },
    {
     "name": "stderr",
     "output_type": "stream",
     "text": [
      " 69%|██████████████████████████████████████████████████████▉                         | 142/207 [00:22<00:11,  5.90it/s]"
     ]
    },
    {
     "name": "stdout",
     "output_type": "stream",
     "text": [
      "\n",
      "0: 384x640 1 apple_marina_bay, 1 art_sci_museum, 2 helix_bridges, 1 mbs, 1 mbs_hotel, 1 sg_river, 33.4ms\n",
      "Speed: 4.0ms preprocess, 33.4ms inference, 2.2ms postprocess per image at shape (1, 3, 384, 640)\n"
     ]
    },
    {
     "name": "stderr",
     "output_type": "stream",
     "text": [
      " 69%|███████████████████████████████████████████████████████▎                        | 143/207 [00:22<00:11,  5.75it/s]"
     ]
    },
    {
     "name": "stdout",
     "output_type": "stream",
     "text": [
      "\n",
      "0: 384x640 1 apple_marina_bay, 1 art_sci_museum, 2 helix_bridges, 1 lv_marina_bay, 1 mbs, 1 mbs_hotel, 1 sg_river, 33.3ms\n",
      "Speed: 4.4ms preprocess, 33.3ms inference, 2.7ms postprocess per image at shape (1, 3, 384, 640)\n"
     ]
    },
    {
     "name": "stderr",
     "output_type": "stream",
     "text": [
      " 70%|███████████████████████████████████████████████████████▋                        | 144/207 [00:22<00:11,  5.70it/s]"
     ]
    },
    {
     "name": "stdout",
     "output_type": "stream",
     "text": [
      "\n",
      "0: 384x640 1 apple_marina_bay, 1 art_sci_museum, 2 helix_bridges, 1 lv_marina_bay, 1 mbs, 1 mbs_hotel, 1 sg_river, 33.2ms\n",
      "Speed: 4.2ms preprocess, 33.2ms inference, 2.4ms postprocess per image at shape (1, 3, 384, 640)\n"
     ]
    },
    {
     "name": "stderr",
     "output_type": "stream",
     "text": [
      " 70%|████████████████████████████████████████████████████████                        | 145/207 [00:22<00:10,  5.64it/s]"
     ]
    },
    {
     "name": "stdout",
     "output_type": "stream",
     "text": [
      "\n",
      "0: 384x640 1 apple_marina_bay, 1 art_sci_museum, 2 helix_bridges, 1 lv_marina_bay, 1 mbs, 1 mbs_hotel, 1 sg_river, 33.3ms\n",
      "Speed: 3.8ms preprocess, 33.3ms inference, 2.2ms postprocess per image at shape (1, 3, 384, 640)\n"
     ]
    },
    {
     "name": "stderr",
     "output_type": "stream",
     "text": [
      " 71%|████████████████████████████████████████████████████████▍                       | 146/207 [00:23<00:10,  5.61it/s]"
     ]
    },
    {
     "name": "stdout",
     "output_type": "stream",
     "text": [
      "\n",
      "0: 384x640 1 apple_marina_bay, 1 art_sci_museum, 2 helix_bridges, 1 lv_marina_bay, 1 mbs, 1 mbs_hotel, 1 sg_river, 34.8ms\n",
      "Speed: 3.7ms preprocess, 34.8ms inference, 2.2ms postprocess per image at shape (1, 3, 384, 640)\n"
     ]
    },
    {
     "name": "stderr",
     "output_type": "stream",
     "text": [
      " 71%|████████████████████████████████████████████████████████▊                       | 147/207 [00:23<00:10,  5.53it/s]"
     ]
    },
    {
     "name": "stdout",
     "output_type": "stream",
     "text": [
      "\n",
      "0: 384x640 1 apple_marina_bay, 1 art_sci_museum, 2 helix_bridges, 1 lv_marina_bay, 1 mbs, 1 mbs_hotel, 1 sg_river, 34.1ms\n",
      "Speed: 4.2ms preprocess, 34.1ms inference, 2.4ms postprocess per image at shape (1, 3, 384, 640)\n"
     ]
    },
    {
     "name": "stderr",
     "output_type": "stream",
     "text": [
      " 71%|█████████████████████████████████████████████████████████▏                      | 148/207 [00:23<00:10,  5.74it/s]"
     ]
    },
    {
     "name": "stdout",
     "output_type": "stream",
     "text": [
      "\n",
      "0: 384x640 1 apple_marina_bay, 1 art_sci_museum, 2 helix_bridges, 1 lv_marina_bay, 1 mbs, 1 mbs_hotel, 1 sg_river, 33.4ms\n",
      "Speed: 3.6ms preprocess, 33.4ms inference, 2.0ms postprocess per image at shape (1, 3, 384, 640)\n"
     ]
    },
    {
     "name": "stderr",
     "output_type": "stream",
     "text": [
      " 72%|█████████████████████████████████████████████████████████▌                      | 149/207 [00:23<00:09,  5.83it/s]"
     ]
    },
    {
     "name": "stdout",
     "output_type": "stream",
     "text": [
      "\n",
      "0: 384x640 1 apple_marina_bay, 1 art_sci_museum, 2 helix_bridges, 1 lv_marina_bay, 1 mbs, 1 mbs_hotel, 1 sg_river, 34.2ms\n",
      "Speed: 3.6ms preprocess, 34.2ms inference, 1.9ms postprocess per image at shape (1, 3, 384, 640)\n"
     ]
    },
    {
     "name": "stderr",
     "output_type": "stream",
     "text": [
      " 72%|█████████████████████████████████████████████████████████▉                      | 150/207 [00:23<00:09,  5.81it/s]"
     ]
    },
    {
     "name": "stdout",
     "output_type": "stream",
     "text": [
      "\n",
      "0: 384x640 1 apple_marina_bay, 1 art_sci_museum, 2 helix_bridges, 1 lv_marina_bay, 1 mbs, 1 mbs_hotel, 1 sg_river, 33.3ms\n",
      "Speed: 4.2ms preprocess, 33.3ms inference, 2.2ms postprocess per image at shape (1, 3, 384, 640)\n"
     ]
    },
    {
     "name": "stderr",
     "output_type": "stream",
     "text": [
      " 73%|██████████████████████████████████████████████████████████▎                     | 151/207 [00:23<00:09,  5.64it/s]"
     ]
    },
    {
     "name": "stdout",
     "output_type": "stream",
     "text": [
      "\n",
      "0: 384x640 1 apple_marina_bay, 1 art_sci_museum, 2 helix_bridges, 2 lv_marina_bays, 1 mbs, 1 mbs_hotel, 1 sg_river, 33.2ms\n",
      "Speed: 4.0ms preprocess, 33.2ms inference, 2.0ms postprocess per image at shape (1, 3, 384, 640)\n"
     ]
    },
    {
     "name": "stderr",
     "output_type": "stream",
     "text": [
      " 73%|██████████████████████████████████████████████████████████▋                     | 152/207 [00:24<00:09,  5.76it/s]"
     ]
    },
    {
     "name": "stdout",
     "output_type": "stream",
     "text": [
      "\n",
      "0: 384x640 1 apple_marina_bay, 1 art_sci_museum, 1 helix_bridge, 1 lv_marina_bay, 1 mbs, 1 mbs_hotel, 1 sg_river, 34.6ms\n",
      "Speed: 4.6ms preprocess, 34.6ms inference, 2.2ms postprocess per image at shape (1, 3, 384, 640)\n"
     ]
    },
    {
     "name": "stderr",
     "output_type": "stream",
     "text": [
      " 74%|███████████████████████████████████████████████████████████▏                    | 153/207 [00:24<00:09,  5.80it/s]"
     ]
    },
    {
     "name": "stdout",
     "output_type": "stream",
     "text": [
      "\n",
      "0: 384x640 1 apple_marina_bay, 1 art_sci_museum, 2 helix_bridges, 1 lv_marina_bay, 1 mbs, 1 mbs_hotel, 1 sg_river, 34.6ms\n",
      "Speed: 4.5ms preprocess, 34.6ms inference, 2.4ms postprocess per image at shape (1, 3, 384, 640)\n"
     ]
    },
    {
     "name": "stderr",
     "output_type": "stream",
     "text": [
      " 74%|███████████████████████████████████████████████████████████▌                    | 154/207 [00:24<00:08,  6.07it/s]"
     ]
    },
    {
     "name": "stdout",
     "output_type": "stream",
     "text": [
      "\n",
      "0: 384x640 1 apple_marina_bay, 1 art_sci_museum, 2 helix_bridges, 1 lv_marina_bay, 1 mbs, 1 mbs_hotel, 1 sg_river, 33.3ms\n",
      "Speed: 4.1ms preprocess, 33.3ms inference, 2.2ms postprocess per image at shape (1, 3, 384, 640)\n"
     ]
    },
    {
     "name": "stderr",
     "output_type": "stream",
     "text": [
      " 75%|███████████████████████████████████████████████████████████▉                    | 155/207 [00:24<00:08,  5.91it/s]"
     ]
    },
    {
     "name": "stdout",
     "output_type": "stream",
     "text": [
      "\n",
      "0: 384x640 1 apple_marina_bay, 1 art_sci_museum, 2 helix_bridges, 1 lv_marina_bay, 1 mbs, 1 mbs_hotel, 1 sg_river, 36.8ms\n",
      "Speed: 4.1ms preprocess, 36.8ms inference, 2.0ms postprocess per image at shape (1, 3, 384, 640)\n"
     ]
    },
    {
     "name": "stderr",
     "output_type": "stream",
     "text": [
      " 75%|████████████████████████████████████████████████████████████▎                   | 156/207 [00:24<00:08,  5.92it/s]"
     ]
    },
    {
     "name": "stdout",
     "output_type": "stream",
     "text": [
      "\n",
      "0: 384x640 1 apple_marina_bay, 1 art_sci_museum, 2 helix_bridges, 1 lv_marina_bay, 1 mbs, 1 mbs_hotel, 1 sg_river, 31.4ms\n",
      "Speed: 4.1ms preprocess, 31.4ms inference, 2.2ms postprocess per image at shape (1, 3, 384, 640)\n"
     ]
    },
    {
     "name": "stderr",
     "output_type": "stream",
     "text": [
      " 76%|████████████████████████████████████████████████████████████▋                   | 157/207 [00:24<00:08,  5.77it/s]"
     ]
    },
    {
     "name": "stdout",
     "output_type": "stream",
     "text": [
      "\n",
      "0: 384x640 1 apple_marina_bay, 1 art_sci_museum, 1 helix_bridge, 1 lv_marina_bay, 1 mbs, 1 mbs_hotel, 1 sg_river, 31.5ms\n",
      "Speed: 3.8ms preprocess, 31.5ms inference, 2.3ms postprocess per image at shape (1, 3, 384, 640)\n"
     ]
    },
    {
     "name": "stderr",
     "output_type": "stream",
     "text": [
      " 76%|█████████████████████████████████████████████████████████████                   | 158/207 [00:25<00:08,  5.74it/s]"
     ]
    },
    {
     "name": "stdout",
     "output_type": "stream",
     "text": [
      "\n",
      "0: 384x640 1 apple_marina_bay, 1 art_sci_museum, 1 helix_bridge, 1 mbs, 1 mbs_hotel, 1 sg_river, 31.5ms\n",
      "Speed: 4.1ms preprocess, 31.5ms inference, 2.2ms postprocess per image at shape (1, 3, 384, 640)\n"
     ]
    },
    {
     "name": "stderr",
     "output_type": "stream",
     "text": [
      " 77%|█████████████████████████████████████████████████████████████▍                  | 159/207 [00:25<00:08,  5.82it/s]"
     ]
    },
    {
     "name": "stdout",
     "output_type": "stream",
     "text": [
      "\n",
      "0: 384x640 1 apple_marina_bay, 1 art_sci_museum, 1 helix_bridge, 1 lv_marina_bay, 1 mbs, 1 mbs_hotel, 1 sg_river, 31.3ms\n",
      "Speed: 4.2ms preprocess, 31.3ms inference, 2.4ms postprocess per image at shape (1, 3, 384, 640)\n"
     ]
    },
    {
     "name": "stderr",
     "output_type": "stream",
     "text": [
      " 77%|█████████████████████████████████████████████████████████████▊                  | 160/207 [00:25<00:07,  6.21it/s]"
     ]
    },
    {
     "name": "stdout",
     "output_type": "stream",
     "text": [
      "\n",
      "0: 384x640 1 apple_marina_bay, 1 art_sci_museum, 1 helix_bridge, 1 lv_marina_bay, 1 mbs, 1 mbs_hotel, 1 sg_river, 32.6ms\n",
      "Speed: 3.9ms preprocess, 32.6ms inference, 2.3ms postprocess per image at shape (1, 3, 384, 640)\n"
     ]
    },
    {
     "name": "stderr",
     "output_type": "stream",
     "text": [
      " 78%|██████████████████████████████████████████████████████████████▏                 | 161/207 [00:25<00:07,  6.09it/s]"
     ]
    },
    {
     "name": "stdout",
     "output_type": "stream",
     "text": [
      "\n",
      "0: 384x640 1 apple_marina_bay, 1 art_sci_museum, 1 helix_bridge, 1 lv_marina_bay, 1 mbs, 1 mbs_hotel, 1 sg_river, 31.8ms\n",
      "Speed: 3.3ms preprocess, 31.8ms inference, 2.4ms postprocess per image at shape (1, 3, 384, 640)\n"
     ]
    },
    {
     "name": "stderr",
     "output_type": "stream",
     "text": [
      " 78%|██████████████████████████████████████████████████████████████▌                 | 162/207 [00:25<00:07,  5.98it/s]"
     ]
    },
    {
     "name": "stdout",
     "output_type": "stream",
     "text": [
      "\n",
      "0: 384x640 1 apple_marina_bay, 1 art_sci_museum, 2 helix_bridges, 1 mbs, 1 mbs_hotel, 1 sg_river, 30.1ms\n",
      "Speed: 2.9ms preprocess, 30.1ms inference, 1.9ms postprocess per image at shape (1, 3, 384, 640)\n"
     ]
    },
    {
     "name": "stderr",
     "output_type": "stream",
     "text": [
      " 79%|██████████████████████████████████████████████████████████████▉                 | 163/207 [00:25<00:07,  6.10it/s]"
     ]
    },
    {
     "name": "stdout",
     "output_type": "stream",
     "text": [
      "\n",
      "0: 384x640 1 apple_marina_bay, 1 art_sci_museum, 2 helix_bridges, 1 lv_marina_bay, 1 mbs, 1 mbs_hotel, 1 sg_river, 30.4ms\n",
      "Speed: 4.0ms preprocess, 30.4ms inference, 5.0ms postprocess per image at shape (1, 3, 384, 640)\n"
     ]
    },
    {
     "name": "stderr",
     "output_type": "stream",
     "text": [
      " 79%|███████████████████████████████████████████████████████████████▍                | 164/207 [00:26<00:07,  5.81it/s]"
     ]
    },
    {
     "name": "stdout",
     "output_type": "stream",
     "text": [
      "\n",
      "0: 384x640 1 apple_marina_bay, 1 art_sci_museum, 1 helix_bridge, 1 mbs, 1 mbs_hotel, 1 sg_river, 31.5ms\n",
      "Speed: 4.8ms preprocess, 31.5ms inference, 2.7ms postprocess per image at shape (1, 3, 384, 640)\n"
     ]
    },
    {
     "name": "stderr",
     "output_type": "stream",
     "text": [
      " 80%|███████████████████████████████████████████████████████████████▊                | 165/207 [00:26<00:07,  5.76it/s]"
     ]
    },
    {
     "name": "stdout",
     "output_type": "stream",
     "text": [
      "\n",
      "0: 384x640 1 apple_marina_bay, 1 art_sci_museum, 1 helix_bridge, 1 lv_marina_bay, 1 mbs, 1 mbs_hotel, 1 sg_river, 30.8ms\n",
      "Speed: 5.0ms preprocess, 30.8ms inference, 2.4ms postprocess per image at shape (1, 3, 384, 640)\n"
     ]
    },
    {
     "name": "stderr",
     "output_type": "stream",
     "text": [
      " 80%|████████████████████████████████████████████████████████████████▏               | 166/207 [00:26<00:06,  6.03it/s]"
     ]
    },
    {
     "name": "stdout",
     "output_type": "stream",
     "text": [
      "\n",
      "0: 384x640 1 apple_marina_bay, 1 art_sci_museum, 1 helix_bridge, 1 lv_marina_bay, 1 mbs, 1 mbs_hotel, 1 sg_river, 30.7ms\n",
      "Speed: 4.3ms preprocess, 30.7ms inference, 2.4ms postprocess per image at shape (1, 3, 384, 640)\n"
     ]
    },
    {
     "name": "stderr",
     "output_type": "stream",
     "text": [
      " 81%|████████████████████████████████████████████████████████████████▌               | 167/207 [00:26<00:06,  5.98it/s]"
     ]
    },
    {
     "name": "stdout",
     "output_type": "stream",
     "text": [
      "\n",
      "0: 384x640 1 apple_marina_bay, 1 art_sci_museum, 1 helix_bridge, 1 lv_marina_bay, 1 mbs, 1 mbs_hotel, 1 sg_river, 30.6ms\n",
      "Speed: 4.0ms preprocess, 30.6ms inference, 2.3ms postprocess per image at shape (1, 3, 384, 640)\n"
     ]
    },
    {
     "name": "stderr",
     "output_type": "stream",
     "text": [
      " 81%|████████████████████████████████████████████████████████████████▉               | 168/207 [00:26<00:06,  6.02it/s]"
     ]
    },
    {
     "name": "stdout",
     "output_type": "stream",
     "text": [
      "\n",
      "0: 384x640 1 apple_marina_bay, 1 art_sci_museum, 1 helix_bridge, 1 lv_marina_bay, 1 mbs, 1 mbs_hotel, 1 sg_river, 30.6ms\n",
      "Speed: 4.7ms preprocess, 30.6ms inference, 2.3ms postprocess per image at shape (1, 3, 384, 640)\n"
     ]
    },
    {
     "name": "stderr",
     "output_type": "stream",
     "text": [
      " 82%|█████████████████████████████████████████████████████████████████▎              | 169/207 [00:26<00:06,  5.83it/s]"
     ]
    },
    {
     "name": "stdout",
     "output_type": "stream",
     "text": [
      "\n",
      "0: 384x640 1 apple_marina_bay, 1 art_sci_museum, 1 helix_bridge, 1 lv_marina_bay, 1 mbs, 1 mbs_hotel, 1 sg_river, 32.1ms\n",
      "Speed: 4.0ms preprocess, 32.1ms inference, 2.6ms postprocess per image at shape (1, 3, 384, 640)\n"
     ]
    },
    {
     "name": "stderr",
     "output_type": "stream",
     "text": [
      " 82%|█████████████████████████████████████████████████████████████████▋              | 170/207 [00:27<00:06,  5.95it/s]"
     ]
    },
    {
     "name": "stdout",
     "output_type": "stream",
     "text": [
      "\n",
      "0: 384x640 1 apple_marina_bay, 1 art_sci_museum, 1 helix_bridge, 1 mbs, 1 mbs_hotel, 1 sg_river, 31.0ms\n",
      "Speed: 4.2ms preprocess, 31.0ms inference, 2.3ms postprocess per image at shape (1, 3, 384, 640)\n"
     ]
    },
    {
     "name": "stderr",
     "output_type": "stream",
     "text": [
      " 83%|██████████████████████████████████████████████████████████████████              | 171/207 [00:27<00:06,  5.88it/s]"
     ]
    },
    {
     "name": "stdout",
     "output_type": "stream",
     "text": [
      "\n",
      "0: 384x640 1 apple_marina_bay, 1 art_sci_museum, 1 helix_bridge, 1 mbs, 1 mbs_hotel, 1 sg_river, 31.0ms\n",
      "Speed: 4.0ms preprocess, 31.0ms inference, 2.2ms postprocess per image at shape (1, 3, 384, 640)\n"
     ]
    },
    {
     "name": "stderr",
     "output_type": "stream",
     "text": [
      " 83%|██████████████████████████████████████████████████████████████████▍             | 172/207 [00:27<00:05,  5.86it/s]"
     ]
    },
    {
     "name": "stdout",
     "output_type": "stream",
     "text": [
      "\n",
      "0: 384x640 1 apple_marina_bay, 1 art_sci_museum, 1 helix_bridge, 1 mbs, 1 mbs_hotel, 1 sg_river, 31.0ms\n",
      "Speed: 4.6ms preprocess, 31.0ms inference, 1.9ms postprocess per image at shape (1, 3, 384, 640)\n"
     ]
    },
    {
     "name": "stderr",
     "output_type": "stream",
     "text": [
      " 84%|██████████████████████████████████████████████████████████████████▊             | 173/207 [00:27<00:05,  5.98it/s]"
     ]
    },
    {
     "name": "stdout",
     "output_type": "stream",
     "text": [
      "\n",
      "0: 384x640 1 apple_marina_bay, 1 art_sci_museum, 1 helix_bridge, 1 lv_marina_bay, 1 mbs, 1 mbs_hotel, 1 sg_river, 31.5ms\n",
      "Speed: 4.1ms preprocess, 31.5ms inference, 2.2ms postprocess per image at shape (1, 3, 384, 640)\n"
     ]
    },
    {
     "name": "stderr",
     "output_type": "stream",
     "text": [
      " 84%|███████████████████████████████████████████████████████████████████▏            | 174/207 [00:27<00:05,  6.04it/s]"
     ]
    },
    {
     "name": "stdout",
     "output_type": "stream",
     "text": [
      "\n",
      "0: 384x640 1 apple_marina_bay, 1 art_sci_museum, 1 helix_bridge, 1 mbs, 1 mbs_hotel, 1 sg_river, 32.1ms\n",
      "Speed: 4.1ms preprocess, 32.1ms inference, 4.2ms postprocess per image at shape (1, 3, 384, 640)\n"
     ]
    },
    {
     "name": "stderr",
     "output_type": "stream",
     "text": [
      " 85%|███████████████████████████████████████████████████████████████████▋            | 175/207 [00:27<00:05,  5.77it/s]"
     ]
    },
    {
     "name": "stdout",
     "output_type": "stream",
     "text": [
      "\n",
      "0: 384x640 1 apple_marina_bay, 1 art_sci_museum, 1 helix_bridge, 1 lv_marina_bay, 1 mbs, 1 mbs_hotel, 1 sg_river, 31.0ms\n",
      "Speed: 4.7ms preprocess, 31.0ms inference, 3.0ms postprocess per image at shape (1, 3, 384, 640)\n"
     ]
    },
    {
     "name": "stderr",
     "output_type": "stream",
     "text": [
      " 85%|████████████████████████████████████████████████████████████████████            | 176/207 [00:28<00:05,  5.81it/s]"
     ]
    },
    {
     "name": "stdout",
     "output_type": "stream",
     "text": [
      "\n",
      "0: 384x640 1 apple_marina_bay, 1 art_sci_museum, 1 helix_bridge, 1 lv_marina_bay, 1 mbs, 1 mbs_hotel, 1 sg_river, 31.0ms\n",
      "Speed: 4.1ms preprocess, 31.0ms inference, 2.5ms postprocess per image at shape (1, 3, 384, 640)\n"
     ]
    },
    {
     "name": "stderr",
     "output_type": "stream",
     "text": [
      " 86%|████████████████████████████████████████████████████████████████████▍           | 177/207 [00:28<00:05,  5.73it/s]"
     ]
    },
    {
     "name": "stdout",
     "output_type": "stream",
     "text": [
      "\n",
      "0: 384x640 1 apple_marina_bay, 1 art_sci_museum, 1 helix_bridge, 1 lv_marina_bay, 1 mbs, 1 mbs_hotel, 1 sg_river, 29.8ms\n",
      "Speed: 4.8ms preprocess, 29.8ms inference, 2.2ms postprocess per image at shape (1, 3, 384, 640)\n"
     ]
    },
    {
     "name": "stderr",
     "output_type": "stream",
     "text": [
      " 86%|████████████████████████████████████████████████████████████████████▊           | 178/207 [00:28<00:04,  6.13it/s]"
     ]
    },
    {
     "name": "stdout",
     "output_type": "stream",
     "text": [
      "\n",
      "0: 384x640 1 apple_marina_bay, 1 art_sci_museum, 1 helix_bridge, 1 lv_marina_bay, 1 mbs, 1 mbs_hotel, 1 sg_river, 30.6ms\n",
      "Speed: 4.1ms preprocess, 30.6ms inference, 1.9ms postprocess per image at shape (1, 3, 384, 640)\n"
     ]
    },
    {
     "name": "stderr",
     "output_type": "stream",
     "text": [
      " 86%|█████████████████████████████████████████████████████████████████████▏          | 179/207 [00:28<00:04,  6.12it/s]"
     ]
    },
    {
     "name": "stdout",
     "output_type": "stream",
     "text": [
      "\n",
      "0: 384x640 1 apple_marina_bay, 1 art_sci_museum, 1 helix_bridge, 1 lv_marina_bay, 1 mbs, 1 mbs_hotel, 1 sg_river, 29.8ms\n",
      "Speed: 3.8ms preprocess, 29.8ms inference, 2.3ms postprocess per image at shape (1, 3, 384, 640)\n"
     ]
    },
    {
     "name": "stderr",
     "output_type": "stream",
     "text": [
      " 87%|█████████████████████████████████████████████████████████████████████▌          | 180/207 [00:28<00:04,  6.16it/s]"
     ]
    },
    {
     "name": "stdout",
     "output_type": "stream",
     "text": [
      "\n",
      "0: 384x640 1 apple_marina_bay, 1 art_sci_museum, 1 helix_bridge, 1 lv_marina_bay, 1 mbs, 1 mbs_hotel, 1 sg_river, 29.8ms\n",
      "Speed: 4.1ms preprocess, 29.8ms inference, 1.9ms postprocess per image at shape (1, 3, 384, 640)\n"
     ]
    },
    {
     "name": "stderr",
     "output_type": "stream",
     "text": [
      " 87%|█████████████████████████████████████████████████████████████████████▉          | 181/207 [00:28<00:04,  6.09it/s]"
     ]
    },
    {
     "name": "stdout",
     "output_type": "stream",
     "text": [
      "\n",
      "0: 384x640 1 apple_marina_bay, 1 art_sci_museum, 1 helix_bridge, 1 lv_marina_bay, 1 mbs, 1 mbs_hotel, 1 sg_river, 29.5ms\n",
      "Speed: 3.9ms preprocess, 29.5ms inference, 2.3ms postprocess per image at shape (1, 3, 384, 640)\n"
     ]
    },
    {
     "name": "stderr",
     "output_type": "stream",
     "text": [
      " 88%|██████████████████████████████████████████████████████████████████████▎         | 182/207 [00:29<00:04,  6.02it/s]"
     ]
    },
    {
     "name": "stdout",
     "output_type": "stream",
     "text": [
      "\n",
      "0: 384x640 1 apple_marina_bay, 1 art_sci_museum, 1 helix_bridge, 1 lv_marina_bay, 1 mbs, 1 mbs_hotel, 1 sg_river, 29.3ms\n",
      "Speed: 3.4ms preprocess, 29.3ms inference, 2.4ms postprocess per image at shape (1, 3, 384, 640)\n"
     ]
    },
    {
     "name": "stderr",
     "output_type": "stream",
     "text": [
      " 88%|██████████████████████████████████████████████████████████████████████▋         | 183/207 [00:29<00:04,  5.87it/s]"
     ]
    },
    {
     "name": "stdout",
     "output_type": "stream",
     "text": [
      "\n",
      "0: 384x640 1 apple_marina_bay, 1 art_sci_museum, 1 helix_bridge, 1 lv_marina_bay, 1 mbs, 1 mbs_hotel, 1 sg_river, 35.8ms\n",
      "Speed: 4.1ms preprocess, 35.8ms inference, 2.2ms postprocess per image at shape (1, 3, 384, 640)\n"
     ]
    },
    {
     "name": "stderr",
     "output_type": "stream",
     "text": [
      " 89%|███████████████████████████████████████████████████████████████████████         | 184/207 [00:29<00:03,  6.03it/s]"
     ]
    },
    {
     "name": "stdout",
     "output_type": "stream",
     "text": [
      "\n",
      "0: 384x640 1 apple_marina_bay, 1 art_sci_museum, 1 helix_bridge, 1 lv_marina_bay, 1 mbs, 1 mbs_hotel, 1 sg_river, 28.3ms\n",
      "Speed: 4.1ms preprocess, 28.3ms inference, 2.2ms postprocess per image at shape (1, 3, 384, 640)\n"
     ]
    },
    {
     "name": "stderr",
     "output_type": "stream",
     "text": [
      " 89%|███████████████████████████████████████████████████████████████████████▍        | 185/207 [00:29<00:03,  6.18it/s]"
     ]
    },
    {
     "name": "stdout",
     "output_type": "stream",
     "text": [
      "\n",
      "0: 384x640 1 apple_marina_bay, 1 art_sci_museum, 1 helix_bridge, 1 mbs, 1 mbs_hotel, 1 sg_river, 28.4ms\n",
      "Speed: 4.1ms preprocess, 28.4ms inference, 2.2ms postprocess per image at shape (1, 3, 384, 640)\n"
     ]
    },
    {
     "name": "stderr",
     "output_type": "stream",
     "text": [
      " 90%|███████████████████████████████████████████████████████████████████████▉        | 186/207 [00:29<00:03,  6.15it/s]"
     ]
    },
    {
     "name": "stdout",
     "output_type": "stream",
     "text": [
      "\n",
      "0: 384x640 1 apple_marina_bay, 1 art_sci_museum, 1 helix_bridge, 1 lv_marina_bay, 1 mbs, 1 mbs_hotel, 1 sg_river, 28.6ms\n",
      "Speed: 4.0ms preprocess, 28.6ms inference, 2.2ms postprocess per image at shape (1, 3, 384, 640)\n"
     ]
    },
    {
     "name": "stderr",
     "output_type": "stream",
     "text": [
      " 90%|████████████████████████████████████████████████████████████████████████▎       | 187/207 [00:29<00:03,  5.97it/s]"
     ]
    },
    {
     "name": "stdout",
     "output_type": "stream",
     "text": [
      "\n",
      "0: 384x640 1 apple_marina_bay, 1 art_sci_museum, 1 helix_bridge, 1 lv_marina_bay, 1 mbs, 1 mbs_hotel, 1 sg_river, 28.5ms\n",
      "Speed: 4.3ms preprocess, 28.5ms inference, 2.2ms postprocess per image at shape (1, 3, 384, 640)\n"
     ]
    },
    {
     "name": "stderr",
     "output_type": "stream",
     "text": [
      " 91%|████████████████████████████████████████████████████████████████████████▋       | 188/207 [00:30<00:03,  5.90it/s]"
     ]
    },
    {
     "name": "stdout",
     "output_type": "stream",
     "text": [
      "\n",
      "0: 384x640 1 apple_marina_bay, 1 art_sci_museum, 1 helix_bridge, 1 mbs, 1 mbs_hotel, 1 sg_river, 28.8ms\n",
      "Speed: 3.5ms preprocess, 28.8ms inference, 2.3ms postprocess per image at shape (1, 3, 384, 640)\n"
     ]
    },
    {
     "name": "stderr",
     "output_type": "stream",
     "text": [
      " 91%|█████████████████████████████████████████████████████████████████████████       | 189/207 [00:30<00:03,  5.75it/s]"
     ]
    },
    {
     "name": "stdout",
     "output_type": "stream",
     "text": [
      "\n",
      "0: 384x640 1 apple_marina_bay, 1 art_sci_museum, 1 helix_bridge, 1 lv_marina_bay, 1 mbs, 1 mbs_hotel, 1 sg_river, 28.8ms\n",
      "Speed: 3.8ms preprocess, 28.8ms inference, 2.3ms postprocess per image at shape (1, 3, 384, 640)\n"
     ]
    },
    {
     "name": "stderr",
     "output_type": "stream",
     "text": [
      " 92%|█████████████████████████████████████████████████████████████████████████▍      | 190/207 [00:30<00:03,  5.55it/s]"
     ]
    },
    {
     "name": "stdout",
     "output_type": "stream",
     "text": [
      "\n",
      "0: 384x640 1 apple_marina_bay, 1 art_sci_museum, 1 helix_bridge, 1 lv_marina_bay, 1 mbs, 1 mbs_hotel, 1 sg_river, 34.4ms\n",
      "Speed: 4.0ms preprocess, 34.4ms inference, 3.0ms postprocess per image at shape (1, 3, 384, 640)\n"
     ]
    },
    {
     "name": "stderr",
     "output_type": "stream",
     "text": [
      " 92%|█████████████████████████████████████████████████████████████████████████▊      | 191/207 [00:30<00:02,  5.40it/s]"
     ]
    },
    {
     "name": "stdout",
     "output_type": "stream",
     "text": [
      "\n",
      "0: 384x640 1 apple_marina_bay, 1 art_sci_museum, 1 helix_bridge, 1 lv_marina_bay, 1 mbs, 1 mbs_hotel, 1 sg_river, 30.9ms\n",
      "Speed: 5.3ms preprocess, 30.9ms inference, 2.5ms postprocess per image at shape (1, 3, 384, 640)\n"
     ]
    },
    {
     "name": "stderr",
     "output_type": "stream",
     "text": [
      " 93%|██████████████████████████████████████████████████████████████████████████▏     | 192/207 [00:30<00:02,  5.46it/s]"
     ]
    },
    {
     "name": "stdout",
     "output_type": "stream",
     "text": [
      "\n",
      "0: 384x640 1 apple_marina_bay, 1 art_sci_museum, 1 helix_bridge, 1 lv_marina_bay, 1 mbs, 1 mbs_hotel, 1 sg_river, 28.5ms\n",
      "Speed: 4.1ms preprocess, 28.5ms inference, 2.3ms postprocess per image at shape (1, 3, 384, 640)\n"
     ]
    },
    {
     "name": "stderr",
     "output_type": "stream",
     "text": [
      " 93%|██████████████████████████████████████████████████████████████████████████▌     | 193/207 [00:31<00:02,  5.62it/s]"
     ]
    },
    {
     "name": "stdout",
     "output_type": "stream",
     "text": [
      "\n",
      "0: 384x640 1 apple_marina_bay, 1 art_sci_museum, 1 helix_bridge, 1 lv_marina_bay, 1 mbs, 1 mbs_hotel, 1 sg_river, 30.3ms\n",
      "Speed: 3.9ms preprocess, 30.3ms inference, 2.2ms postprocess per image at shape (1, 3, 384, 640)\n"
     ]
    },
    {
     "name": "stderr",
     "output_type": "stream",
     "text": [
      " 94%|██████████████████████████████████████████████████████████████████████████▉     | 194/207 [00:31<00:02,  5.71it/s]"
     ]
    },
    {
     "name": "stdout",
     "output_type": "stream",
     "text": [
      "\n",
      "0: 384x640 1 apple_marina_bay, 1 art_sci_museum, 1 helix_bridge, 1 lv_marina_bay, 1 mbs, 1 mbs_hotel, 1 sg_river, 30.5ms\n",
      "Speed: 3.9ms preprocess, 30.5ms inference, 2.1ms postprocess per image at shape (1, 3, 384, 640)\n"
     ]
    },
    {
     "name": "stderr",
     "output_type": "stream",
     "text": [
      " 94%|███████████████████████████████████████████████████████████████████████████▎    | 195/207 [00:31<00:02,  5.56it/s]"
     ]
    },
    {
     "name": "stdout",
     "output_type": "stream",
     "text": [
      "\n",
      "0: 384x640 1 apple_marina_bay, 1 art_sci_museum, 1 helix_bridge, 1 lv_marina_bay, 1 mbs, 1 mbs_hotel, 1 sg_river, 31.0ms\n",
      "Speed: 5.1ms preprocess, 31.0ms inference, 2.3ms postprocess per image at shape (1, 3, 384, 640)\n"
     ]
    },
    {
     "name": "stderr",
     "output_type": "stream",
     "text": [
      " 95%|███████████████████████████████████████████████████████████████████████████▋    | 196/207 [00:31<00:02,  5.48it/s]"
     ]
    },
    {
     "name": "stdout",
     "output_type": "stream",
     "text": [
      "\n",
      "0: 384x640 1 apple_marina_bay, 1 art_sci_museum, 1 helix_bridge, 1 lv_marina_bay, 1 mbs, 1 mbs_hotel, 1 sg_river, 30.6ms\n",
      "Speed: 3.6ms preprocess, 30.6ms inference, 3.0ms postprocess per image at shape (1, 3, 384, 640)\n"
     ]
    },
    {
     "name": "stderr",
     "output_type": "stream",
     "text": [
      " 95%|████████████████████████████████████████████████████████████████████████████▏   | 197/207 [00:31<00:01,  5.41it/s]"
     ]
    },
    {
     "name": "stdout",
     "output_type": "stream",
     "text": [
      "\n",
      "0: 384x640 1 apple_marina_bay, 1 art_sci_museum, 1 helix_bridge, 1 lv_marina_bay, 1 mbs, 1 mbs_hotel, 1 sg_river, 30.5ms\n",
      "Speed: 3.3ms preprocess, 30.5ms inference, 1.9ms postprocess per image at shape (1, 3, 384, 640)\n"
     ]
    },
    {
     "name": "stderr",
     "output_type": "stream",
     "text": [
      " 96%|████████████████████████████████████████████████████████████████████████████▌   | 198/207 [00:31<00:01,  5.66it/s]"
     ]
    },
    {
     "name": "stdout",
     "output_type": "stream",
     "text": [
      "\n",
      "0: 384x640 1 apple_marina_bay, 1 art_sci_museum, 1 helix_bridge, 1 lv_marina_bay, 1 mbs, 1 mbs_hotel, 1 sg_river, 31.2ms\n",
      "Speed: 3.4ms preprocess, 31.2ms inference, 2.0ms postprocess per image at shape (1, 3, 384, 640)\n"
     ]
    },
    {
     "name": "stderr",
     "output_type": "stream",
     "text": [
      " 96%|████████████████████████████████████████████████████████████████████████████▉   | 199/207 [00:32<00:01,  5.83it/s]"
     ]
    },
    {
     "name": "stdout",
     "output_type": "stream",
     "text": [
      "\n",
      "0: 384x640 1 apple_marina_bay, 1 art_sci_museum, 1 helix_bridge, 1 lv_marina_bay, 1 mbs, 1 mbs_hotel, 1 sg_river, 31.1ms\n",
      "Speed: 3.7ms preprocess, 31.1ms inference, 2.0ms postprocess per image at shape (1, 3, 384, 640)\n"
     ]
    },
    {
     "name": "stderr",
     "output_type": "stream",
     "text": [
      " 97%|█████████████████████████████████████████████████████████████████████████████▎  | 200/207 [00:32<00:01,  5.95it/s]"
     ]
    },
    {
     "name": "stdout",
     "output_type": "stream",
     "text": [
      "\n",
      "0: 384x640 1 apple_marina_bay, 1 art_sci_museum, 1 helix_bridge, 1 lv_marina_bay, 1 mbs, 1 mbs_hotel, 1 sg_river, 34.3ms\n",
      "Speed: 4.1ms preprocess, 34.3ms inference, 2.3ms postprocess per image at shape (1, 3, 384, 640)\n"
     ]
    },
    {
     "name": "stderr",
     "output_type": "stream",
     "text": [
      " 97%|█████████████████████████████████████████████████████████████████████████████▋  | 201/207 [00:32<00:00,  6.05it/s]"
     ]
    },
    {
     "name": "stdout",
     "output_type": "stream",
     "text": [
      "\n",
      "0: 384x640 1 apple_marina_bay, 1 art_sci_museum, 1 helix_bridge, 1 lv_marina_bay, 1 mbs, 1 mbs_hotel, 1 sg_river, 32.5ms\n",
      "Speed: 4.2ms preprocess, 32.5ms inference, 2.3ms postprocess per image at shape (1, 3, 384, 640)\n"
     ]
    },
    {
     "name": "stderr",
     "output_type": "stream",
     "text": [
      " 98%|██████████████████████████████████████████████████████████████████████████████  | 202/207 [00:32<00:00,  5.82it/s]"
     ]
    },
    {
     "name": "stdout",
     "output_type": "stream",
     "text": [
      "\n",
      "0: 384x640 1 apple_marina_bay, 1 art_sci_museum, 1 helix_bridge, 1 lv_marina_bay, 1 mbs, 1 mbs_hotel, 1 sg_river, 32.3ms\n",
      "Speed: 4.3ms preprocess, 32.3ms inference, 2.2ms postprocess per image at shape (1, 3, 384, 640)\n"
     ]
    },
    {
     "name": "stderr",
     "output_type": "stream",
     "text": [
      " 98%|██████████████████████████████████████████████████████████████████████████████▍ | 203/207 [00:32<00:00,  5.68it/s]"
     ]
    },
    {
     "name": "stdout",
     "output_type": "stream",
     "text": [
      "\n",
      "0: 384x640 1 apple_marina_bay, 1 art_sci_museum, 1 helix_bridge, 1 lv_marina_bay, 1 mbs, 1 mbs_hotel, 1 sg_river, 32.7ms\n",
      "Speed: 4.3ms preprocess, 32.7ms inference, 2.4ms postprocess per image at shape (1, 3, 384, 640)\n"
     ]
    },
    {
     "name": "stderr",
     "output_type": "stream",
     "text": [
      " 99%|██████████████████████████████████████████████████████████████████████████████▊ | 204/207 [00:32<00:00,  5.55it/s]"
     ]
    },
    {
     "name": "stdout",
     "output_type": "stream",
     "text": [
      "\n",
      "0: 384x640 1 apple_marina_bay, 1 art_sci_museum, 1 helix_bridge, 1 lv_marina_bay, 1 mbs, 1 mbs_hotel, 1 sg_river, 33.4ms\n",
      "Speed: 4.1ms preprocess, 33.4ms inference, 2.4ms postprocess per image at shape (1, 3, 384, 640)\n"
     ]
    },
    {
     "name": "stderr",
     "output_type": "stream",
     "text": [
      " 99%|███████████████████████████████████████████████████████████████████████████████▏| 205/207 [00:33<00:00,  5.63it/s]"
     ]
    },
    {
     "name": "stdout",
     "output_type": "stream",
     "text": [
      "\n",
      "0: 384x640 1 apple_marina_bay, 1 art_sci_museum, 1 helix_bridge, 1 lv_marina_bay, 1 mbs, 1 mbs_hotel, 1 sg_river, 35.7ms\n",
      "Speed: 4.3ms preprocess, 35.7ms inference, 3.3ms postprocess per image at shape (1, 3, 384, 640)\n"
     ]
    },
    {
     "name": "stderr",
     "output_type": "stream",
     "text": [
      "100%|███████████████████████████████████████████████████████████████████████████████▌| 206/207 [00:33<00:00,  5.53it/s]"
     ]
    },
    {
     "name": "stdout",
     "output_type": "stream",
     "text": [
      "\n",
      "0: 384x640 1 apple_marina_bay, 1 art_sci_museum, 1 helix_bridge, 1 lv_marina_bay, 1 mbs, 1 mbs_hotel, 1 sg_river, 36.6ms\n",
      "Speed: 4.2ms preprocess, 36.6ms inference, 5.1ms postprocess per image at shape (1, 3, 384, 640)\n"
     ]
    },
    {
     "name": "stderr",
     "output_type": "stream",
     "text": [
      "100%|████████████████████████████████████████████████████████████████████████████████| 207/207 [00:33<00:00,  6.18it/s]\n"
     ]
    }
   ],
   "source": [
    "box_annotator = sv.BoxAnnotator()\n",
    "dot_annotator = sv.DotAnnotator(\n",
    "    radius=15,\n",
    "    outline_thickness=5,\n",
    "    outline_color=sv.Color.from_hex('#FFFFFF')\n",
    ")\n",
    "\n",
    "rich_label_annotator = sv.RichLabelAnnotator(\n",
    "    font_path=\"<TTF_FONT_PATH>\",\n",
    "    font_size=35,\n",
    "    text_position=sv.Position.TOP_CENTER,\n",
    "    text_padding=12,\n",
    "    border_radius=15,\n",
    "    smart_position=True\n",
    ")\n",
    "\n",
    "video_info = sv.VideoInfo.from_video_path(SOURCE_VIDEO_PATH)\n",
    "print(video_info)\n",
    "video_sink = sv.VideoSink(TARGET_VIDEO_PATH, video_info=video_info)\n",
    "frame_generator = sv.get_video_frames_generator(SOURCE_VIDEO_PATH)\n",
    "\n",
    "frame_skip = 40\n",
    "frame_count = 0\n",
    "\n",
    "with video_sink:\n",
    "    for frame in tqdm(frame_generator, total=video_info.total_frames):\n",
    "        if frame_count % frame_skip == 0:            \n",
    "            results = model(frame)[0]\n",
    "            # print(results.boxes)\n",
    "            # plt.imshow(results.orig_img)\n",
    "            detections = sv.Detections.from_ultralytics(results)\n",
    "            detections = detections.with_nms(threshold=0.7, class_agnostic=False)\n",
    "\n",
    "            # To pick the highest confidence per class. Only 1 detection per frame.\n",
    "            # Convert detections into a structured dictionary for processing.\n",
    "            detections_by_class = {}\n",
    "            for i in range(len(detections.class_id)):\n",
    "                class_id = detections.class_id[i]\n",
    "                if class_id not in detections_by_class or detections.confidence[i] > detections_by_class[class_id]['confidence']:\n",
    "                    detections_by_class[class_id] = {\n",
    "                        'xyxy': detections.xyxy[i],\n",
    "                        'confidence': detections.confidence[i],\n",
    "                        'class_id': class_id,\n",
    "                        'class_name': detections.data['class_name'][i]\n",
    "                    }\n",
    "            \n",
    "            # Create new filtered detections\n",
    "            filtered_xyxy = np.array([det['xyxy'] for det in detections_by_class.values()])\n",
    "            filtered_confidence = np.array([det['confidence'] for det in detections_by_class.values()])\n",
    "            filtered_class_id = np.array([det['class_id'] for det in detections_by_class.values()])\n",
    "            filtered_class_name = np.array([det['class_name'] for det in detections_by_class.values()])\n",
    "            \n",
    "            # Construct the filtered detections object\n",
    "            filtered_detections = sv.Detections(\n",
    "                xyxy=filtered_xyxy,\n",
    "                confidence=filtered_confidence,\n",
    "                class_id=filtered_class_id,\n",
    "                data={'class_name': filtered_class_name}\n",
    "            )\n",
    "            \n",
    "            # labels = [\n",
    "            #     f\"{class_name}  {confidence:.2f}\"\n",
    "            #     for class_name, confidence\n",
    "            #     in zip(detections['class_name'], detections.confidence)\n",
    "            # ]\n",
    "\n",
    "            labels = [\n",
    "                f\"{class_name}  {confidence:.2f}\"\n",
    "                for class_name, confidence\n",
    "                in zip(filtered_detections.data['class_name'], filtered_detections.confidence)\n",
    "            ]            \n",
    "            \n",
    "            annotated_frame = frame.copy()\n",
    "            annotated_frame = dot_annotator.annotate(annotated_frame, filtered_detections)\n",
    "            annotated_frame = dot_annotator.annotate(annotated_frame, filtered_detections)\n",
    "            annotated_frame = rich_label_annotator.annotate(annotated_frame, filtered_detections, labels=labels)\n",
    "            video_sink.write_frame(annotated_frame)\n",
    "        frame += 1\n",
    "\n",
    "# sv.plot_image(annotated_frame)\n",
    "\n"
   ]
  },
  {
   "cell_type": "code",
   "execution_count": 54,
   "id": "2c200cbb-3c54-4a26-be36-a3ac12a09db6",
   "metadata": {},
   "outputs": [
    {
     "data": {
      "text/plain": [
       "Detections(xyxy=array([[     441.41,      615.53,      1143.3,      977.48],\n",
       "       [     1.5329,      856.95,      386.62,      1085.7],\n",
       "       [     72.525,      1017.3,      2560.2,        1440],\n",
       "       [     612.22,      1011.4,      791.76,      1087.7],\n",
       "       [     363.24,      904.92,      1704.9,        1050],\n",
       "       [       1782,      961.34,      2345.7,      1009.9],\n",
       "       [     1356.7,      967.16,      1452.5,      1049.7]], dtype=float32), mask=None, confidence=array([    0.92882,      0.8847,      0.8781,     0.78996,     0.77863,     0.61992,     0.54826], dtype=float32), class_id=array([13,  3, 18, 11, 12,  9,  2]), tracker_id=None, data={'class_name': array(['mbs_hotel', 'art_sci_museum', 'sg_river', 'lv_marina_bay', 'mbs', 'helix_bridge', 'apple_marina_bay'], dtype='<U16')}, metadata={})"
      ]
     },
     "execution_count": 54,
     "metadata": {},
     "output_type": "execute_result"
    }
   ],
   "source": [
    "frame_generator = sv.get_video_frames_generator(SOURCE_VIDEO_PATH)\n",
    "test_f = next(frame_generator)\n",
    "# sv.plot_image(test_f)\n",
    "detections = sv.Detections.from_ultralytics(results).with_nms(threshold=0.7, class_agnostic=False)\n",
    "detections"
   ]
  }
 ],
 "metadata": {
  "kernelspec": {
   "display_name": "Python 3 (ipykernel)",
   "language": "python",
   "name": "python3"
  },
  "language_info": {
   "codemirror_mode": {
    "name": "ipython",
    "version": 3
   },
   "file_extension": ".py",
   "mimetype": "text/x-python",
   "name": "python",
   "nbconvert_exporter": "python",
   "pygments_lexer": "ipython3",
   "version": "3.10.16"
  }
 },
 "nbformat": 4,
 "nbformat_minor": 5
}
